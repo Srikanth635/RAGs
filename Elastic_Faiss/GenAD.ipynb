{
 "cells": [
  {
   "cell_type": "code",
   "id": "initial_id",
   "metadata": {
    "collapsed": true,
    "ExecuteTime": {
     "end_time": "2025-03-11T09:46:30.250690Z",
     "start_time": "2025-03-11T09:46:22.658059Z"
    }
   },
   "source": [
    "from rag_elastic_faiss import *\n",
    "# initialize_settings()\n",
    "faiss,elastic, models = index_settings()"
   ],
   "outputs": [
    {
     "data": {
      "text/plain": [
       "README.md:   0%|          | 0.00/10.5k [00:00<?, ?B/s]"
      ],
      "application/vnd.jupyter.widget-view+json": {
       "version_major": 2,
       "version_minor": 0,
       "model_id": "2f24b77d669b4e2f8e38f103ccc7f5f7"
      }
     },
     "metadata": {},
     "output_type": "display_data"
    }
   ],
   "execution_count": 1
  },
  {
   "metadata": {},
   "cell_type": "markdown",
   "source": "### Prompt (cutting)",
   "id": "6d066438ce894d38"
  },
  {
   "metadata": {
    "ExecuteTime": {
     "end_time": "2025-03-11T09:46:33.232062Z",
     "start_time": "2025-03-11T09:46:33.229873Z"
    }
   },
   "cell_type": "code",
   "source": [
    "# AD_instruction = input(\"Enter query: \")\n",
    "AD_instruction = \"cut the apple with the black knife\""
   ],
   "id": "6707604913571664",
   "outputs": [],
   "execution_count": 2
  },
  {
   "metadata": {
    "ExecuteTime": {
     "end_time": "2025-03-11T09:46:34.345211Z",
     "start_time": "2025-03-11T09:46:34.342088Z"
    }
   },
   "cell_type": "code",
   "source": [
    "result = []\n",
    "for i,model in enumerate(models):\n",
    "    result.append({i,model})\n",
    "print(result)"
   ],
   "id": "201d06f4ee644a2d",
   "outputs": [
    {
     "name": "stdout",
     "output_type": "stream",
     "text": [
      "[{0, 'comprehensive'}, {1, 'flanagan motion phases'}, {'motion constraints', 2}, {3, 'framenet'}, {4, 'task constraints'}, {5, 'object'}, {'tool', 6}, {'location', 7}, {8, 'goal'}]\n"
     ]
    }
   ],
   "execution_count": 3
  },
  {
   "metadata": {
    "ExecuteTime": {
     "end_time": "2025-03-11T09:54:48.642306Z",
     "start_time": "2025-03-11T09:54:48.640394Z"
    }
   },
   "cell_type": "code",
   "source": [
    "# model = input(\"Enter specific model: \")\n",
    "model = models[0]"
   ],
   "id": "5382ff79cf7eb37b",
   "outputs": [],
   "execution_count": 7
  },
  {
   "metadata": {},
   "cell_type": "markdown",
   "source": "### Retrieval and Query",
   "id": "fca45294cdae104c"
  },
  {
   "metadata": {
    "ExecuteTime": {
     "end_time": "2025-03-11T09:55:23.164589Z",
     "start_time": "2025-03-11T09:54:50.852159Z"
    }
   },
   "cell_type": "code",
   "source": "ans = query(AD_instruction, model)",
   "id": "d8cbe443f0fd48e0",
   "outputs": [],
   "execution_count": 8
  },
  {
   "metadata": {
    "ExecuteTime": {
     "end_time": "2025-03-11T09:55:25.046416Z",
     "start_time": "2025-03-11T09:55:25.040381Z"
    }
   },
   "cell_type": "code",
   "source": "print(ans)",
   "id": "e20941b672254147",
   "outputs": [
    {
     "name": "stdout",
     "output_type": "stream",
     "text": [
      "```lisp\n",
      "(an action\n",
      "    (type cutting)\n",
      "    (object (an object\n",
      "              (type apple)\n",
      "              (name \"standard-apple\")\n",
      "              (properties (size \"medium\")\n",
      "                          (texture \"smooth\")\n",
      "                          (color \"red\"))))\n",
      "    (tool (a tool\n",
      "            (type knife)\n",
      "            (name \"black-knife\")\n",
      "            (properties (sharpness \"high\")\n",
      "                        (size \"medium\")\n",
      "                        (material \"steel\")\n",
      "                        (weight \"light\")\n",
      "                        (color \"black\")\n",
      "                        (edge \"smooth\"))))\n",
      "    (location (a location\n",
      "                (type table)\n",
      "                (name \"kitchen-table\")\n",
      "                (properties (material \"wood\")\n",
      "                            (height 0.9)\n",
      "                            (accessibility \"high\")\n",
      "                            (surface-type \"stable\"))))\n",
      "    (goal (for-object (an object\n",
      "                        (type apple)\n",
      "                        (to be-cut-into-pieces\n",
      "                          (details (type \"slice\")\n",
      "                                   (size \"uniform\")\n",
      "                                   (quantity \"multiple\"))))))\n",
      "    (task-constraints\n",
      "      (cut-type \"slices\")\n",
      "      (cut-uniformly \"true\")\n",
      "      (remove-core \"none\")\n",
      "      (remove-seeds \"none\")\n",
      "      (maintain-shape-integrity \"true\"))\n",
      "    (motion-constraints\n",
      "      (kinematic-constraints\n",
      "        (degrees-of-freedom 6)\n",
      "        (workspace (boundaries (x-min 0)\n",
      "                              (x-max 1000)\n",
      "                              (y-min 0)\n",
      "                              (y-max 1000)\n",
      "                              (z-min 0)\n",
      "                              (z-max 500))\n",
      "                   (singularity-tolerance 0.01))\n",
      "        (path-constraints (trajectory-smoothness 0.95)\n",
      "                          (collision-avoidance (enabled true)\n",
      "                                              (proximity-threshold 20))))\n",
      "      (dynamic-constraints\n",
      "        (force-control (normal-force 10)\n",
      "                       (shearing-force 5))\n",
      "        (vibration-control (damping-coefficient 0.8))\n",
      "        (torque-limits (joint-1 (max-torque 10))\n",
      "                       (joint-2 (max-torque 15)))\n",
      "        (inertia-compensation (object-inertia (x 0.003)\n",
      "                                            (y 0.003)\n",
      "                                            (z 0.002))))\n",
      "      (control-constraints\n",
      "        (motion-control (control-mode \"hybrid_force_position\")\n",
      "                        (gain-tuning (proportional-gain 1.0)\n",
      "                                     (derivative-gain 0.6)))\n",
      "        (trajectory-execution (sampling-rate 1000)\n",
      "                              (jerk-limit 30)))\n",
      "      (environmental-constraints\n",
      "        (surface (material \"wood\")\n",
      "                 (friction-coefficient 0.6)\n",
      "                 (flatness-tolerance 0.02))\n",
      "        (obstacle-avoidance (obstacles (type \"bottle\")\n",
      "                                      (position (x 300)\n",
      "                                                (y 300)\n",
      "                                                (z 0))\n",
      "                                      (dimensions (radius 50)))\n",
      "                            (avoidance-radius 20)))\n",
      "      (feedback-constraints\n",
      "        (sensors (force-sensor (sensitivity 0.1)\n",
      "                               (range 30))\n",
      "                 (camera (resolution (width 1920)\n",
      "                                    (height 1080))\n",
      "                         (field-of-view 90)\n",
      "                         (frame-rate 30))\n",
      "                 (tactile-sensor (resolution 0.01)\n",
      "                                 (sensitivity 0.05)))\n",
      "        (latency (control-loop 5)\n",
      "                 (sensor-update-rate 20)))\n",
      "      (safety-constraints\n",
      "        (force-limits (max-interaction-force 15)\n",
      "                      (human-contact-force-threshold 3))\n",
      "        (tool-safety (tool-storage-position (x 0)\n",
      "                                           (y 0)\n",
      "                                           (z 50))\n",
      "                      (disable-tool-when-idle true))\n",
      "        (collision-safety (emergency-stop (trigger-force 10)\n",
      "                                         (response-time 0.1))))))\n",
      "  (flanagan-motion-phases\n",
      "    (pre-motion-phase\n",
      "      (predictive-model\n",
      "        (expected-trajectory \"smooth downward cut\")\n",
      "        (force-model\n",
      "          (initial-force 1.0)\n",
      "          (resistance-range))\n",
      "        (tool-model\n",
      "          (sharpness \"high\")\n",
      "          (length 15)))\n",
      "      (motion-planning\n",
      "        (trajectory \"linear cut downward\")\n",
      "        (obstacle-avoidance \"none\")\n",
      "        (energy-efficiency \"optimized\")))\n",
      "    (initiation-phase\n",
      "      (initial-state\n",
      "        (robot-position)\n",
      "        (object-position '(0.5 0 0.1))\n",
      "        (tool-position '(0.4 -0.2 0.3)))\n",
      "      (motion-initialization\n",
      "        (joint-activation\n",
      "          (joint1 40)\n",
      "          (joint2 25))\n",
      "        (velocity-profile \"linear ramp-up\")))\n",
      "    (execution-phase\n",
      "      (feedforward-control\n",
      "        (predicted-forces\n",
      "          (initial-force 1.0)\n",
      "          (cutting-force-range))\n",
      "        (predicted-positions\n",
      "          (start '(0.4 -0.2 0.3))\n",
      "          (end '(0.4 -0.2 0.1)))\n",
      "        (error-tolerance\n",
      "          (position-error 0.01)\n",
      "          (force-error 0.05)))\n",
      "      (feedback-control\n",
      "        (corrective-actions\n",
      "          (adjust-trajectory true)\n",
      "          (increase-force true))\n",
      "        (sensor-feedback\n",
      "          (force 1.2)\n",
      "          (position-error 0.01)\n",
      "          (slip-detected false)))\n",
      "      (sensory-integration\n",
      "        (tactile\n",
      "          (gripper-force 3.0)\n",
      "          (cutting-force 1.2))\n",
      "        (visual\n",
      "          (object-center)\n",
      "          (knife-position '(0.4 -0.2 0.18)))\n",
      "        (proprioceptive\n",
      "          (joint-positions)\n",
      "          (joint-velocities))))\n",
      "    (interaction-phase\n",
      "      (force-adaptation\n",
      "        (grip-force\n",
      "          (initial-grip 3.0)\n",
      "          (adjusted-grip 3.5))\n",
      "        (cutting-force\n",
      "          (initial-cut 1.0)\n",
      "          (adaptive-cut 1.2)))\n",
      "      (object-modeling\n",
      "        (deformation-model\n",
      "          (elasticity 0.3)\n",
      "          (strain-limit 0.5)\n",
      "          (current-deformation 0.2))\n",
      "        (material-properties\n",
      "          (hardness 0.6)\n",
      "          (friction-coefficient 0.4))))\n",
      "    (termination-phase\n",
      "      (end-effector-stabilization\n",
      "        (final-position\n",
      "          (knife-position '(0.4 -0.2 0.0)))\n",
      "        (reset-trajectory \"linear reset to neutral position\"))\n",
      "      (success-verification\n",
      "        (outcome-check\n",
      "          (object-cut true)\n",
      "          (pieces-separated true))\n",
      "        (error-analysis\n",
      "          (cut-quality \"smooth\")\n",
      "          (deviation-from-center 0.01))))\n",
      "    (post-motion-phase\n",
      "      (learning-update\n",
      "        (model-refinement\n",
      "          (force-model-update\n",
      "            (cutting-force 1.5))\n",
      "          (trajectory-model-update\n",
      "            (deviation-correction 0.01)))\n",
      "        (reinforcement\n",
      "          (successful-cut true)\n",
      "          (reinforce-parameters\n",
      "            (grip-force 3.5))))\n",
      "      (error-correction\n",
      "        (deviation-analysis\n",
      "          (position-error 0.01)\n",
      "          (force-error 0.05)\n",
      "          (slip-event false))\n",
      "        (parameter-update\n",
      "          (cutting-force-range)\n",
      "          (grip-force-range)))))\n",
      "```\n"
     ]
    }
   ],
   "execution_count": 9
  },
  {
   "metadata": {},
   "cell_type": "markdown",
   "source": "### Save the response",
   "id": "f96697fdc54a6870"
  },
  {
   "metadata": {
    "ExecuteTime": {
     "end_time": "2025-03-04T12:19:16.758489Z",
     "start_time": "2025-03-04T12:19:16.755664Z"
    }
   },
   "cell_type": "code",
   "source": [
    "with open(\"query_response.txt\", \"w\") as f:\n",
    "    f.write(AD_instruction + \"\\n\" + ans)\n",
    "    f.close()"
   ],
   "id": "644bff5ea08a24aa",
   "outputs": [],
   "execution_count": 37
  },
  {
   "metadata": {
    "ExecuteTime": {
     "end_time": "2025-03-04T12:27:04.706184Z",
     "start_time": "2025-03-04T12:27:04.703313Z"
    }
   },
   "cell_type": "code",
   "source": [
    "import os\n",
    "import numpy as np\n",
    "import pandas as pd"
   ],
   "id": "db042d224d1048e3",
   "outputs": [],
   "execution_count": 42
  },
  {
   "metadata": {
    "ExecuteTime": {
     "end_time": "2025-03-04T12:28:12.289450Z",
     "start_time": "2025-03-04T12:28:12.286866Z"
    }
   },
   "cell_type": "code",
   "source": [
    "import torch\n",
    "from trl import SFTTrainer\n",
    "from transformers import TrainingArguments, TextStreamer\n",
    "from datasets import Dataset\n",
    "from transformers import AutoTokenizer, AutoModelForSequenceClassification\n",
    "import warnings\n",
    "warnings.filterwarnings(\"ignore\")"
   ],
   "id": "214c1f8a3b5e8a55",
   "outputs": [],
   "execution_count": 50
  },
  {
   "metadata": {
    "ExecuteTime": {
     "end_time": "2025-03-06T11:03:16.830570Z",
     "start_time": "2025-03-06T11:03:16.828600Z"
    }
   },
   "cell_type": "code",
   "source": "",
   "id": "bc1e3f702525bdf6",
   "outputs": [],
   "execution_count": null
  },
  {
   "metadata": {},
   "cell_type": "code",
   "outputs": [],
   "execution_count": null,
   "source": "",
   "id": "62a2d2ceff1488a"
  }
 ],
 "metadata": {
  "kernelspec": {
   "display_name": "llama",
   "language": "python",
   "name": "llama"
  },
  "language_info": {
   "codemirror_mode": {
    "name": "ipython",
    "version": 2
   },
   "file_extension": ".py",
   "mimetype": "text/x-python",
   "name": "python",
   "nbconvert_exporter": "python",
   "pygments_lexer": "ipython2",
   "version": "2.7.6"
  }
 },
 "nbformat": 4,
 "nbformat_minor": 5
}
