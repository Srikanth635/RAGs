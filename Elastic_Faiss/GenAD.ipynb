{
 "cells": [
  {
   "cell_type": "code",
   "id": "initial_id",
   "metadata": {
    "collapsed": true,
    "ExecuteTime": {
     "end_time": "2025-03-06T09:10:19.305112Z",
     "start_time": "2025-03-06T09:10:12.921926Z"
    }
   },
   "source": [
    "from rag_elastic_faiss import *\n",
    "# initialize_settings()\n",
    "faiss,elastic, models = index_settings()"
   ],
   "outputs": [],
   "execution_count": 1
  },
  {
   "metadata": {},
   "cell_type": "markdown",
   "source": "### Prompt (cutting)",
   "id": "6d066438ce894d38"
  },
  {
   "metadata": {
    "ExecuteTime": {
     "end_time": "2025-03-06T09:10:23.021940Z",
     "start_time": "2025-03-06T09:10:23.019489Z"
    }
   },
   "cell_type": "code",
   "source": [
    "# AD_instruction = input(\"Enter query: \")\n",
    "AD_instruction = \"cut the apple with the black knife\""
   ],
   "id": "6707604913571664",
   "outputs": [],
   "execution_count": 2
  },
  {
   "metadata": {
    "ExecuteTime": {
     "end_time": "2025-03-06T09:10:23.817294Z",
     "start_time": "2025-03-06T09:10:23.815382Z"
    }
   },
   "cell_type": "code",
   "source": [
    "result = []\n",
    "for i,model in enumerate(models):\n",
    "    result.append({i,model})\n",
    "print(result)"
   ],
   "id": "201d06f4ee644a2d",
   "outputs": [
    {
     "name": "stdout",
     "output_type": "stream",
     "text": [
      "[{0, 'comprehensive'}, {1, 'flanagan motion phases'}, {2, 'motion constraints'}, {3, 'framenet'}, {'task constraints', 4}, {5, 'object'}, {'tool', 6}, {'location', 7}, {8, 'goal'}]\n"
     ]
    }
   ],
   "execution_count": 3
  },
  {
   "metadata": {
    "ExecuteTime": {
     "end_time": "2025-03-06T09:10:33.412685Z",
     "start_time": "2025-03-06T09:10:33.410007Z"
    }
   },
   "cell_type": "code",
   "source": [
    "# model = input(\"Enter specific model: \")\n",
    "model = models[1]"
   ],
   "id": "5382ff79cf7eb37b",
   "outputs": [],
   "execution_count": 4
  },
  {
   "metadata": {},
   "cell_type": "markdown",
   "source": "### Retrieval and Query",
   "id": "fca45294cdae104c"
  },
  {
   "metadata": {
    "ExecuteTime": {
     "end_time": "2025-03-06T09:10:54.917273Z",
     "start_time": "2025-03-06T09:10:36.917227Z"
    }
   },
   "cell_type": "code",
   "source": "ans = query(AD_instruction, model)",
   "id": "d8cbe443f0fd48e0",
   "outputs": [
    {
     "name": "stderr",
     "output_type": "stream",
     "text": [
      "/home/malineni/PycharmProjects/Llama_index/Elastic_Faiss/rag_elastic_faiss.py:61: ElasticsearchWarning: Elasticsearch built-in security features are not enabled. Without authentication, your cluster could be accessible to anyone. See https://www.elastic.co/guide/en/elasticsearch/reference/7.17/security-minimal-setup.html to enable security.\n",
      "  response = es.search(index=index_name, body={\"query\": query})\n"
     ]
    }
   ],
   "execution_count": 5
  },
  {
   "metadata": {
    "ExecuteTime": {
     "end_time": "2025-03-06T09:10:54.934898Z",
     "start_time": "2025-03-06T09:10:54.928979Z"
    }
   },
   "cell_type": "code",
   "source": "print(ans)",
   "id": "e20941b672254147",
   "outputs": [
    {
     "name": "stdout",
     "output_type": "stream",
     "text": [
      "```\n",
      "(flanagan-motion-phases\n",
      "  (pre-motion-phase\n",
      "    (predictive-model\n",
      "      (expected-trajectory \"smooth slicing motion\")\n",
      "      (force-model\n",
      "        (initial-force 1.2)\n",
      "        (resistance-range))\n",
      "      (tool-model\n",
      "        (sharpness \"high\")\n",
      "        (length 15)))\n",
      "    (motion-planning\n",
      "      (trajectory \"linear downward slice\")\n",
      "      (obstacle-avoidance \"enabled\")\n",
      "      (energy-efficiency \"optimized\")))\n",
      "  (initiation-phase\n",
      "    (initial-state\n",
      "      (robot-position)\n",
      "      (object-position '(0.4 0 0.05))\n",
      "      (tool-position '(0.4 -0.2 0.3)))\n",
      "    (motion-initialization\n",
      "      (joint-activation\n",
      "        (joint1 35)\n",
      "        (joint2 20))\n",
      "      (velocity-profile \"linear ramp-up\")))\n",
      "  (execution-phase\n",
      "    (feedforward-control\n",
      "      (predicted-forces\n",
      "        (initial-force 1.2)\n",
      "        (cutting-force-range))\n",
      "      (predicted-positions\n",
      "        (start '(0.4 -0.2 0.3))\n",
      "        (end '(0.4 -0.2 0.05)))\n",
      "      (error-tolerance\n",
      "        (position-error 0.01)\n",
      "        (force-error 0.04)))\n",
      "    (feedback-control\n",
      "      (corrective-actions\n",
      "        (adjust-trajectory true)\n",
      "        (increase-force true))\n",
      "      (sensor-feedback\n",
      "        (force 1.3)\n",
      "        (position-error 0.01)\n",
      "        (slip-detected false)))\n",
      "    (sensory-integration\n",
      "      (tactile\n",
      "        (gripper-force 3.1)\n",
      "        (cutting-force 1.2))\n",
      "      (visual\n",
      "        (object-center)\n",
      "        (knife-position '(0.4 -0.2 0.25)))\n",
      "      (proprioceptive\n",
      "        (joint-positions)\n",
      "        (joint-velocities))))\n",
      "  (interaction-phase\n",
      "    (force-adaptation\n",
      "      (grip-force\n",
      "        (initial-grip 3.0)\n",
      "        (adjusted-grip 3.5))\n",
      "      (cutting-force\n",
      "        (initial-cut 1.2)\n",
      "        (adaptive-cut 1.3)))\n",
      "    (object-modeling\n",
      "      (deformation-model\n",
      "        (elasticity 0.3)\n",
      "        (strain-limit 0.5)\n",
      "        (current-deformation 0.2))\n",
      "      (material-properties\n",
      "        (hardness 0.5)\n",
      "        (friction-coefficient 0.4))))\n",
      "  (termination-phase\n",
      "    (end-effector-stabilization\n",
      "      (final-position\n",
      "        (knife-position '(0.4 -0.2 0.0)))\n",
      "      (reset-trajectory \"linear reset to neutral position\"))\n",
      "    (success-verification\n",
      "      (outcome-check\n",
      "        (object-cut true)\n",
      "        (pieces-separated true))\n",
      "      (error-analysis\n",
      "        (cut-quality \"smooth\")\n",
      "        (deviation-from-center 0.01))))\n",
      "  (post-motion-phase\n",
      "    (learning-update\n",
      "      (model-refinement\n",
      "        (force-model-update\n",
      "          (cutting-force 1.4))\n",
      "        (trajectory-model-update\n",
      "          (deviation-correction 0.01)))\n",
      "      (reinforcement\n",
      "        (successful-cut true)\n",
      "        (reinforce-parameters\n",
      "          (grip-force 3.5))))\n",
      "    (error-correction\n",
      "      (deviation-analysis\n",
      "        (position-error 0.01)\n",
      "        (force-error 0.04)\n",
      "        (slip-event false))\n",
      "      (parameter-update\n",
      "        (cutting-force-range)\n",
      "        (grip-force-range)))))\n",
      "```\n"
     ]
    }
   ],
   "execution_count": 6
  },
  {
   "metadata": {},
   "cell_type": "markdown",
   "source": "### Save the response",
   "id": "f96697fdc54a6870"
  },
  {
   "metadata": {
    "ExecuteTime": {
     "end_time": "2025-03-04T12:19:16.758489Z",
     "start_time": "2025-03-04T12:19:16.755664Z"
    }
   },
   "cell_type": "code",
   "source": [
    "with open(\"query_response.txt\", \"w\") as f:\n",
    "    f.write(AD_instruction + \"\\n\" + ans)\n",
    "    f.close()"
   ],
   "id": "644bff5ea08a24aa",
   "outputs": [],
   "execution_count": 37
  },
  {
   "metadata": {
    "ExecuteTime": {
     "end_time": "2025-03-04T12:27:04.706184Z",
     "start_time": "2025-03-04T12:27:04.703313Z"
    }
   },
   "cell_type": "code",
   "source": [
    "import os\n",
    "import numpy as np\n",
    "import pandas as pd"
   ],
   "id": "db042d224d1048e3",
   "outputs": [],
   "execution_count": 42
  },
  {
   "metadata": {
    "ExecuteTime": {
     "end_time": "2025-03-04T12:28:12.289450Z",
     "start_time": "2025-03-04T12:28:12.286866Z"
    }
   },
   "cell_type": "code",
   "source": [
    "import torch\n",
    "from trl import SFTTrainer\n",
    "from transformers import TrainingArguments, TextStreamer\n",
    "from datasets import Dataset\n",
    "from transformers import AutoTokenizer, AutoModelForSequenceClassification\n",
    "import warnings\n",
    "warnings.filterwarnings(\"ignore\")"
   ],
   "id": "214c1f8a3b5e8a55",
   "outputs": [],
   "execution_count": 50
  },
  {
   "metadata": {
    "ExecuteTime": {
     "end_time": "2025-03-06T11:03:16.830570Z",
     "start_time": "2025-03-06T11:03:16.828600Z"
    }
   },
   "cell_type": "code",
   "source": "",
   "id": "bc1e3f702525bdf6",
   "outputs": [],
   "execution_count": null
  },
  {
   "metadata": {},
   "cell_type": "code",
   "outputs": [],
   "execution_count": null,
   "source": "",
   "id": "62a2d2ceff1488a"
  }
 ],
 "metadata": {
  "kernelspec": {
   "display_name": "llama",
   "language": "python",
   "name": "llama"
  },
  "language_info": {
   "codemirror_mode": {
    "name": "ipython",
    "version": 2
   },
   "file_extension": ".py",
   "mimetype": "text/x-python",
   "name": "python",
   "nbconvert_exporter": "python",
   "pygments_lexer": "ipython2",
   "version": "2.7.6"
  }
 },
 "nbformat": 4,
 "nbformat_minor": 5
}
