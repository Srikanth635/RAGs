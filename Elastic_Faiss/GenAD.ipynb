{
 "cells": [
  {
   "cell_type": "code",
   "id": "initial_id",
   "metadata": {
    "collapsed": true,
    "ExecuteTime": {
     "end_time": "2025-02-25T16:06:46.012086Z",
     "start_time": "2025-02-25T16:06:46.010236Z"
    }
   },
   "source": [
    "from rag_elastic_faiss import *\n",
    "# initialize_settings()\n",
    "faiss,elastic, models = index_settings()"
   ],
   "outputs": [],
   "execution_count": 41
  },
  {
   "metadata": {},
   "cell_type": "markdown",
   "source": "### Prompt (cutting)",
   "id": "6d066438ce894d38"
  },
  {
   "metadata": {
    "ExecuteTime": {
     "end_time": "2025-02-25T16:06:47.746374Z",
     "start_time": "2025-02-25T16:06:47.744087Z"
    }
   },
   "cell_type": "code",
   "source": [
    "# AD_instruction = input(\"Enter query: \")\n",
    "AD_instruction = \"cut the apple with the black knife\""
   ],
   "id": "6707604913571664",
   "outputs": [],
   "execution_count": 42
  },
  {
   "metadata": {
    "ExecuteTime": {
     "end_time": "2025-02-25T16:06:48.202556Z",
     "start_time": "2025-02-25T16:06:48.200238Z"
    }
   },
   "cell_type": "code",
   "source": [
    "result = []\n",
    "for i,model in enumerate(models):\n",
    "    result.append({i,model})\n",
    "print(result)"
   ],
   "id": "201d06f4ee644a2d",
   "outputs": [
    {
     "name": "stdout",
     "output_type": "stream",
     "text": [
      "[{0, 'comprehensive'}, {1, 'flanagan motion phases'}, {2, 'motion constraints'}, {3, 'framenet'}, {'task constraints', 4}, {'object', 5}, {'tool', 6}, {'location', 7}, {8, 'goal'}]\n"
     ]
    }
   ],
   "execution_count": 43
  },
  {
   "metadata": {
    "ExecuteTime": {
     "end_time": "2025-02-25T16:06:54.707017Z",
     "start_time": "2025-02-25T16:06:54.704694Z"
    }
   },
   "cell_type": "code",
   "source": [
    "# model = input(\"Enter specific model: \")\n",
    "model = models[1]"
   ],
   "id": "5382ff79cf7eb37b",
   "outputs": [],
   "execution_count": 45
  },
  {
   "metadata": {},
   "cell_type": "markdown",
   "source": "### Retrieval and Query",
   "id": "fca45294cdae104c"
  },
  {
   "metadata": {
    "ExecuteTime": {
     "end_time": "2025-02-25T16:07:12.440177Z",
     "start_time": "2025-02-25T16:06:55.513370Z"
    }
   },
   "cell_type": "code",
   "source": "ans = query(AD_instruction, model)",
   "id": "d8cbe443f0fd48e0",
   "outputs": [],
   "execution_count": 46
  },
  {
   "metadata": {
    "ExecuteTime": {
     "end_time": "2025-02-25T16:07:12.446710Z",
     "start_time": "2025-02-25T16:07:12.444829Z"
    }
   },
   "cell_type": "code",
   "source": "print(ans)",
   "id": "e20941b672254147",
   "outputs": [
    {
     "name": "stdout",
     "output_type": "stream",
     "text": [
      "```lisp\n",
      "(flanagan-motion-phases\n",
      "  (pre-motion-phase\n",
      "    (predictive-model\n",
      "      (expected-trajectory \"smooth downward cut\")\n",
      "      (force-model\n",
      "        (initial-force 1.0)\n",
      "        (resistance-range))\n",
      "      (tool-model\n",
      "        (sharpness \"high\")\n",
      "        (length 15)))\n",
      "    (motion-planning\n",
      "      (trajectory \"linear cut downward\")\n",
      "      (obstacle-avoidance \"none\")\n",
      "      (energy-efficiency \"optimized\")))\n",
      "  (initiation-phase\n",
      "    (initial-state\n",
      "      (robot-position)\n",
      "      (object-position '(0.4 0 0.1))\n",
      "      (tool-position '(0.4 -0.2 0.2)))\n",
      "    (motion-initialization\n",
      "      (joint-activation\n",
      "        (joint1 45)\n",
      "        (joint2 30))\n",
      "      (velocity-profile \"linear ramp-up\")))\n",
      "  (execution-phase\n",
      "    (feedforward-control\n",
      "      (predicted-forces\n",
      "        (initial-force 1.0)\n",
      "        (cutting-force-range))\n",
      "      (predicted-positions\n",
      "        (start '(0.4 -0.2 0.2))\n",
      "        (end '(0.4 -0.2 0.1)))\n",
      "      (error-tolerance\n",
      "        (position-error 0.01)\n",
      "        (force-error 0.05)))\n",
      "    (feedback-control\n",
      "      (corrective-actions\n",
      "        (adjust-trajectory true)\n",
      "        (increase-force true))\n",
      "      (sensor-feedback\n",
      "        (force 1.2)\n",
      "        (position-error 0.01)\n",
      "        (slip-detected false)))\n",
      "    (sensory-integration\n",
      "      (tactile\n",
      "        (gripper-force 3.0)\n",
      "        (cutting-force 1.2))\n",
      "      (visual\n",
      "        (object-center)\n",
      "        (knife-position '(0.4 -0.2 0.15)))\n",
      "      (proprioceptive\n",
      "        (joint-positions)\n",
      "        (joint-velocities))))\n",
      "  (interaction-phase\n",
      "    (force-adaptation\n",
      "      (grip-force\n",
      "        (initial-grip 3.0)\n",
      "        (adjusted-grip 3.5))\n",
      "      (cutting-force\n",
      "        (initial-cut 1.0)\n",
      "        (adaptive-cut 1.2)))\n",
      "    (object-modeling\n",
      "      (deformation-model\n",
      "        (elasticity 0.3)\n",
      "        (strain-limit 0.5)\n",
      "        (current-deformation 0.2))\n",
      "      (material-properties\n",
      "        (hardness 0.6)\n",
      "        (friction-coefficient 0.4))))\n",
      "  (termination-phase\n",
      "    (end-effector-stabilization\n",
      "      (final-position\n",
      "        (knife-position '(0.4 -0.2 0.0)))\n",
      "      (reset-trajectory \"linear reset to neutral position\"))\n",
      "    (success-verification\n",
      "      (outcome-check\n",
      "        (object-cut true)\n",
      "        (pieces-separated true))\n",
      "      (error-analysis\n",
      "        (cut-quality \"smooth\")\n",
      "        (deviation-from-center 0.01))))\n",
      "  (post-motion-phase\n",
      "    (learning-update\n",
      "      (model-refinement\n",
      "        (force-model-update\n",
      "          (cutting-force 1.5))\n",
      "        (trajectory-model-update\n",
      "          (deviation-correction 0.01)))\n",
      "      (reinforcement\n",
      "        (successful-cut true)\n",
      "        (reinforce-parameters\n",
      "          (grip-force 3.5))))\n",
      "    (error-correction\n",
      "      (deviation-analysis\n",
      "        (position-error 0.01)\n",
      "        (force-error 0.05)\n",
      "        (slip-event false))\n",
      "      (parameter-update\n",
      "        (cutting-force-range)\n",
      "        (grip-force-range)))))\n",
      "```\n"
     ]
    }
   ],
   "execution_count": 47
  },
  {
   "metadata": {},
   "cell_type": "markdown",
   "source": "### Save the response",
   "id": "f96697fdc54a6870"
  },
  {
   "metadata": {},
   "cell_type": "code",
   "outputs": [],
   "execution_count": null,
   "source": [
    "# with open(\"query_response.txt\", \"w\") as f:\n",
    "#     f.write(query + \"\\n\" + ans)\n",
    "#     f.close()"
   ],
   "id": "644bff5ea08a24aa"
  }
 ],
 "metadata": {
  "kernelspec": {
   "display_name": "Python 3",
   "language": "python",
   "name": "python3"
  },
  "language_info": {
   "codemirror_mode": {
    "name": "ipython",
    "version": 2
   },
   "file_extension": ".py",
   "mimetype": "text/x-python",
   "name": "python",
   "nbconvert_exporter": "python",
   "pygments_lexer": "ipython2",
   "version": "2.7.6"
  }
 },
 "nbformat": 4,
 "nbformat_minor": 5
}
