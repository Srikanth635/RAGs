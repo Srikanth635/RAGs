{
 "cells": [
  {
   "cell_type": "code",
   "id": "initial_id",
   "metadata": {
    "collapsed": true,
    "ExecuteTime": {
     "end_time": "2025-04-23T09:37:13.265961Z",
     "start_time": "2025-04-23T09:37:08.295747Z"
    }
   },
   "source": [
    "from rag_elastic_faiss import *\n",
    "# initialize_settings()\n",
    "faiss,elastic, models = index_settings()"
   ],
   "outputs": [],
   "execution_count": 1
  },
  {
   "metadata": {},
   "cell_type": "markdown",
   "source": "### Prompt (cutting)",
   "id": "6d066438ce894d38"
  },
  {
   "metadata": {
    "ExecuteTime": {
     "end_time": "2025-03-21T14:45:00.096895Z",
     "start_time": "2025-03-21T14:45:00.092383Z"
    }
   },
   "cell_type": "code",
   "source": [
    "# AD_instruction = input(\"Enter query: \")\n",
    "AD_instruction = \"cut the apple with the black knife\""
   ],
   "id": "6707604913571664",
   "outputs": [],
   "execution_count": 2
  },
  {
   "metadata": {
    "ExecuteTime": {
     "end_time": "2025-03-21T14:45:00.476741Z",
     "start_time": "2025-03-21T14:45:00.470948Z"
    }
   },
   "cell_type": "code",
   "source": [
    "result = []\n",
    "for i,model in enumerate(models):\n",
    "    result.append({i,model})\n",
    "print(result) # models = [\"comprehensive\", \"flanagan motion phases\", \"motion constraints\", \"framenet\", \"task constraints\", \"object\",\n",
    "             # \"tool\", \"location\", \"goal\"]"
   ],
   "id": "201d06f4ee644a2d",
   "outputs": [
    {
     "name": "stdout",
     "output_type": "stream",
     "text": [
      "[{0, 'comprehensive'}, {1, 'flanagan motion phases'}, {'motion constraints', 2}, {'framenet', 3}, {4, 'task constraints'}, {'object', 5}, {'tool', 6}, {'location', 7}, {8, 'goal'}]\n"
     ]
    }
   ],
   "execution_count": 3
  },
  {
   "metadata": {
    "ExecuteTime": {
     "end_time": "2025-03-21T14:45:05.704409Z",
     "start_time": "2025-03-21T14:45:05.700023Z"
    }
   },
   "cell_type": "code",
   "source": [
    "# model = input(\"Enter specific model: \")\n",
    "model = models[3]"
   ],
   "id": "5382ff79cf7eb37b",
   "outputs": [],
   "execution_count": 4
  },
  {
   "metadata": {},
   "cell_type": "markdown",
   "source": "### Retrieval and Query",
   "id": "fca45294cdae104c"
  },
  {
   "metadata": {
    "ExecuteTime": {
     "end_time": "2025-03-21T14:45:09.456899Z",
     "start_time": "2025-03-21T14:45:06.555702Z"
    }
   },
   "cell_type": "code",
   "source": "ans = query(AD_instruction, model)",
   "id": "d8cbe443f0fd48e0",
   "outputs": [
    {
     "name": "stderr",
     "output_type": "stream",
     "text": [
      "/home/malineni/PycharmProjects/Llama_index/Elastic_Faiss/rag_elastic_faiss.py:61: ElasticsearchWarning: Elasticsearch built-in security features are not enabled. Without authentication, your cluster could be accessible to anyone. See https://www.elastic.co/guide/en/elasticsearch/reference/7.17/security-minimal-setup.html to enable security.\n",
      "  response = es.search(index=index_name, body={\"query\": query})\n"
     ]
    }
   ],
   "execution_count": 5
  },
  {
   "metadata": {
    "ExecuteTime": {
     "end_time": "2025-03-21T14:45:09.469899Z",
     "start_time": "2025-03-21T14:45:09.465885Z"
    }
   },
   "cell_type": "code",
   "source": "print(ans)",
   "id": "e20941b672254147",
   "outputs": [
    {
     "name": "stdout",
     "output_type": "stream",
     "text": [
      "```lisp\n",
      "(framenet\n",
      "  (frame \"Cutting\")\n",
      "  (core-elements\n",
      "    (agent \"robot\")\n",
      "    (patient \"apple\")\n",
      "    (instrument \"black knife\")\n",
      "    (result \"slices\"))\n",
      "  (peripheral-elements\n",
      "    (location \"table\")\n",
      "    (manner \"smoothly\")\n",
      "    (purpose \"prepare-food\")\n",
      "    (time \"now\")\n",
      "    (degree \"completely\")))\n",
      "```\n"
     ]
    }
   ],
   "execution_count": 6
  },
  {
   "metadata": {},
   "cell_type": "markdown",
   "source": "### Save the response",
   "id": "f96697fdc54a6870"
  },
  {
   "metadata": {
    "ExecuteTime": {
     "end_time": "2025-03-19T13:03:06.721606Z",
     "start_time": "2025-03-19T13:03:06.718648Z"
    }
   },
   "cell_type": "code",
   "source": [
    "with open(\"query_response.txt\", \"w\") as f:\n",
    "    f.write(AD_instruction + \"\\n\" + ans)\n",
    "    f.close()"
   ],
   "id": "644bff5ea08a24aa",
   "outputs": [],
   "execution_count": 25
  },
  {
   "metadata": {
    "ExecuteTime": {
     "end_time": "2025-03-04T12:27:04.706184Z",
     "start_time": "2025-03-04T12:27:04.703313Z"
    }
   },
   "cell_type": "code",
   "source": [
    "import os\n",
    "import numpy as np\n",
    "import pandas as pd"
   ],
   "id": "db042d224d1048e3",
   "outputs": [],
   "execution_count": 42
  },
  {
   "metadata": {
    "ExecuteTime": {
     "end_time": "2025-03-04T12:28:12.289450Z",
     "start_time": "2025-03-04T12:28:12.286866Z"
    }
   },
   "cell_type": "code",
   "source": [
    "import torch\n",
    "from trl import SFTTrainer\n",
    "from transformers import TrainingArguments, TextStreamer\n",
    "from datasets import Dataset\n",
    "from transformers import AutoTokenizer, AutoModelForSequenceClassification\n",
    "import warnings\n",
    "warnings.filterwarnings(\"ignore\")"
   ],
   "id": "214c1f8a3b5e8a55",
   "outputs": [],
   "execution_count": 50
  },
  {
   "metadata": {
    "ExecuteTime": {
     "end_time": "2025-03-06T11:03:16.830570Z",
     "start_time": "2025-03-06T11:03:16.828600Z"
    }
   },
   "cell_type": "code",
   "source": "",
   "id": "bc1e3f702525bdf6",
   "outputs": [],
   "execution_count": null
  },
  {
   "metadata": {},
   "cell_type": "code",
   "outputs": [],
   "execution_count": null,
   "source": "",
   "id": "62a2d2ceff1488a"
  }
 ],
 "metadata": {
  "kernelspec": {
   "display_name": "llama",
   "language": "python",
   "name": "llama"
  },
  "language_info": {
   "codemirror_mode": {
    "name": "ipython",
    "version": 2
   },
   "file_extension": ".py",
   "mimetype": "text/x-python",
   "name": "python",
   "nbconvert_exporter": "python",
   "pygments_lexer": "ipython2",
   "version": "2.7.6"
  }
 },
 "nbformat": 4,
 "nbformat_minor": 5
}
