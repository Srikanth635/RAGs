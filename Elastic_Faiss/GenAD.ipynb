{
 "cells": [
  {
   "cell_type": "code",
   "id": "initial_id",
   "metadata": {
    "collapsed": true,
    "ExecuteTime": {
     "end_time": "2025-02-25T14:05:23.600644Z",
     "start_time": "2025-02-25T14:05:17.869121Z"
    }
   },
   "source": [
    "from rag_elastic_faiss import *\n",
    "initialize_settings()\n",
    "faiss,elastic, models = index_settings()"
   ],
   "outputs": [],
   "execution_count": 1
  },
  {
   "metadata": {},
   "cell_type": "markdown",
   "source": "### Prompt (cutting)",
   "id": "6d066438ce894d38"
  },
  {
   "metadata": {
    "ExecuteTime": {
     "end_time": "2025-02-25T14:05:24.732106Z",
     "start_time": "2025-02-25T14:05:24.730177Z"
    }
   },
   "cell_type": "code",
   "source": [
    "# AD_instruction = input(\"Enter query: \")\n",
    "AD_instruction = \"cut the apple with the black knife\""
   ],
   "id": "6707604913571664",
   "outputs": [],
   "execution_count": 2
  },
  {
   "metadata": {
    "ExecuteTime": {
     "end_time": "2025-02-25T14:08:59.497353Z",
     "start_time": "2025-02-25T14:08:59.495265Z"
    }
   },
   "cell_type": "code",
   "source": [
    "result = []\n",
    "for i,model in enumerate(models):\n",
    "    result.append({i,model})\n",
    "print(result)"
   ],
   "id": "201d06f4ee644a2d",
   "outputs": [
    {
     "name": "stdout",
     "output_type": "stream",
     "text": [
      "[{0, 'comprehensive'}, {1, 'flanagan motion phases'}, {2, 'motion constraints'}, {3, 'framenet'}, {'task constraints', 4}, {'object', 5}, {'tool', 6}, {'location', 7}, {8, 'goal'}]\n"
     ]
    }
   ],
   "execution_count": 10
  },
  {
   "metadata": {
    "ExecuteTime": {
     "end_time": "2025-02-25T15:08:09.609438Z",
     "start_time": "2025-02-25T15:08:09.607167Z"
    }
   },
   "cell_type": "code",
   "source": [
    "# model = input(\"Enter specific model: \")\n",
    "model = models[8]"
   ],
   "id": "5382ff79cf7eb37b",
   "outputs": [],
   "execution_count": 38
  },
  {
   "metadata": {},
   "cell_type": "markdown",
   "source": "### Retrieval and Query",
   "id": "fca45294cdae104c"
  },
  {
   "metadata": {
    "ExecuteTime": {
     "end_time": "2025-02-25T15:08:12.245935Z",
     "start_time": "2025-02-25T15:08:10.223178Z"
    }
   },
   "cell_type": "code",
   "source": "ans = query(AD_instruction, model)",
   "id": "d8cbe443f0fd48e0",
   "outputs": [],
   "execution_count": 39
  },
  {
   "metadata": {
    "ExecuteTime": {
     "end_time": "2025-02-25T15:08:12.251545Z",
     "start_time": "2025-02-25T15:08:12.249695Z"
    }
   },
   "cell_type": "code",
   "source": "print(ans)",
   "id": "e20941b672254147",
   "outputs": [
    {
     "name": "stdout",
     "output_type": "stream",
     "text": [
      "```lisp\n",
      "(goal (for-object (an object\n",
      "                        (type apple)\n",
      "                        (to be-cut-into-pieces\n",
      "                          (details (type \"slice\")\n",
      "                                   (size \"arbitrary\"))))))\n",
      "```\n"
     ]
    }
   ],
   "execution_count": 40
  },
  {
   "metadata": {},
   "cell_type": "markdown",
   "source": "### Save the response",
   "id": "f96697fdc54a6870"
  },
  {
   "metadata": {},
   "cell_type": "code",
   "outputs": [],
   "execution_count": null,
   "source": [
    "# with open(\"query_response.txt\", \"w\") as f:\n",
    "#     f.write(query + \"\\n\" + ans)\n",
    "#     f.close()"
   ],
   "id": "644bff5ea08a24aa"
  }
 ],
 "metadata": {
  "kernelspec": {
   "display_name": "Python 3",
   "language": "python",
   "name": "python3"
  },
  "language_info": {
   "codemirror_mode": {
    "name": "ipython",
    "version": 2
   },
   "file_extension": ".py",
   "mimetype": "text/x-python",
   "name": "python",
   "nbconvert_exporter": "python",
   "pygments_lexer": "ipython2",
   "version": "2.7.6"
  }
 },
 "nbformat": 4,
 "nbformat_minor": 5
}
