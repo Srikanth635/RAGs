{
 "cells": [
  {
   "cell_type": "code",
   "id": "initial_id",
   "metadata": {
    "collapsed": true,
    "ExecuteTime": {
     "end_time": "2025-02-18T09:50:55.074622Z",
     "start_time": "2025-02-18T09:50:55.062456Z"
    }
   },
   "source": [
    "import owlready2\n",
    "from owlready2 import *"
   ],
   "outputs": [],
   "execution_count": 1
  },
  {
   "metadata": {
    "ExecuteTime": {
     "end_time": "2025-02-18T09:51:28.935598Z",
     "start_time": "2025-02-18T09:51:28.371476Z"
    }
   },
   "cell_type": "code",
   "source": [
    "ontology_file = \"OWLs/SOMA.owl\"\n",
    "onto = get_ontology(ontology_file).load()\n",
    "top_level_classes = [cls for cls in onto.classes() if cls.is_a == [owl.Thing]]\n",
    "\n",
    "entity_class = \"\"\n",
    "for cls in top_level_classes:\n",
    "    if cls.name == \"Entity\":\n",
    "        entity_class = cls\n",
    "\n",
    "entity_level_classes = entity_class.subclasses()\n",
    "entity_classes = []\n",
    "\n",
    "for cls in entity_level_classes:\n",
    "    entity_classes.append(cls)"
   ],
   "id": "1e831d9cd6429a75",
   "outputs": [],
   "execution_count": 2
  },
  {
   "metadata": {
    "ExecuteTime": {
     "end_time": "2025-02-18T09:51:43.496143Z",
     "start_time": "2025-02-18T09:51:43.492509Z"
    }
   },
   "cell_type": "code",
   "source": "entity_classes",
   "id": "8538a5fad056ec28",
   "outputs": [
    {
     "data": {
      "text/plain": [
       "[DUL.Event,\n",
       " DUL.Quality,\n",
       " DUL.Object,\n",
       " DUL.Situation,\n",
       " DUL.Abstract,\n",
       " DUL.InformationEntity]"
      ]
     },
     "execution_count": 3,
     "metadata": {},
     "output_type": "execute_result"
    }
   ],
   "execution_count": 3
  },
  {
   "metadata": {
    "ExecuteTime": {
     "end_time": "2025-02-18T09:53:12.993835Z",
     "start_time": "2025-02-18T09:53:12.991819Z"
    }
   },
   "cell_type": "code",
   "source": [
    "for cls in entity_classes[0].subclasses():\n",
    "    print(cls)"
   ],
   "id": "1f44f2147e60d622",
   "outputs": [
    {
     "name": "stdout",
     "output_type": "stream",
     "text": [
      "SOMA.State\n",
      "SOMA.Accident\n",
      "DUL.Action\n",
      "DUL.Process\n"
     ]
    }
   ],
   "execution_count": 8
  },
  {
   "metadata": {
    "ExecuteTime": {
     "end_time": "2025-02-18T10:38:58.052735Z",
     "start_time": "2025-02-18T10:38:58.048437Z"
    }
   },
   "cell_type": "code",
   "source": [
    "from owlready2 import *\n",
    "\n",
    "# Create a new ontology\n",
    "onto = get_ontology(\"http://example.org/carrot_cutting.owl\")\n",
    "\n",
    "# Define classes\n",
    "with onto:\n",
    "    class Action(Thing): pass\n",
    "    class Object(Thing): pass\n",
    "    class Tool(Thing): pass\n",
    "    class Location(Thing): pass\n",
    "    class MotionPhase(Thing): pass\n",
    "    class Affordance(Thing): pass\n",
    "    class Outcome(Thing): pass\n",
    "\n",
    "# Define properties\n",
    "with onto:\n",
    "    class has_object(Object): pass\n",
    "    class has_tool(Tool): pass\n",
    "    class has_location(Location): pass\n",
    "    class has_motion_phase(MotionPhase): pass\n",
    "    class has_affordance(Affordance): pass\n",
    "    class has_outcome(Outcome): pass\n",
    "\n",
    "# Create individuals\n",
    "action = Action(\"CutCarrotIntoMatchsticks\")\n",
    "carrot = Object(\"Carrot\")\n",
    "knife = Tool(\"Knife\")\n",
    "cutting_board = Location(\"CuttingBoard\")\n",
    "phase1 = MotionPhase(\"ApproachCarrot\")\n",
    "phase2 = MotionPhase(\"ApplyCuttingForce\")\n",
    "affordance = Affordance(\"CarrotAffordances\")\n",
    "outcome = Outcome(\"CarrotCutIntoMatchsticks\")\n",
    "\n",
    "# Add properties\n",
    "action.has_object = [carrot]\n",
    "action.has_tool = [knife]\n",
    "action.has_location = [cutting_board]\n",
    "action.has_motion_phase = [phase1, phase2]\n",
    "action.has_affordance = [affordance]\n",
    "action.has_outcome = [outcome]\n",
    "\n",
    "# Save the ontology\n",
    "onto.save(\"carrot_cutting.owl\")"
   ],
   "id": "6f1e10c9a5a91087",
   "outputs": [],
   "execution_count": 9
  },
  {
   "metadata": {},
   "cell_type": "code",
   "outputs": [],
   "execution_count": null,
   "source": "",
   "id": "dd540007454a6d3"
  }
 ],
 "metadata": {
  "kernelspec": {
   "display_name": "llama",
   "language": "python",
   "name": "llama"
  },
  "language_info": {
   "codemirror_mode": {
    "name": "ipython",
    "version": 2
   },
   "file_extension": ".py",
   "mimetype": "text/x-python",
   "name": "python",
   "nbconvert_exporter": "python",
   "pygments_lexer": "ipython2",
   "version": "2.7.6"
  }
 },
 "nbformat": 4,
 "nbformat_minor": 5
}
