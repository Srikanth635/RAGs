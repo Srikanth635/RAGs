{
 "cells": [
  {
   "cell_type": "code",
   "id": "initial_id",
   "metadata": {
    "collapsed": true,
    "ExecuteTime": {
     "end_time": "2025-01-23T11:58:22.763132Z",
     "start_time": "2025-01-23T11:58:22.747997Z"
    }
   },
   "source": [
    "from owlready2 import *\n",
    "\n",
    "def extract_metadata(entity):\n",
    "    \"\"\"\n",
    "    Extract metadata for a given OWL entity (e.g., comment, label, defined_by).\n",
    "    \"\"\"\n",
    "    metadata = {}\n",
    "    if hasattr(entity, 'comment'):\n",
    "        metadata['comment'] = entity.comment\n",
    "    if hasattr(entity, 'label'):\n",
    "        metadata['label'] = entity.label\n",
    "    if hasattr(entity, 'isDefinedBy'):\n",
    "        metadata['defined_by'] = [str(x) for x in entity.isDefinedBy]\n",
    "    if hasattr(entity, 'iri'):\n",
    "        metadata['iri'] = entity.iri\n",
    "    return metadata\n",
    "\n",
    "def extract_classes(ontology):\n",
    "    \"\"\"\n",
    "    Extract all classes in the ontology as a list of dictionaries, including subclasses.\n",
    "    \"\"\"\n",
    "    classes = []\n",
    "    for cls in ontology.classes():\n",
    "        class_info = {'name': cls.name}\n",
    "        class_info.update(extract_metadata(cls))\n",
    "        # Add subclasses\n",
    "        class_info['subclasses'] = [sub.name for sub in cls.subclasses()]\n",
    "        classes.append(class_info)\n",
    "    return classes\n",
    "\n",
    "def extract_object_properties(ontology):\n",
    "    \"\"\"Extract all object properties in the ontology as a list of dictionaries.\"\"\"\n",
    "    object_properties = []\n",
    "    for prop in ontology.object_properties():\n",
    "        prop_info = {'name': prop.name}\n",
    "        prop_info.update(extract_metadata(prop))\n",
    "        object_properties.append(prop_info)\n",
    "    return object_properties\n",
    "\n",
    "def extract_data_properties(ontology):\n",
    "    \"\"\"Extract all new_logs properties in the ontology as a list of dictionaries.\"\"\"\n",
    "    data_properties = []\n",
    "    for prop in ontology.data_properties():\n",
    "        prop_info = {'name': prop.name}\n",
    "        prop_info.update(extract_metadata(prop))\n",
    "        data_properties.append(prop_info)\n",
    "    return data_properties\n",
    "\n",
    "def extract_annotation_properties(ontology):\n",
    "    \"\"\"\n",
    "    Extract all annotation properties in the ontology as a list of dictionaries.\n",
    "    \"\"\"\n",
    "    annotation_properties = []\n",
    "    for prop in ontology.annotation_properties():\n",
    "        prop_info = {'name': prop.name}\n",
    "        prop_info.update(extract_metadata(prop))\n",
    "        annotation_properties.append(prop_info)\n",
    "    return annotation_properties"
   ],
   "outputs": [],
   "execution_count": 1
  },
  {
   "metadata": {
    "ExecuteTime": {
     "end_time": "2025-01-23T11:58:28.836272Z",
     "start_time": "2025-01-23T11:58:28.335324Z"
    }
   },
   "cell_type": "code",
   "source": [
    "# Load the ontology file\n",
    "owl_file = \"./OWLs/SOMA.owl\"  # Replace with the actual file path\n",
    "onto = get_ontology(owl_file).load()"
   ],
   "id": "528f27e24f1d84fc",
   "outputs": [],
   "execution_count": 2
  },
  {
   "metadata": {
    "ExecuteTime": {
     "end_time": "2025-01-23T11:58:29.586864Z",
     "start_time": "2025-01-23T11:58:29.477880Z"
    }
   },
   "cell_type": "code",
   "source": [
    "# Extract entities\n",
    "classes = extract_classes(onto)\n",
    "object_properties = extract_object_properties(onto)\n",
    "data_properties = extract_data_properties(onto)\n",
    "annotation_properties = extract_annotation_properties(onto)"
   ],
   "id": "6b9c5b4ff5e12218",
   "outputs": [],
   "execution_count": 3
  },
  {
   "metadata": {
    "ExecuteTime": {
     "end_time": "2025-01-23T11:58:30.128209Z",
     "start_time": "2025-01-23T11:58:30.126045Z"
    }
   },
   "cell_type": "code",
   "source": [
    "# Print results\n",
    "print(\"Classes:\", len(classes))\n",
    "print(\"Object Properties:\", len(object_properties))\n",
    "print(\"Data Properties:\", len(data_properties))\n",
    "print(\"Annotation Properties:\", len(annotation_properties))"
   ],
   "id": "4761c5fccbc627a7",
   "outputs": [
    {
     "name": "stdout",
     "output_type": "stream",
     "text": [
      "Classes: 537\n",
      "Object Properties: 262\n",
      "Data Properties: 38\n",
      "Annotation Properties: 3\n"
     ]
    }
   ],
   "execution_count": 4
  },
  {
   "metadata": {
    "ExecuteTime": {
     "end_time": "2025-01-23T11:58:30.581614Z",
     "start_time": "2025-01-23T11:58:30.579433Z"
    }
   },
   "cell_type": "code",
   "source": [
    "class_names = [cls.get('name') for cls in classes]\n",
    "object_properties_names = [obj.get('name') for obj in object_properties]"
   ],
   "id": "55a8b786f44f4dbb",
   "outputs": [],
   "execution_count": 5
  },
  {
   "metadata": {
    "ExecuteTime": {
     "end_time": "2025-01-23T11:58:31.183816Z",
     "start_time": "2025-01-23T11:58:31.181106Z"
    }
   },
   "cell_type": "code",
   "source": [
    "if \"hasMaterialType\" in object_properties:\n",
    "    print(\"Found\")\n",
    "else:\n",
    "    print(\"Not found\")"
   ],
   "id": "44e6073d77cc9c8b",
   "outputs": [
    {
     "name": "stdout",
     "output_type": "stream",
     "text": [
      "Not found\n"
     ]
    }
   ],
   "execution_count": 6
  },
  {
   "metadata": {
    "ExecuteTime": {
     "end_time": "2025-01-23T11:58:31.725050Z",
     "start_time": "2025-01-23T11:58:31.723493Z"
    }
   },
   "cell_type": "code",
   "source": "",
   "id": "6e8fbfd7194e2628",
   "outputs": [],
   "execution_count": null
  },
  {
   "metadata": {
    "ExecuteTime": {
     "end_time": "2025-01-23T11:58:33.129563Z",
     "start_time": "2025-01-23T11:58:32.900439Z"
    }
   },
   "cell_type": "code",
   "source": [
    "import openai\n",
    "import dotenv\n",
    "dotenv.load_dotenv()\n",
    "OPENAI_API_KEY = os.environ[\"OPENAI_API_KEY\"]\n",
    "client = openai.OpenAI(api_key=OPENAI_API_KEY)\n",
    "model = \"gpt-4o-mini\""
   ],
   "id": "89fac73477a62480",
   "outputs": [],
   "execution_count": 7
  },
  {
   "metadata": {
    "ExecuteTime": {
     "end_time": "2025-01-23T11:58:34.082411Z",
     "start_time": "2025-01-23T11:58:34.080230Z"
    }
   },
   "cell_type": "code",
   "source": [
    "parameters = {\n",
    "        \"object_type\": {\n",
    "            \"name\": \"mango\",\n",
    "            \"attributes\": {\n",
    "                \"material_type\": \"organic\",\n",
    "                \"size\": \"medium\",\n",
    "                \"color\": \"yellow\",\n",
    "                \"shape\": \"oblong\",\n",
    "                \"texture\": \"smooth\"\n",
    "            }\n",
    "        }\n",
    "    }"
   ],
   "id": "5c53e94372622ca2",
   "outputs": [],
   "execution_count": 8
  },
  {
   "metadata": {
    "ExecuteTime": {
     "end_time": "2025-01-23T11:58:34.821485Z",
     "start_time": "2025-01-23T11:58:34.818977Z"
    }
   },
   "cell_type": "code",
   "source": [
    "parameters1 = {\n",
    "    \"tool_type\": {\n",
    "        \"name\": \"knife\",\n",
    "        \"attributes\": {\n",
    "            \"sharpness\": \"high\",\n",
    "            \"size\": \"medium\",\n",
    "            \"material\": \"steel\",\n",
    "            \"weight\": \"light\",\n",
    "            \"edge\": \"smooth\"\n",
    "        }\n",
    "    }\n",
    "}"
   ],
   "id": "ace4e5325048a47e",
   "outputs": [],
   "execution_count": 9
  },
  {
   "metadata": {
    "ExecuteTime": {
     "end_time": "2025-01-23T11:58:35.431431Z",
     "start_time": "2025-01-23T11:58:35.427752Z"
    }
   },
   "cell_type": "code",
   "source": [
    "def get_all_keys(nested_dict):\n",
    "    keys = set()\n",
    "    for key, value in nested_dict.items():\n",
    "        keys.add(key)  # Add the current key\n",
    "        if isinstance(value, dict):  # Check if the value is another dictionary\n",
    "            keys.update(get_all_keys(value))  # Recursively add keys from the nested dictionary\n",
    "    return keys\n",
    "\n",
    "all_keys = get_all_keys(parameters)\n",
    "all_keys"
   ],
   "id": "ce1bf281614a7da6",
   "outputs": [
    {
     "data": {
      "text/plain": [
       "{'attributes',\n",
       " 'color',\n",
       " 'material_type',\n",
       " 'name',\n",
       " 'object_type',\n",
       " 'shape',\n",
       " 'size',\n",
       " 'texture'}"
      ]
     },
     "execution_count": 10,
     "metadata": {},
     "output_type": "execute_result"
    }
   ],
   "execution_count": 10
  },
  {
   "metadata": {
    "ExecuteTime": {
     "end_time": "2025-01-23T11:58:36.374092Z",
     "start_time": "2025-01-23T11:58:36.371004Z"
    }
   },
   "cell_type": "code",
   "source": [
    "messages=[\n",
    "        {\n",
    "            \"role\": \"system\",\n",
    "            \"content\": (\n",
    "                \"You are an expert mapper for SOMA object properties. Your task is to map each provided key to the most relevant and specific SOMA object property name strictly\"\n",
    "                \"from the provided lists. If no relevant match is found for a key in the lists, skip it. \"\n",
    "                \"Do not create or assume new property or class names beyond the provided lists. \"\n",
    "                \"Return the result as a dictionary where each key is the original key, and the value is the mapped name (or the original key if unchanged).\"\n",
    "            )\n",
    "        },\n",
    "        {\n",
    "            \"role\": \"assistant\",\n",
    "            \"content\": (\n",
    "                f\"The list of SOMA object properties you must strictly use for mapping is: \\n{object_properties_names}\\n\\n\"\n",
    "                # f\"The list of SOMA class names you must strictly use for mapping is: \\n{class_names}\"\n",
    "            )\n",
    "        },\n",
    "        {\n",
    "            \"role\": \"user\",\n",
    "            \"content\": f\"The list of keys to be mapped is: \\n{all_keys}\\n\\n\"\n",
    "        },\n",
    "        {\n",
    "            \"role\": \"user\",\n",
    "            \"content\": \"return only the dictionary, no additional comments, explanations are needed\"\n",
    "        }\n",
    "    ]"
   ],
   "id": "985650d1585ff2bc",
   "outputs": [],
   "execution_count": 11
  },
  {
   "metadata": {
    "ExecuteTime": {
     "end_time": "2025-01-23T11:58:39.771155Z",
     "start_time": "2025-01-23T11:58:37.662702Z"
    }
   },
   "cell_type": "code",
   "source": [
    "import tiktoken\n",
    "import json, ast\n",
    "final_prompt = \"\\n\\n\".join(\n",
    "    [f\"{msg['role'].capitalize()}: {msg['content']}\" for msg in messages]\n",
    ")\n",
    "encoding = tiktoken.encoding_for_model(model)\n",
    "token_count = 0\n",
    "for message in messages:\n",
    "    # Add the role and the content\n",
    "    token_count += len(encoding.encode(message['role']))\n",
    "    token_count += len(encoding.encode(message['content']))\n",
    "    # Add extra tokens for message formatting, such as separators\n",
    "    token_count += 4  # Approximation for formatting tokens\n",
    "\n",
    "# Print the total token count\n",
    "print(f\"Total tokens in the prompt: {token_count}\")"
   ],
   "id": "a067cc1a83554e5",
   "outputs": [
    {
     "name": "stdout",
     "output_type": "stream",
     "text": [
      "Total tokens in the prompt: 1539\n"
     ]
    }
   ],
   "execution_count": 12
  },
  {
   "metadata": {
    "ExecuteTime": {
     "end_time": "2025-01-23T12:07:51.121296Z",
     "start_time": "2025-01-23T12:07:49.141782Z"
    }
   },
   "cell_type": "code",
   "source": [
    "resp = client.chat.completions.create(\n",
    "    model=model,\n",
    "    messages=messages\n",
    ")"
   ],
   "id": "40ded9c8b4ed648c",
   "outputs": [],
   "execution_count": 13
  },
  {
   "metadata": {
    "ExecuteTime": {
     "end_time": "2025-01-23T12:49:57.753592Z",
     "start_time": "2025-01-23T12:49:57.751810Z"
    }
   },
   "cell_type": "code",
   "source": "resp.choices[0].message.content",
   "id": "510b52b7db3fcee2",
   "outputs": [],
   "execution_count": 23
  },
  {
   "metadata": {
    "ExecuteTime": {
     "end_time": "2025-01-23T12:07:53.407373Z",
     "start_time": "2025-01-23T12:07:53.404269Z"
    }
   },
   "cell_type": "code",
   "source": [
    "res_dict = resp.choices[0].message.content\n",
    "res_dict = ast.literal_eval(res_dict)\n",
    "print(res_dict)"
   ],
   "id": "61f6729dc9396040",
   "outputs": [
    {
     "ename": "SyntaxError",
     "evalue": "invalid syntax (<unknown>, line 1)",
     "output_type": "error",
     "traceback": [
      "Traceback \u001B[0;36m(most recent call last)\u001B[0m:\n",
      "\u001B[0m  File \u001B[1;32m~/envs/llama/lib/python3.10/site-packages/IPython/core/interactiveshell.py:3577\u001B[0m in \u001B[1;35mrun_code\u001B[0m\n    exec(code_obj, self.user_global_ns, self.user_ns)\u001B[0m\n",
      "\u001B[0m  Cell \u001B[1;32mIn[15], line 2\u001B[0m\n    res_dict = ast.literal_eval(res_dict)\u001B[0m\n",
      "\u001B[0m  File \u001B[1;32m/usr/lib/python3.10/ast.py:64\u001B[0m in \u001B[1;35mliteral_eval\u001B[0m\n    node_or_string = parse(node_or_string.lstrip(\" \\t\"), mode='eval')\u001B[0m\n",
      "\u001B[0;36m  File \u001B[0;32m/usr/lib/python3.10/ast.py:50\u001B[0;36m in \u001B[0;35mparse\u001B[0;36m\n\u001B[0;31m    return compile(source, filename, mode, flags,\u001B[0;36m\n",
      "\u001B[0;36m  File \u001B[0;32m<unknown>:1\u001B[0;36m\u001B[0m\n\u001B[0;31m    ```python\u001B[0m\n\u001B[0m    ^\u001B[0m\n\u001B[0;31mSyntaxError\u001B[0m\u001B[0;31m:\u001B[0m invalid syntax\n"
     ]
    }
   ],
   "execution_count": 15
  },
  {
   "metadata": {
    "ExecuteTime": {
     "end_time": "2025-01-21T12:07:14.200142Z",
     "start_time": "2025-01-21T12:07:14.196294Z"
    }
   },
   "cell_type": "code",
   "source": [
    "for key in res_dict:\n",
    "    if res_dict[key] in object_properties_names:\n",
    "        # print(f\"Value {res_dict[key]} found\")\n",
    "        pass\n",
    "    else:\n",
    "        # print(f\"Value {res_dict[key]} not found\")\n",
    "        res_dict[key] = key\n",
    "res_dict"
   ],
   "id": "7ef01420beb43c78",
   "outputs": [
    {
     "data": {
      "text/plain": [
       "{'shape': 'hasShape',\n",
       " 'texture': 'hasQuality',\n",
       " 'size': 'size',\n",
       " 'name': 'name',\n",
       " 'attributes': 'hasFeature',\n",
       " 'color': 'hasColor',\n",
       " 'object_type': 'object_type',\n",
       " 'material_type': 'material_type'}"
      ]
     },
     "execution_count": 118,
     "metadata": {},
     "output_type": "execute_result"
    }
   ],
   "execution_count": 118
  },
  {
   "metadata": {
    "ExecuteTime": {
     "end_time": "2025-01-23T12:47:42.153284Z",
     "start_time": "2025-01-23T12:47:42.053168Z"
    }
   },
   "cell_type": "code",
   "source": [
    "def remap_keys(original_dict, mapping):\n",
    "    if not isinstance(original_dict, dict):\n",
    "        return original_dict\n",
    "    return {\n",
    "        mapping.get(k, k): remap_keys(v, mapping) for k, v in original_dict.items()\n",
    "    }\n",
    "updated_parameters = remap_keys(parameters, res_dict)\n",
    "print(updated_parameters)"
   ],
   "id": "be6121d7bd61b11b",
   "outputs": [
    {
     "ename": "AttributeError",
     "evalue": "'str' object has no attribute 'get'",
     "output_type": "error",
     "traceback": [
      "\u001B[0;31m---------------------------------------------------------------------------\u001B[0m",
      "\u001B[0;31mAttributeError\u001B[0m                            Traceback (most recent call last)",
      "Cell \u001B[0;32mIn[16], line 7\u001B[0m\n\u001B[1;32m      3\u001B[0m         \u001B[38;5;28;01mreturn\u001B[39;00m original_dict\n\u001B[1;32m      4\u001B[0m     \u001B[38;5;28;01mreturn\u001B[39;00m {\n\u001B[1;32m      5\u001B[0m         mapping\u001B[38;5;241m.\u001B[39mget(k, k): remap_keys(v, mapping) \u001B[38;5;28;01mfor\u001B[39;00m k, v \u001B[38;5;129;01min\u001B[39;00m original_dict\u001B[38;5;241m.\u001B[39mitems()\n\u001B[1;32m      6\u001B[0m     }\n\u001B[0;32m----> 7\u001B[0m updated_parameters \u001B[38;5;241m=\u001B[39m \u001B[43mremap_keys\u001B[49m\u001B[43m(\u001B[49m\u001B[43mparameters\u001B[49m\u001B[43m,\u001B[49m\u001B[43m \u001B[49m\u001B[43mres_dict\u001B[49m\u001B[43m)\u001B[49m\n\u001B[1;32m      8\u001B[0m \u001B[38;5;28mprint\u001B[39m(updated_parameters)\n",
      "Cell \u001B[0;32mIn[16], line 4\u001B[0m, in \u001B[0;36mremap_keys\u001B[0;34m(original_dict, mapping)\u001B[0m\n\u001B[1;32m      2\u001B[0m \u001B[38;5;28;01mif\u001B[39;00m \u001B[38;5;129;01mnot\u001B[39;00m \u001B[38;5;28misinstance\u001B[39m(original_dict, \u001B[38;5;28mdict\u001B[39m):\n\u001B[1;32m      3\u001B[0m     \u001B[38;5;28;01mreturn\u001B[39;00m original_dict\n\u001B[0;32m----> 4\u001B[0m \u001B[38;5;28;01mreturn\u001B[39;00m {\n\u001B[1;32m      5\u001B[0m     mapping\u001B[38;5;241m.\u001B[39mget(k, k): remap_keys(v, mapping) \u001B[38;5;28;01mfor\u001B[39;00m k, v \u001B[38;5;129;01min\u001B[39;00m original_dict\u001B[38;5;241m.\u001B[39mitems()\n\u001B[1;32m      6\u001B[0m }\n",
      "Cell \u001B[0;32mIn[16], line 5\u001B[0m, in \u001B[0;36m<dictcomp>\u001B[0;34m(.0)\u001B[0m\n\u001B[1;32m      2\u001B[0m \u001B[38;5;28;01mif\u001B[39;00m \u001B[38;5;129;01mnot\u001B[39;00m \u001B[38;5;28misinstance\u001B[39m(original_dict, \u001B[38;5;28mdict\u001B[39m):\n\u001B[1;32m      3\u001B[0m     \u001B[38;5;28;01mreturn\u001B[39;00m original_dict\n\u001B[1;32m      4\u001B[0m \u001B[38;5;28;01mreturn\u001B[39;00m {\n\u001B[0;32m----> 5\u001B[0m     \u001B[43mmapping\u001B[49m\u001B[38;5;241;43m.\u001B[39;49m\u001B[43mget\u001B[49m(k, k): remap_keys(v, mapping) \u001B[38;5;28;01mfor\u001B[39;00m k, v \u001B[38;5;129;01min\u001B[39;00m original_dict\u001B[38;5;241m.\u001B[39mitems()\n\u001B[1;32m      6\u001B[0m }\n",
      "\u001B[0;31mAttributeError\u001B[0m: 'str' object has no attribute 'get'"
     ]
    }
   ],
   "execution_count": 16
  },
  {
   "metadata": {},
   "cell_type": "markdown",
   "source": "Starting with Actual Action Designator",
   "id": "c959cfe53e926cd2"
  },
  {
   "metadata": {
    "ExecuteTime": {
     "end_time": "2025-01-21T12:39:33.795158Z",
     "start_time": "2025-01-21T12:39:33.787064Z"
    }
   },
   "cell_type": "code",
   "source": [
    "ad = {\n",
    "    \"action_designators\": {\n",
    "        \"type\": \"slicing\",\n",
    "        \"parameters\": {\n",
    "            \"object_type\": {\n",
    "                \"name\": \"mango\",\n",
    "                \"attributes\": {\n",
    "                    \"material_type\": \"organic\",\n",
    "                    \"size\": \"medium\",\n",
    "                    \"color\": \"yellow\",\n",
    "                    \"shape\": \"oblong\",\n",
    "                    \"texture\": \"smooth\"\n",
    "                }\n",
    "            },\n",
    "            \"tool_type\": {\n",
    "                \"name\": \"knife\",\n",
    "                \"attributes\": {\n",
    "                    \"sharpness\": \"high\",\n",
    "                    \"size\": \"medium\",\n",
    "                    \"material\": \"steel\",\n",
    "                    \"weight\": \"light\",\n",
    "                    \"edge\": \"smooth\"\n",
    "                }\n",
    "            },\n",
    "            \"location\": {\n",
    "                \"name\": \"cutting_board\",\n",
    "                \"attributes\": {\n",
    "                    \"height\": 0.9,\n",
    "                    \"accessibility\": \"high\",\n",
    "                    \"surface_type\": \"stable\"\n",
    "                }\n",
    "            },\n",
    "            \"desired_outcome\": {\n",
    "                \"action_type\": \"slice\",\n",
    "                \"into\": 3,\n",
    "                \"pieces\": {\n",
    "                    \"shape\": {\n",
    "                        \"type\": \"slice\",\n",
    "                        \"size\": \"medium\",\n",
    "                        \"thickness\": \"<variable>\",\n",
    "                        \"angle\": \"<variable>\"\n",
    "                    }\n",
    "                }\n",
    "            }\n",
    "        },\n",
    "        \"task_constraints\": {\n",
    "            \"remove_core\": \"none\",\n",
    "            \"remove_seeds\": \"none\",\n",
    "            \"consistent_angle\": \"variable\",\n",
    "            \"slice_thickness\": \"variable\",\n",
    "            \"cut_uniformly\": \"true\",\n",
    "            \"maintain_shape_integrity\": \"true\",\n",
    "            \"minimum_piece_thickness\": \"0.1\"\n",
    "        },\n",
    "        \"material_properties\": {\n",
    "            \"object\": {\n",
    "                \"type\": \"organic\",\n",
    "                \"hardness\": \"medium\",\n",
    "                \"density\": \"variable\",\n",
    "                \"surface_friction\": \"low\",\n",
    "                \"elasticity\": \"medium\"\n",
    "            },\n",
    "            \"tool\": {\n",
    "                \"type\": \"steel\",\n",
    "                \"edge_sharpness\": \"high\"\n",
    "            }\n",
    "        },\n",
    "        \"affordances\": {\n",
    "            \"object\": \"mango\",\n",
    "            \"possible_actions\": [\n",
    "                \"grasp\",\n",
    "                \"cut\",\n",
    "                \"slice\",\n",
    "                \"none\"\n",
    "            ],\n",
    "            \"tool_compatibility\": [\n",
    "                \"knife\",\n",
    "                \"serrated_knife\",\n",
    "                \"cutter\",\n",
    "                \"none\"\n",
    "            ],\n",
    "            \"environment_affordances\": [\n",
    "                \"support\",\n",
    "                \"slide\",\n",
    "                \"none\"\n",
    "            ]\n",
    "        },\n",
    "        \"dispositions\": {\n",
    "            \"object\": {\n",
    "                \"fragility\": \"medium\",\n",
    "                \"roll_tendency\": \"low\",\n",
    "                \"cut_resistance\": \"low\",\n",
    "                \"compressibility\": \"low\",\n",
    "                \"flammability\": \"low\",\n",
    "                \"anatomical_parts\": {\n",
    "                    \"core\": \"none\",\n",
    "                    \"peel\": \"yes\",\n",
    "                    \"stem\": \"yes\",\n",
    "                    \"shell\": \"none\"\n",
    "                },\n",
    "                \"edibility\": \"yes\"\n",
    "            },\n",
    "            \"tool\": {\n",
    "                \"durability\": \"high\",\n",
    "                \"deformation_resistance\": \"high\",\n",
    "                \"corrosion_prone\": \"low\",\n",
    "                \"flexibility\": \"medium\",\n",
    "                \"magnetism\": \"none\"\n",
    "            },\n",
    "            \"environment\": {\n",
    "                \"stability\": \"high\",\n",
    "                \"slipperiness\": \"low\",\n",
    "                \"flammability\": \"low\"\n",
    "            }\n",
    "        },\n",
    "        \"motion_phases\": [\n",
    "            {\n",
    "                \"phase_name\": \"approach_object\",\n",
    "                \"preconditions\": {\n",
    "                    \"object_available\": \"mango-123\",\n",
    "                    \"tool_available\": \"knife\"\n",
    "                },\n",
    "                \"expected_effect\": {\n",
    "                    \"robot_positioned\": \"near_mango\",\n",
    "                    \"mango_reachable\": \"true\"\n",
    "                }\n",
    "            },\n",
    "            {\n",
    "                \"phase_name\": \"position_tool\",\n",
    "                \"preconditions\": {\n",
    "                    \"mango_positioned\": \"stable\",\n",
    "                    \"blade_aligned\": \"true\"\n",
    "                },\n",
    "                \"expected_effect\": {\n",
    "                    \"tool_in_contact\": \"true\",\n",
    "                    \"ready_for_action\": \"true\"\n",
    "                }\n",
    "            },\n",
    "            {\n",
    "                \"phase_name\": \"apply_action_force\",\n",
    "                \"preconditions\": {\n",
    "                    \"tool_in_contact\": \"true\",\n",
    "                    \"stable_grip\": \"true\"\n",
    "                },\n",
    "                \"expected_effect\": {\n",
    "                    \"object_processed\": \"true\",\n",
    "                    \"pieces_formed\": {\n",
    "                        \"quantity\": 3,\n",
    "                        \"size\": {\n",
    "                            \"thickness\": \"<variable>\",\n",
    "                            \"angle\": \"<variable>\",\n",
    "                            \"type\": \"slice\"\n",
    "                        }\n",
    "                    },\n",
    "                    \"core_and_seeds_removed\": \"none\"\n",
    "                }\n",
    "            },\n",
    "            {\n",
    "                \"phase_name\": \"retract_tool\",\n",
    "                \"preconditions\": {\n",
    "                    \"action_complete\": \"true\"\n",
    "                },\n",
    "                \"expected_effect\": {\n",
    "                    \"tool_removed\": \"true\",\n",
    "                    \"task_completed\": \"true\"\n",
    "                }\n",
    "            }\n",
    "        ],\n",
    "        \"kinematics\": {\n",
    "            \"position_target\": {\n",
    "                \"x\": \"<variable>\",\n",
    "                \"y\": \"<variable>\",\n",
    "                \"z\": \"<variable>\"\n",
    "            },\n",
    "            \"velocity_planning\": {\n",
    "                \"approach_speed\": \"variable\",\n",
    "                \"withdrawal_speed\": \"variable\"\n",
    "            },\n",
    "            \"trajectory\": {\n",
    "                \"type\": \"linear\",\n",
    "                \"smoothness\": \"high\"\n",
    "            }\n",
    "        },\n",
    "        \"dynamics\": {\n",
    "            \"force_application\": {\n",
    "                \"desired_normal_force\": \"variable\",\n",
    "                \"force_tolerance\": \"variable\"\n",
    "            },\n",
    "            \"stability_settings\": {\n",
    "                \"stiffness\": \"variable\",\n",
    "                \"damping\": \"variable\"\n",
    "            },\n",
    "            \"sensor_feedback\": {\n",
    "                \"force_values\": [\n",
    "                    \"variable_1\",\n",
    "                    \"variable_2\",\n",
    "                    \"variable_3\"\n",
    "                ],\n",
    "                \"stability_monitoring\": \"active\"\n",
    "            }\n",
    "        },\n",
    "        \"safety_and_awareness\": {\n",
    "            \"human_awareness\": {\n",
    "                \"human_proximity\": \"variable_distance\",\n",
    "                \"interaction_level\": \"passive_observer\"\n",
    "            },\n",
    "            \"safety_limits\": {\n",
    "                \"max_force\": \"variable_force\",\n",
    "                \"max_speed\": \"variable_speed\"\n",
    "            }\n",
    "        },\n",
    "        \"learning_and_evaluation\": {\n",
    "            \"feedback_loops\": {\n",
    "                \"vision_status\": \"active\",\n",
    "                \"force_feedback_status\": \"active\"\n",
    "            },\n",
    "            \"progress_monitoring\": {\n",
    "                \"goal_completion\": \"100%\",\n",
    "                \"errors_detected\": \"none\"\n",
    "            },\n",
    "            \"experience_replay\": {\n",
    "                \"successful_actions\": \"variable_success_count\",\n",
    "                \"failed_actions\": \"variable_failure_count\"\n",
    "            }\n",
    "        },\n",
    "        \"expected_outcomes\": {\n",
    "            \"primary_outcome\": \"mango_sliced_into_3_slices\",\n",
    "            \"secondary_outcome\": \"knife_retracted\",\n",
    "            \"overall_status\": \"success\"\n",
    "        },\n",
    "        \"framenet_elements\": {\n",
    "            \"action_core\": \"Slicing\",\n",
    "            \"core_elements\": {\n",
    "                \"agent\": \"robot\",\n",
    "                \"object\": \"mango\",\n",
    "                \"tool\": \"knife\",\n",
    "                \"result\": \"3_slices\"\n",
    "            },\n",
    "            \"peripheral_elements\": {\n",
    "                \"location\": \"cutting_board\",\n",
    "                \"time\": \"immediately\",\n",
    "                \"manner\": \"evenly\",\n",
    "                \"cause\": \"instruction\",\n",
    "                \"beneficiary\": \"user\"\n",
    "            }\n",
    "        }\n",
    "    }\n",
    "}"
   ],
   "id": "2f03928ebd169010",
   "outputs": [],
   "execution_count": 151
  },
  {
   "metadata": {
    "ExecuteTime": {
     "end_time": "2025-01-21T12:39:34.636284Z",
     "start_time": "2025-01-21T12:39:34.634087Z"
    }
   },
   "cell_type": "code",
   "source": [
    "ad_keys = get_all_keys(ad)\n",
    "messages=[\n",
    "        {\n",
    "            \"role\": \"system\",\n",
    "            \"content\": (\n",
    "                \"You are an expert mapper for SOMA object properties. Your task is to map each provided key to the most relevant and specific SOMA object property name strictly\"\n",
    "                \"from the provided lists. If no relevant match is found for a key in the lists, skip it. \"\n",
    "                \"Do not create or assume new property or class names beyond the provided lists. \"\n",
    "                \"Return the result as a dictionary where each key is the original key, and the value is the mapped name (or the original key if unchanged).\"\n",
    "            )\n",
    "        },\n",
    "        {\n",
    "            \"role\": \"assistant\",\n",
    "            \"content\": (\n",
    "                f\"The list of SOMA object properties you must strictly use for mapping is: \\n{object_properties_names}\\n\\n\"\n",
    "                # f\"The list of SOMA class names you must strictly use for mapping is: \\n{class_names}\"\n",
    "            )\n",
    "        },\n",
    "        {\n",
    "            \"role\": \"user\",\n",
    "            \"content\": f\"The list of keys to be mapped is: \\n{ad_keys}\\n\\n\"\n",
    "        },\n",
    "        {\n",
    "            \"role\": \"user\",\n",
    "            \"content\": \"return only the python dictionary, no additional comments, explanations are needed\"\n",
    "        }\n",
    "    ]"
   ],
   "id": "5020e9d033f92ca7",
   "outputs": [],
   "execution_count": 152
  },
  {
   "metadata": {
    "ExecuteTime": {
     "end_time": "2025-01-21T12:39:55.232722Z",
     "start_time": "2025-01-21T12:39:55.230009Z"
    }
   },
   "cell_type": "code",
   "source": "len(ad_keys)",
   "id": "f6d8cd9593a9c8d0",
   "outputs": [
    {
     "data": {
      "text/plain": [
       "118"
      ]
     },
     "execution_count": 154,
     "metadata": {},
     "output_type": "execute_result"
    }
   ],
   "execution_count": 154
  },
  {
   "metadata": {
    "ExecuteTime": {
     "end_time": "2025-01-21T12:40:07.337792Z",
     "start_time": "2025-01-21T12:40:07.333308Z"
    }
   },
   "cell_type": "code",
   "source": [
    "import tiktoken\n",
    "import json, ast\n",
    "final_prompt = \"\\n\\n\".join(\n",
    "    [f\"{msg['role'].capitalize()}: {msg['content']}\" for msg in messages]\n",
    ")\n",
    "encoding = tiktoken.encoding_for_model(model)\n",
    "token_count = 0\n",
    "for message in messages:\n",
    "    # Add the role and the content\n",
    "    token_count += len(encoding.encode(message['role']))\n",
    "    token_count += len(encoding.encode(message['content']))\n",
    "    # Add extra tokens for message formatting, such as separators\n",
    "    token_count += 4  # Approximation for formatting tokens\n",
    "\n",
    "# Print the total token count\n",
    "print(f\"Total tokens in the prompt: {token_count}\")"
   ],
   "id": "f201034bc694faad",
   "outputs": [
    {
     "name": "stdout",
     "output_type": "stream",
     "text": [
      "Total tokens in the prompt: 2013\n"
     ]
    }
   ],
   "execution_count": 155
  },
  {
   "metadata": {
    "ExecuteTime": {
     "end_time": "2025-01-21T12:40:17.941079Z",
     "start_time": "2025-01-21T12:40:14.046404Z"
    }
   },
   "cell_type": "code",
   "source": [
    "resp = client.chat.completions.create(\n",
    "    model=model,\n",
    "    messages=messages,\n",
    ")"
   ],
   "id": "15bf88a6747254ff",
   "outputs": [],
   "execution_count": 156
  },
  {
   "metadata": {
    "ExecuteTime": {
     "end_time": "2025-01-21T12:40:21.888749Z",
     "start_time": "2025-01-21T12:40:21.886538Z"
    }
   },
   "cell_type": "code",
   "source": [
    "resp = resp.choices[0].message.content\n",
    "if resp.startswith(\"```\"):\n",
    "    resp = resp.strip(\"```python\").strip(\"```\")"
   ],
   "id": "d07735935e2254d0",
   "outputs": [],
   "execution_count": 157
  },
  {
   "metadata": {
    "ExecuteTime": {
     "end_time": "2025-01-21T12:40:23.114747Z",
     "start_time": "2025-01-21T12:40:23.111990Z"
    }
   },
   "cell_type": "code",
   "source": "resp",
   "id": "1592772f7941e359",
   "outputs": [
    {
     "data": {
      "text/plain": [
       "\"\\n{\\n    'weight': 'hasMassAttribute',\\n    'angle': 'hasAngle',\\n    'material': 'hasMaterial',\\n    'color': 'hasColor',\\n    'size': 'hasSize',\\n    'density': 'hasDensity',\\n    'elasticity': 'hasElasticity',\\n    'thickness': 'hasThickness',\\n    'stability': 'hasStability',\\n    'desired_outcome': 'hasDesiredOutcome',\\n    'tool': 'hasTool',\\n    'location': 'hasLocation',\\n    'interaction_level': 'hasInteractionLevel',\\n    'force_feedback_status': 'hasForceFeedbackStatus',\\n    'time': 'hasTime',\\n    'trajectory': 'hasTrajectory',\\n    'safety_limits': 'hasSafetyLimits',\\n    'environment': 'hasEnvironment',\\n    'primary_outcome': 'hasPrimaryOutcome',\\n    'secondary_outcome': 'hasSecondaryOutcome',\\n    'core': 'hasCore',\\n    'surface_type': 'hasSurfaceType',\\n    'tool_type': 'hasToolType',\\n    'edges': 'hasEdges',\\n    'cut_resistance': 'hasCutResistance'\\n}\\n\""
      ]
     },
     "execution_count": 158,
     "metadata": {},
     "output_type": "execute_result"
    }
   ],
   "execution_count": 158
  },
  {
   "metadata": {
    "ExecuteTime": {
     "end_time": "2025-01-21T12:40:26.098488Z",
     "start_time": "2025-01-21T12:40:26.095945Z"
    }
   },
   "cell_type": "code",
   "source": [
    "res_dict = ast.literal_eval(resp)\n",
    "print(res_dict)"
   ],
   "id": "c629d6f06a92e075",
   "outputs": [
    {
     "name": "stdout",
     "output_type": "stream",
     "text": [
      "{'weight': 'hasMassAttribute', 'angle': 'hasAngle', 'material': 'hasMaterial', 'color': 'hasColor', 'size': 'hasSize', 'density': 'hasDensity', 'elasticity': 'hasElasticity', 'thickness': 'hasThickness', 'stability': 'hasStability', 'desired_outcome': 'hasDesiredOutcome', 'tool': 'hasTool', 'location': 'hasLocation', 'interaction_level': 'hasInteractionLevel', 'force_feedback_status': 'hasForceFeedbackStatus', 'time': 'hasTime', 'trajectory': 'hasTrajectory', 'safety_limits': 'hasSafetyLimits', 'environment': 'hasEnvironment', 'primary_outcome': 'hasPrimaryOutcome', 'secondary_outcome': 'hasSecondaryOutcome', 'core': 'hasCore', 'surface_type': 'hasSurfaceType', 'tool_type': 'hasToolType', 'edges': 'hasEdges', 'cut_resistance': 'hasCutResistance'}\n"
     ]
    }
   ],
   "execution_count": 159
  },
  {
   "metadata": {
    "ExecuteTime": {
     "end_time": "2025-01-21T12:40:31.219757Z",
     "start_time": "2025-01-21T12:40:31.215724Z"
    }
   },
   "cell_type": "code",
   "source": [
    "for key in res_dict:\n",
    "    if res_dict[key] in object_properties_names:\n",
    "        # print(f\"Value {res_dict[key]} found\")\n",
    "        pass\n",
    "    else:\n",
    "        # print(f\"Value {res_dict[key]} not found\")\n",
    "        res_dict[key] = key\n",
    "res_dict"
   ],
   "id": "154d56a76347d673",
   "outputs": [
    {
     "data": {
      "text/plain": [
       "{'weight': 'hasMassAttribute',\n",
       " 'angle': 'angle',\n",
       " 'material': 'material',\n",
       " 'color': 'hasColor',\n",
       " 'size': 'size',\n",
       " 'density': 'density',\n",
       " 'elasticity': 'elasticity',\n",
       " 'thickness': 'thickness',\n",
       " 'stability': 'stability',\n",
       " 'desired_outcome': 'desired_outcome',\n",
       " 'tool': 'tool',\n",
       " 'location': 'hasLocation',\n",
       " 'interaction_level': 'interaction_level',\n",
       " 'force_feedback_status': 'force_feedback_status',\n",
       " 'time': 'time',\n",
       " 'trajectory': 'trajectory',\n",
       " 'safety_limits': 'safety_limits',\n",
       " 'environment': 'environment',\n",
       " 'primary_outcome': 'primary_outcome',\n",
       " 'secondary_outcome': 'secondary_outcome',\n",
       " 'core': 'core',\n",
       " 'surface_type': 'surface_type',\n",
       " 'tool_type': 'tool_type',\n",
       " 'edges': 'edges',\n",
       " 'cut_resistance': 'cut_resistance'}"
      ]
     },
     "execution_count": 160,
     "metadata": {},
     "output_type": "execute_result"
    }
   ],
   "execution_count": 160
  },
  {
   "metadata": {
    "ExecuteTime": {
     "end_time": "2025-01-23T13:23:21.598936Z",
     "start_time": "2025-01-23T13:22:59.673497Z"
    }
   },
   "cell_type": "code",
   "source": [
    "import gensim.downloader as api\n",
    "\n",
    "model = api.load('word2vec-google-news-300')"
   ],
   "id": "ce45e1291e0efc40",
   "outputs": [],
   "execution_count": 31
  },
  {
   "metadata": {
    "ExecuteTime": {
     "end_time": "2025-01-23T13:24:34.236816Z",
     "start_time": "2025-01-23T13:24:34.233541Z"
    }
   },
   "cell_type": "code",
   "source": [
    "from owlready2 import *\n",
    "from gensim.models import Word2Vec\n",
    "\n",
    "class OntologyMatcher:\n",
    "    def __init__(self, ontology_file,model):\n",
    "        self.onto = get_ontology(ontology_file).load()\n",
    "        self.model = model\n",
    "\n",
    "    def preprocess_attribute(self, attribute):\n",
    "        # Lowercase, remove punctuation, etc.\n",
    "        return attribute.lower().replace(\".\", \"\")\n",
    "\n",
    "    def calculate_similarity(self, attribute, concept):\n",
    "        # Implement your chosen similarity method here\n",
    "        # Example using word embeddings (replace with your actual implementation)\n",
    "        model = Word2Vec.load(self.model)\n",
    "        try:\n",
    "            similarity = model.wv.similarity(attribute, concept.label[0])\n",
    "        except KeyError:\n",
    "            similarity = 0  # Handle cases where words are not in the vocabulary\n",
    "        return similarity\n",
    "\n",
    "    def map_attributes(self, attributes, threshold=0.8):\n",
    "        mappings = {}\n",
    "        for attr in attributes:\n",
    "            attr = self.preprocess_attribute(attr)\n",
    "            best_match = None\n",
    "            max_similarity = 0\n",
    "            for concept in self.onto.classes():\n",
    "                similarity = self.calculate_similarity(attr, concept)\n",
    "                if similarity > max_similarity:\n",
    "                    max_similarity = similarity\n",
    "                    best_match = concept\n",
    "            if max_similarity >= threshold:\n",
    "                mappings[attr] = best_match\n",
    "            else:\n",
    "                mappings[attr] = None  # Or \"unmatched\"\n",
    "        return mappings"
   ],
   "id": "553b8dee3d062b35",
   "outputs": [],
   "execution_count": 35
  },
  {
   "metadata": {
    "ExecuteTime": {
     "end_time": "2025-01-23T13:24:40.847782Z",
     "start_time": "2025-01-23T13:24:40.789413Z"
    }
   },
   "cell_type": "code",
   "source": [
    "matcher = OntologyMatcher(owl_file,model)\n",
    "attributes = [\"color\",\"size\",'shape']\n",
    "mappings = matcher.map_attributes(attributes)"
   ],
   "id": "7183ffbed8e7ebf",
   "outputs": [
    {
     "ename": "AttributeError",
     "evalue": "'KeyedVectors' object has no attribute 'endswith'",
     "output_type": "error",
     "traceback": [
      "\u001B[0;31m---------------------------------------------------------------------------\u001B[0m",
      "\u001B[0;31mAttributeError\u001B[0m                            Traceback (most recent call last)",
      "Cell \u001B[0;32mIn[36], line 3\u001B[0m\n\u001B[1;32m      1\u001B[0m matcher \u001B[38;5;241m=\u001B[39m OntologyMatcher(owl_file,model)\n\u001B[1;32m      2\u001B[0m attributes \u001B[38;5;241m=\u001B[39m [\u001B[38;5;124m\"\u001B[39m\u001B[38;5;124mcolor\u001B[39m\u001B[38;5;124m\"\u001B[39m,\u001B[38;5;124m\"\u001B[39m\u001B[38;5;124msize\u001B[39m\u001B[38;5;124m\"\u001B[39m,\u001B[38;5;124m'\u001B[39m\u001B[38;5;124mshape\u001B[39m\u001B[38;5;124m'\u001B[39m]\n\u001B[0;32m----> 3\u001B[0m mappings \u001B[38;5;241m=\u001B[39m \u001B[43mmatcher\u001B[49m\u001B[38;5;241;43m.\u001B[39;49m\u001B[43mmap_attributes\u001B[49m\u001B[43m(\u001B[49m\u001B[43mattributes\u001B[49m\u001B[43m)\u001B[49m\n",
      "Cell \u001B[0;32mIn[35], line 30\u001B[0m, in \u001B[0;36mOntologyMatcher.map_attributes\u001B[0;34m(self, attributes, threshold)\u001B[0m\n\u001B[1;32m     28\u001B[0m max_similarity \u001B[38;5;241m=\u001B[39m \u001B[38;5;241m0\u001B[39m\n\u001B[1;32m     29\u001B[0m \u001B[38;5;28;01mfor\u001B[39;00m concept \u001B[38;5;129;01min\u001B[39;00m \u001B[38;5;28mself\u001B[39m\u001B[38;5;241m.\u001B[39monto\u001B[38;5;241m.\u001B[39mclasses():\n\u001B[0;32m---> 30\u001B[0m     similarity \u001B[38;5;241m=\u001B[39m \u001B[38;5;28;43mself\u001B[39;49m\u001B[38;5;241;43m.\u001B[39;49m\u001B[43mcalculate_similarity\u001B[49m\u001B[43m(\u001B[49m\u001B[43mattr\u001B[49m\u001B[43m,\u001B[49m\u001B[43m \u001B[49m\u001B[43mconcept\u001B[49m\u001B[43m)\u001B[49m\n\u001B[1;32m     31\u001B[0m     \u001B[38;5;28;01mif\u001B[39;00m similarity \u001B[38;5;241m>\u001B[39m max_similarity:\n\u001B[1;32m     32\u001B[0m         max_similarity \u001B[38;5;241m=\u001B[39m similarity\n",
      "Cell \u001B[0;32mIn[35], line 16\u001B[0m, in \u001B[0;36mOntologyMatcher.calculate_similarity\u001B[0;34m(self, attribute, concept)\u001B[0m\n\u001B[1;32m     13\u001B[0m \u001B[38;5;28;01mdef\u001B[39;00m \u001B[38;5;21mcalculate_similarity\u001B[39m(\u001B[38;5;28mself\u001B[39m, attribute, concept):\n\u001B[1;32m     14\u001B[0m     \u001B[38;5;66;03m# Implement your chosen similarity method here\u001B[39;00m\n\u001B[1;32m     15\u001B[0m     \u001B[38;5;66;03m# Example using word embeddings (replace with your actual implementation)\u001B[39;00m\n\u001B[0;32m---> 16\u001B[0m     model \u001B[38;5;241m=\u001B[39m \u001B[43mWord2Vec\u001B[49m\u001B[38;5;241;43m.\u001B[39;49m\u001B[43mload\u001B[49m\u001B[43m(\u001B[49m\u001B[38;5;28;43mself\u001B[39;49m\u001B[38;5;241;43m.\u001B[39;49m\u001B[43mmodel\u001B[49m\u001B[43m)\u001B[49m\n\u001B[1;32m     17\u001B[0m     \u001B[38;5;28;01mtry\u001B[39;00m:\n\u001B[1;32m     18\u001B[0m         similarity \u001B[38;5;241m=\u001B[39m model\u001B[38;5;241m.\u001B[39mwv\u001B[38;5;241m.\u001B[39msimilarity(attribute, concept\u001B[38;5;241m.\u001B[39mlabel[\u001B[38;5;241m0\u001B[39m])\n",
      "File \u001B[0;32m~/envs/llama/lib/python3.10/site-packages/gensim/models/word2vec.py:1965\u001B[0m, in \u001B[0;36mWord2Vec.load\u001B[0;34m(cls, rethrow, *args, **kwargs)\u001B[0m\n\u001B[1;32m   1960\u001B[0m     \u001B[38;5;28;01mraise\u001B[39;00m ae\n\u001B[1;32m   1961\u001B[0m logger\u001B[38;5;241m.\u001B[39merror(\n\u001B[1;32m   1962\u001B[0m     \u001B[38;5;124m\"\u001B[39m\u001B[38;5;124mModel load error. Was model saved using code from an older Gensim Version? \u001B[39m\u001B[38;5;124m\"\u001B[39m\n\u001B[1;32m   1963\u001B[0m     \u001B[38;5;124m\"\u001B[39m\u001B[38;5;124mTry loading older model using gensim-3.8.3, then re-saving, to restore \u001B[39m\u001B[38;5;124m\"\u001B[39m\n\u001B[1;32m   1964\u001B[0m     \u001B[38;5;124m\"\u001B[39m\u001B[38;5;124mcompatibility with current code.\u001B[39m\u001B[38;5;124m\"\u001B[39m)\n\u001B[0;32m-> 1965\u001B[0m \u001B[38;5;28;01mraise\u001B[39;00m ae\n",
      "File \u001B[0;32m~/envs/llama/lib/python3.10/site-packages/gensim/models/word2vec.py:1953\u001B[0m, in \u001B[0;36mWord2Vec.load\u001B[0;34m(cls, rethrow, *args, **kwargs)\u001B[0m\n\u001B[1;32m   1934\u001B[0m \u001B[38;5;250m\u001B[39m\u001B[38;5;124;03m\"\"\"Load a previously saved :class:`~gensim.models.word2vec.Word2Vec` model.\u001B[39;00m\n\u001B[1;32m   1935\u001B[0m \n\u001B[1;32m   1936\u001B[0m \u001B[38;5;124;03mSee Also\u001B[39;00m\n\u001B[0;32m   (...)\u001B[0m\n\u001B[1;32m   1950\u001B[0m \n\u001B[1;32m   1951\u001B[0m \u001B[38;5;124;03m\"\"\"\u001B[39;00m\n\u001B[1;32m   1952\u001B[0m \u001B[38;5;28;01mtry\u001B[39;00m:\n\u001B[0;32m-> 1953\u001B[0m     model \u001B[38;5;241m=\u001B[39m \u001B[38;5;28;43msuper\u001B[39;49m\u001B[43m(\u001B[49m\u001B[43mWord2Vec\u001B[49m\u001B[43m,\u001B[49m\u001B[43m \u001B[49m\u001B[38;5;28;43mcls\u001B[39;49m\u001B[43m)\u001B[49m\u001B[38;5;241;43m.\u001B[39;49m\u001B[43mload\u001B[49m\u001B[43m(\u001B[49m\u001B[38;5;241;43m*\u001B[39;49m\u001B[43margs\u001B[49m\u001B[43m,\u001B[49m\u001B[43m \u001B[49m\u001B[38;5;241;43m*\u001B[39;49m\u001B[38;5;241;43m*\u001B[39;49m\u001B[43mkwargs\u001B[49m\u001B[43m)\u001B[49m\n\u001B[1;32m   1954\u001B[0m     \u001B[38;5;28;01mif\u001B[39;00m \u001B[38;5;129;01mnot\u001B[39;00m \u001B[38;5;28misinstance\u001B[39m(model, Word2Vec):\n\u001B[1;32m   1955\u001B[0m         rethrow \u001B[38;5;241m=\u001B[39m \u001B[38;5;28;01mTrue\u001B[39;00m\n",
      "File \u001B[0;32m~/envs/llama/lib/python3.10/site-packages/gensim/utils.py:483\u001B[0m, in \u001B[0;36mSaveLoad.load\u001B[0;34m(cls, fname, mmap)\u001B[0m\n\u001B[1;32m    454\u001B[0m \u001B[38;5;250m\u001B[39m\u001B[38;5;124;03m\"\"\"Load an object previously saved using :meth:`~gensim.utils.SaveLoad.save` from a file.\u001B[39;00m\n\u001B[1;32m    455\u001B[0m \n\u001B[1;32m    456\u001B[0m \u001B[38;5;124;03mParameters\u001B[39;00m\n\u001B[0;32m   (...)\u001B[0m\n\u001B[1;32m    479\u001B[0m \n\u001B[1;32m    480\u001B[0m \u001B[38;5;124;03m\"\"\"\u001B[39;00m\n\u001B[1;32m    481\u001B[0m logger\u001B[38;5;241m.\u001B[39minfo(\u001B[38;5;124m\"\u001B[39m\u001B[38;5;124mloading \u001B[39m\u001B[38;5;132;01m%s\u001B[39;00m\u001B[38;5;124m object from \u001B[39m\u001B[38;5;132;01m%s\u001B[39;00m\u001B[38;5;124m\"\u001B[39m, \u001B[38;5;28mcls\u001B[39m\u001B[38;5;241m.\u001B[39m\u001B[38;5;18m__name__\u001B[39m, fname)\n\u001B[0;32m--> 483\u001B[0m compress, subname \u001B[38;5;241m=\u001B[39m \u001B[43mSaveLoad\u001B[49m\u001B[38;5;241;43m.\u001B[39;49m\u001B[43m_adapt_by_suffix\u001B[49m\u001B[43m(\u001B[49m\u001B[43mfname\u001B[49m\u001B[43m)\u001B[49m\n\u001B[1;32m    485\u001B[0m obj \u001B[38;5;241m=\u001B[39m unpickle(fname)\n\u001B[1;32m    486\u001B[0m obj\u001B[38;5;241m.\u001B[39m_load_specials(fname, mmap, compress, subname)\n",
      "File \u001B[0;32m~/envs/llama/lib/python3.10/site-packages/gensim/utils.py:572\u001B[0m, in \u001B[0;36mSaveLoad._adapt_by_suffix\u001B[0;34m(fname)\u001B[0m\n\u001B[1;32m    557\u001B[0m \u001B[38;5;129m@staticmethod\u001B[39m\n\u001B[1;32m    558\u001B[0m \u001B[38;5;28;01mdef\u001B[39;00m \u001B[38;5;21m_adapt_by_suffix\u001B[39m(fname):\n\u001B[1;32m    559\u001B[0m \u001B[38;5;250m    \u001B[39m\u001B[38;5;124;03m\"\"\"Get compress setting and filename for numpy file compression.\u001B[39;00m\n\u001B[1;32m    560\u001B[0m \n\u001B[1;32m    561\u001B[0m \u001B[38;5;124;03m    Parameters\u001B[39;00m\n\u001B[0;32m   (...)\u001B[0m\n\u001B[1;32m    570\u001B[0m \n\u001B[1;32m    571\u001B[0m \u001B[38;5;124;03m    \"\"\"\u001B[39;00m\n\u001B[0;32m--> 572\u001B[0m     compress, suffix \u001B[38;5;241m=\u001B[39m (\u001B[38;5;28;01mTrue\u001B[39;00m, \u001B[38;5;124m'\u001B[39m\u001B[38;5;124mnpz\u001B[39m\u001B[38;5;124m'\u001B[39m) \u001B[38;5;28;01mif\u001B[39;00m \u001B[43mfname\u001B[49m\u001B[38;5;241;43m.\u001B[39;49m\u001B[43mendswith\u001B[49m(\u001B[38;5;124m'\u001B[39m\u001B[38;5;124m.gz\u001B[39m\u001B[38;5;124m'\u001B[39m) \u001B[38;5;129;01mor\u001B[39;00m fname\u001B[38;5;241m.\u001B[39mendswith(\u001B[38;5;124m'\u001B[39m\u001B[38;5;124m.bz2\u001B[39m\u001B[38;5;124m'\u001B[39m) \u001B[38;5;28;01melse\u001B[39;00m (\u001B[38;5;28;01mFalse\u001B[39;00m, \u001B[38;5;124m'\u001B[39m\u001B[38;5;124mnpy\u001B[39m\u001B[38;5;124m'\u001B[39m)\n\u001B[1;32m    573\u001B[0m     \u001B[38;5;28;01mreturn\u001B[39;00m compress, \u001B[38;5;28;01mlambda\u001B[39;00m \u001B[38;5;241m*\u001B[39margs: \u001B[38;5;124m'\u001B[39m\u001B[38;5;124m.\u001B[39m\u001B[38;5;124m'\u001B[39m\u001B[38;5;241m.\u001B[39mjoin(args \u001B[38;5;241m+\u001B[39m (suffix,))\n",
      "\u001B[0;31mAttributeError\u001B[0m: 'KeyedVectors' object has no attribute 'endswith'"
     ]
    }
   ],
   "execution_count": 36
  },
  {
   "metadata": {},
   "cell_type": "code",
   "outputs": [],
   "execution_count": null,
   "source": "",
   "id": "f761251021ab9f32"
  },
  {
   "metadata": {},
   "cell_type": "code",
   "outputs": [],
   "execution_count": null,
   "source": "",
   "id": "ae9a500354467e9c"
  },
  {
   "metadata": {},
   "cell_type": "code",
   "outputs": [],
   "execution_count": null,
   "source": "",
   "id": "1586a88aaf9b3fd8"
  },
  {
   "metadata": {},
   "cell_type": "markdown",
   "source": "### FAIS INDEXING",
   "id": "ee90a243937a71df"
  },
  {
   "metadata": {
    "ExecuteTime": {
     "end_time": "2025-01-21T10:51:56.685548Z",
     "start_time": "2025-01-21T10:51:56.683117Z"
    }
   },
   "cell_type": "code",
   "source": [
    "print(\"Class:\", classes[0].items())\n",
    "print(\"Object Property:\", object_properties[2].items())\n",
    "print(\"Data Property:\", data_properties[2].items())\n",
    "print(\"Annotation Property:\", annotation_properties[2].items())"
   ],
   "id": "6e372869eedd2e93",
   "outputs": [
    {
     "name": "stdout",
     "output_type": "stream",
     "text": [
      "Class: dict_items([('name', 'Affordance'), ('comment', ['A relation between an object (the bearer) and others (the triggers) that describes the disposition of the bearer to be involved in an action execution that also involves some trigger object.']), ('label', []), ('defined_by', ['http://www.ease-crc.org/ont/SOMA-OBJ.owl']), ('iri', 'http://www.ease-crc.org/ont/SOMA.owl#Affordance'), ('subclasses', [])])\n",
      "Object Property: dict_items([('name', 'isAffectedBy'), ('comment', ['Simple relationship between two actions to express that a variation in the course or outcome of the object (the affector) would have resulted in a variation in the subject (the affectee), e.g., a planning task that sets parameters such as goal position affects the subsequently executed pick-and-place task that uses that parameter.']), ('label', ['is affected by']), ('defined_by', ['http://www.ease-crc.org/ont/SOMA-ACT.owl']), ('iri', 'http://www.ease-crc.org/ont/SOMA.owl#isAffectedBy')])\n",
      "Data Property: dict_items([('name', 'hasDataFormat'), ('comment', ['A property linking an InformationRealization to a string specifying a format name, e.g. URDF or STL.']), ('label', []), ('defined_by', ['ont.SOMA.owl']), ('iri', 'http://www.ease-crc.org/ont/SOMA.owl#hasDataFormat')])\n",
      "Annotation Property: dict_items([('name', 'symbol'), ('comment', ['An annotation property which should be used to record by what symbols or abbreviations, if any, some relation or entity is known in scientific literature.']), ('label', []), ('defined_by', ['ont.SOMA.owl']), ('iri', 'http://www.ease-crc.org/ont/SOMA.owl#symbol')])\n"
     ]
    }
   ],
   "execution_count": 5
  },
  {
   "metadata": {
    "ExecuteTime": {
     "end_time": "2025-01-15T11:42:12.585076Z",
     "start_time": "2025-01-15T11:42:12.582508Z"
    }
   },
   "cell_type": "code",
   "source": [
    "import re\n",
    "\n",
    "def find_classes_by_name(classes, pattern):\n",
    "    matching_classes = []\n",
    "    regex = re.compile(pattern, re.IGNORECASE)\n",
    "    for cls in classes:\n",
    "        if regex.search(cls['name']):  # Check if the pattern matches the class name\n",
    "            matching_classes.append(cls)\n",
    "    return matching_classes\n",
    "pattern = r\"^hold.*\"  # Matches any class name that starts with 'Person'\n",
    "matching_classes = find_classes_by_name(classes, pattern)\n",
    "# Print results\n",
    "print(f\"Classes matching pattern '{pattern}':\")\n",
    "for cls in matching_classes:\n",
    "    print(cls)"
   ],
   "id": "bb32b87d445ed66",
   "outputs": [
    {
     "name": "stdout",
     "output_type": "stream",
     "text": [
      "Classes matching pattern '^hold.*':\n",
      "{'name': 'Holding', 'comment': ['A task by which an Agent keeps an object over which it has kinematic control, typically via grasping, at some specified pose.'], 'label': [], 'defined_by': ['http://www.ease-crc.org/ont/SOMA-ACT.owl'], 'iri': 'http://www.ease-crc.org/ont/SOMA.owl#Holding', 'subclasses': []}\n"
     ]
    }
   ],
   "execution_count": 11
  },
  {
   "metadata": {
    "ExecuteTime": {
     "end_time": "2025-01-15T11:44:26.168638Z",
     "start_time": "2025-01-15T11:44:26.161197Z"
    }
   },
   "cell_type": "code",
   "source": [
    "from rapidfuzz import process\n",
    "\n",
    "def find_similar_entities(word, lists, threshold=80):\n",
    "    results = {}\n",
    "    for category, entities in lists.items():\n",
    "        matches = []\n",
    "        for entity in entities:\n",
    "            # Compute similarity between the word and entity name\n",
    "            name = entity['name']\n",
    "            similarity = process.extractOne(word, [name], score_cutoff=threshold)\n",
    "            if similarity:\n",
    "                matches.append({'name': name, 'score': similarity[1], 'details': entity})\n",
    "        results[category] = matches\n",
    "    return results\n",
    "\n",
    "entity_lists = {'Classes': classes, 'Object Properties': object_properties, 'Data Properties': data_properties, 'Annotation Properties': annotation_properties}"
   ],
   "id": "c8e9125f65cb7e6b",
   "outputs": [],
   "execution_count": 12
  },
  {
   "metadata": {
    "ExecuteTime": {
     "end_time": "2025-01-15T11:45:34.368518Z",
     "start_time": "2025-01-15T11:45:34.363247Z"
    }
   },
   "cell_type": "code",
   "source": [
    "# Input word to search\n",
    "word = 'approach'\n",
    "\n",
    "# Find similar entities\n",
    "similar_matches = find_similar_entities(word, entity_lists, threshold=70)\n",
    "\n",
    "# Print results\n",
    "for category, matches in similar_matches.items():\n",
    "    print(f\"Category: {category}\")\n",
    "    for match in matches:\n",
    "        print(f\"  Name: {match['name']} (Score: {match['score']})\")\n",
    "        print(f\"  Details: {match['details']}\")"
   ],
   "id": "6b403ecbccc9f4a9",
   "outputs": [
    {
     "name": "stdout",
     "output_type": "stream",
     "text": [
      "Category: Classes\n",
      "  Name: Approaching (Score: 73.6842105263158)\n",
      "  Details: {'name': 'Approaching', 'comment': ['A process type to classify motions by which a body approaches some object or location.'], 'label': [], 'defined_by': ['http://www.ease-crc.org/ont/SOMA-PROC.owl'], 'iri': 'http://www.ease-crc.org/ont/SOMA.owl#Approaching', 'subclasses': []}\n",
      "Category: Object Properties\n",
      "Category: Data Properties\n",
      "Category: Annotation Properties\n"
     ]
    }
   ],
   "execution_count": 16
  },
  {
   "metadata": {
    "ExecuteTime": {
     "end_time": "2025-01-15T11:48:41.877747Z",
     "start_time": "2025-01-15T11:48:41.875925Z"
    }
   },
   "cell_type": "code",
   "source": [
    "json_data = {\n",
    "    \"classes\": classes,\n",
    "    \"object_properties\": object_properties,\n",
    "    \"data_properties\": data_properties,\n",
    "    \"annotation_properties\": annotation_properties\n",
    "}"
   ],
   "id": "ffd8a777f66afd39",
   "outputs": [],
   "execution_count": 18
  },
  {
   "metadata": {
    "ExecuteTime": {
     "end_time": "2025-01-15T12:20:00.784698Z",
     "start_time": "2025-01-15T12:19:59.223542Z"
    }
   },
   "cell_type": "code",
   "source": [
    "import json\n",
    "from elasticsearch import Elasticsearch\n",
    "from sentence_transformers import SentenceTransformer\n",
    "import faiss\n",
    "import numpy as np\n",
    "# Initialize Elasticsearch client\n",
    "es = Elasticsearch([\"http://localhost:9200\"])\n",
    "# Initialize Sentence Transformer for embeddings\n",
    "model = SentenceTransformer('all-MiniLM-L6-v2')\n",
    "# FAISS index parameters\n",
    "embedding_dimension = 384  # Matches the dimension of the embedding model\n",
    "faiss_index = faiss.IndexFlatL2(embedding_dimension)"
   ],
   "id": "a8e3473e8e99abb3",
   "outputs": [],
   "execution_count": 52
  },
  {
   "metadata": {
    "ExecuteTime": {
     "end_time": "2025-01-15T12:20:31.133059Z",
     "start_time": "2025-01-15T12:20:31.130252Z"
    }
   },
   "cell_type": "code",
   "source": [
    "def encode_and_store_in_faiss(json_data):\n",
    "    descriptions = []\n",
    "    ids = []\n",
    "    faiss_mappings = {}\n",
    "\n",
    "    # Iterate over all categories in the JSON new_logs\n",
    "    for category, entities in json_data.items():\n",
    "        for entity in entities:\n",
    "            # Generate a unique ID for each entity\n",
    "            entity_id = f\"{category}_{entity['name']}\"\n",
    "\n",
    "            # Combine name and comment for embedding\n",
    "            name = entity.get('name', '')\n",
    "            comment = ' '.join(entity.get('comment', []))\n",
    "            description = f\"{comment}\".strip()\n",
    "\n",
    "            if description:  # Only process if description is not empty\n",
    "                descriptions.append(description)\n",
    "                ids.append(entity_id)\n",
    "                faiss_mappings[entity_id] = entity\n",
    "\n",
    "    # Generate embeddings\n",
    "    embeddings = model.encode(descriptions)\n",
    "\n",
    "    # Convert to FAISS compatible format and add to index\n",
    "    faiss_index.reset()\n",
    "    faiss_index.add(np.array(embeddings, dtype=np.float32))\n",
    "    print(f\"FAISS index size: {faiss_index.ntotal}\")\n",
    "\n",
    "\n",
    "    print(f\"Added {len(embeddings)} embeddings to FAISS index\")\n",
    "    return ids, faiss_mappings"
   ],
   "id": "f5026a32583ade0b",
   "outputs": [],
   "execution_count": 57
  },
  {
   "metadata": {
    "ExecuteTime": {
     "end_time": "2025-01-15T12:20:31.602453Z",
     "start_time": "2025-01-15T12:20:31.428074Z"
    }
   },
   "cell_type": "code",
   "source": [
    "ids, faiss_mappings = encode_and_store_in_faiss(json_data)\n",
    "\n",
    "# Save FAISS index and corresponding IDs\n",
    "faiss.write_index(faiss_index, \"./indexes/faiss_index.bin\")\n",
    "with open(\"indexes/faiss_ids.json\", \"w\") as f:\n",
    "    json.dump(ids, f)\n",
    "\n",
    "# Save FAISS mappings to JSON\n",
    "with open(\"./indexes/faiss_mapping.json\", \"w\") as f:\n",
    "    json.dump(faiss_mappings, f)\n",
    "\n",
    "# Save FAISS mappings to JSON\n",
    "with open(\"./indexes/faiss_ids.json\", \"w\") as f:\n",
    "    json.dump(ids, f)"
   ],
   "id": "b2372970f1cb4425",
   "outputs": [
    {
     "name": "stdout",
     "output_type": "stream",
     "text": [
      "FAISS index size: 815\n",
      "Added 815 embeddings to FAISS index\n"
     ]
    }
   ],
   "execution_count": 58
  },
  {
   "metadata": {
    "ExecuteTime": {
     "end_time": "2025-01-15T12:20:33.330237Z",
     "start_time": "2025-01-15T12:20:32.049525Z"
    }
   },
   "cell_type": "code",
   "source": [
    "# Load FAISS index\n",
    "faiss_index = faiss.read_index(\"./indexes/faiss_index.bin\")\n",
    "with open(\"./indexes/faiss_mapping.json\", \"r\") as f:\n",
    "    faiss_mappings = json.load(f)\n",
    "with open(\"./indexes/faiss_ids.json\", \"r\") as f:\n",
    "    faiss_ids = json.load(f)\n",
    "# Initialize embedding model\n",
    "model = SentenceTransformer('all-MiniLM-L6-v2')"
   ],
   "id": "9f25eb0940e02d84",
   "outputs": [],
   "execution_count": 59
  },
  {
   "metadata": {
    "ExecuteTime": {
     "end_time": "2025-01-15T12:20:33.437282Z",
     "start_time": "2025-01-15T12:20:33.427637Z"
    }
   },
   "cell_type": "code",
   "source": [
    "# Query FAISS with semantic matching\n",
    "def query_faiss(query_text, top_k=5):\n",
    "    # Encode the query text into an embedding\n",
    "    query_embedding = model.encode([query_text]).astype(np.float32)\n",
    "    # Search in FAISS\n",
    "    distances, indices = faiss_index.search(query_embedding, top_k)\n",
    "    # Display results\n",
    "    print(f\"Query: \\\"{query_text}\\\"\")\n",
    "    print(f\"Top {top_k} results:\\n\")\n",
    "    print(type(indices), indices)\n",
    "    print(len(faiss_ids))\n",
    "    for i, idx in enumerate(indices[0]):\n",
    "        print(\"ENumeration \", i, idx)\n",
    "        if idx != -1:  # Ensure valid index\n",
    "\n",
    "            entity_id = list(faiss_mappings.keys())[idx]\n",
    "            entity_details = faiss_mappings[entity_id]\n",
    "            name = entity_details.get('name', 'Unknown')\n",
    "            comment = \" \".join(entity_details.get('comment', []))\n",
    "            print(f\"Rank {i+1}:\")\n",
    "            print(f\"  Name: {name}\")\n",
    "            print(f\"  Comment: {comment}\")\n",
    "            print(f\"  Distance: {distances[0][i]:.4f}\")\n",
    "            print()\n",
    "\n",
    "# Example query: Find descriptions semantically matching \"Cut an apple\"\n",
    "query_faiss(\"approach\", top_k=3)"
   ],
   "id": "58ba4d2e823390",
   "outputs": [
    {
     "name": "stdout",
     "output_type": "stream",
     "text": [
      "Query: \"approach\"\n",
      "Top 3 results:\n",
      "\n",
      "<class 'numpy.ndarray'> [[288  59 491]]\n",
      "815\n",
      "ENumeration  0 288\n",
      "Rank 1:\n",
      "  Name: FailedAttempt\n",
      "  Comment: A description of a failed attempt to achieve some goal.\n",
      "  Distance: 1.3662\n",
      "\n",
      "ENumeration  1 59\n",
      "Rank 2:\n",
      "  Name: Plan\n",
      "  Comment: A Description having an explicit Goal, to be achieved by executing the plan\n",
      "  Distance: 1.4168\n",
      "\n",
      "ENumeration  2 491\n",
      "Rank 3:\n",
      "  Name: SupportState\n",
      "  Comment: Classifies States in which an object is not able to move under gravity because of its placement relative to some other object.\n",
      "  Distance: 1.4174\n",
      "\n"
     ]
    }
   ],
   "execution_count": 60
  },
  {
   "metadata": {
    "ExecuteTime": {
     "end_time": "2025-01-15T12:25:06.898074Z",
     "start_time": "2025-01-15T12:25:06.894967Z"
    }
   },
   "cell_type": "code",
   "source": [
    "from elasticsearch import Elasticsearch\n",
    "\n",
    "# Initialize Elasticsearch client\n",
    "es = Elasticsearch(\"http://localhost:9200\")  # Replace with your Elasticsearch endpoint\n",
    "\n",
    "def upload_to_elasticsearch(json_data, index_name):\n",
    "    for category, entities in json_data.items():\n",
    "        for entity in entities:\n",
    "            # Create a document for Elasticsearch\n",
    "            document = {\n",
    "                \"category\": category,\n",
    "                \"name\": entity.get(\"name\", \"Unknown\"),\n",
    "                \"comment\": entity.get(\"comment\", []),\n",
    "                \"iri\": entity.get(\"iri\", \"Unknown\")\n",
    "            }\n",
    "            # Use a unique ID for each document based on category and name\n",
    "            document_id = f\"{category}_{entity['name']}\"\n",
    "\n",
    "            # Index the document into Elasticsearch\n",
    "            es.index(index=index_name, id=document_id, document=document)\n",
    "            print(f\"Uploaded entity with ID: {document_id} to Elasticsearch\")"
   ],
   "id": "2aa8f026b46b8dad",
   "outputs": [],
   "execution_count": 62
  },
  {
   "metadata": {
    "ExecuteTime": {
     "end_time": "2025-01-15T12:25:25.448533Z",
     "start_time": "2025-01-15T12:25:09.245639Z"
    }
   },
   "cell_type": "code",
   "source": [
    "# Upload json_data to Elasticsearch\n",
    "upload_to_elasticsearch(json_data, \"ontology_index\")"
   ],
   "id": "6a5e9f3ef86c7b05",
   "outputs": [
    {
     "name": "stderr",
     "output_type": "stream",
     "text": [
      "/tmp/ipykernel_129827/2161129347.py:20: ElasticsearchWarning: Elasticsearch built-in security features are not enabled. Without authentication, your cluster could be accessible to anyone. See https://www.elastic.co/guide/en/elasticsearch/reference/7.17/security-minimal-setup.html to enable security.\n",
      "  es.index(index=index_name, id=document_id, document=document)\n"
     ]
    },
    {
     "name": "stdout",
     "output_type": "stream",
     "text": [
      "Uploaded entity with ID: classes_Affordance to Elasticsearch\n",
      "Uploaded entity with ID: classes_Concept to Elasticsearch\n",
      "Uploaded entity with ID: classes_Task to Elasticsearch\n",
      "Uploaded entity with ID: classes_Disposition to Elasticsearch\n",
      "Uploaded entity with ID: classes_Role to Elasticsearch\n",
      "Uploaded entity with ID: classes_Setpoint to Elasticsearch\n",
      "Uploaded entity with ID: classes_Entity to Elasticsearch\n",
      "Uploaded entity with ID: classes_Answer to Elasticsearch\n",
      "Uploaded entity with ID: classes_Message to Elasticsearch\n",
      "Uploaded entity with ID: classes_Event to Elasticsearch\n",
      "Uploaded entity with ID: classes_Transition to Elasticsearch\n",
      "Uploaded entity with ID: classes_PhysicalObject to Elasticsearch\n",
      "Uploaded entity with ID: classes_Description to Elasticsearch\n",
      "Uploaded entity with ID: classes_EventType to Elasticsearch\n",
      "Uploaded entity with ID: classes_Parameter to Elasticsearch\n",
      "Uploaded entity with ID: classes_ProcessType to Elasticsearch\n",
      "Uploaded entity with ID: classes_InformationObject to Elasticsearch\n",
      "Uploaded entity with ID: classes_Quality to Elasticsearch\n",
      "Uploaded entity with ID: classes_OrderedElement to Elasticsearch\n",
      "Uploaded entity with ID: classes_Collection to Elasticsearch\n",
      "Uploaded entity with ID: classes_System to Elasticsearch\n",
      "Uploaded entity with ID: classes_Action to Elasticsearch\n",
      "Uploaded entity with ID: classes_Region to Elasticsearch\n",
      "Uploaded entity with ID: classes_Binding to Elasticsearch\n",
      "Uploaded entity with ID: classes_Joint to Elasticsearch\n",
      "Uploaded entity with ID: classes_Color to Elasticsearch\n",
      "Uploaded entity with ID: classes_Object to Elasticsearch\n",
      "Uploaded entity with ID: classes_ExecutionStateRegion to Elasticsearch\n",
      "Uploaded entity with ID: classes_Feature to Elasticsearch\n",
      "Uploaded entity with ID: classes_Workflow to Elasticsearch\n",
      "Uploaded entity with ID: classes_FrictionAttribute to Elasticsearch\n",
      "Uploaded entity with ID: classes_Goal to Elasticsearch\n",
      "Uploaded entity with ID: classes_StateTransition to Elasticsearch\n",
      "Uploaded entity with ID: classes_Scene to Elasticsearch\n",
      "Uploaded entity with ID: classes_SituationTransition to Elasticsearch\n",
      "Uploaded entity with ID: classes_Situation to Elasticsearch\n",
      "Uploaded entity with ID: classes_NonmanifestedSituation to Elasticsearch\n",
      "Uploaded entity with ID: classes_JointLimit to Elasticsearch\n",
      "Uploaded entity with ID: classes_JointState to Elasticsearch\n",
      "Uploaded entity with ID: classes_Localization to Elasticsearch\n",
      "Uploaded entity with ID: classes_MassAttribute to Elasticsearch\n",
      "Uploaded entity with ID: classes_NetForce to Elasticsearch\n",
      "Uploaded entity with ID: classes_Process to Elasticsearch\n",
      "Uploaded entity with ID: classes_State to Elasticsearch\n",
      "Uploaded entity with ID: classes_Succedence to Elasticsearch\n",
      "Uploaded entity with ID: classes_Agent to Elasticsearch\n",
      "Uploaded entity with ID: classes_Preference to Elasticsearch\n",
      "Uploaded entity with ID: classes_Shape to Elasticsearch\n",
      "Uploaded entity with ID: classes_ShapeRegion to Elasticsearch\n",
      "Uploaded entity with ID: classes_SoftwareInstance to Elasticsearch\n",
      "Uploaded entity with ID: classes_SpaceRegion to Elasticsearch\n",
      "Uploaded entity with ID: classes_StateType to Elasticsearch\n",
      "Uploaded entity with ID: classes_Relation to Elasticsearch\n",
      "Uploaded entity with ID: classes_PhysicalArtifact to Elasticsearch\n",
      "Uploaded entity with ID: classes_PhysicalEffector to Elasticsearch\n",
      "Uploaded entity with ID: classes_PhysicalPlace to Elasticsearch\n",
      "Uploaded entity with ID: classes_QueryingTask to Elasticsearch\n",
      "Uploaded entity with ID: classes_Design to Elasticsearch\n",
      "Uploaded entity with ID: classes_Order to Elasticsearch\n",
      "Uploaded entity with ID: classes_Plan to Elasticsearch\n",
      "Uploaded entity with ID: classes_Transient to Elasticsearch\n",
      "Uploaded entity with ID: classes_ColorRegion to Elasticsearch\n",
      "Uploaded entity with ID: classes_InformationRealization to Elasticsearch\n",
      "Uploaded entity with ID: classes_ForceAttribute to Elasticsearch\n",
      "Uploaded entity with ID: classes_TimeInterval to Elasticsearch\n",
      "Uploaded entity with ID: classes_PhysicalAttribute to Elasticsearch\n",
      "Uploaded entity with ID: classes_API_Specification to Elasticsearch\n",
      "Uploaded entity with ID: classes_InterfaceSpecification to Elasticsearch\n",
      "Uploaded entity with ID: classes_AbductiveReasoning to Elasticsearch\n",
      "Uploaded entity with ID: classes_Reasoning to Elasticsearch\n",
      "Uploaded entity with ID: classes_Accessor to Elasticsearch\n",
      "Uploaded entity with ID: classes_Instrument to Elasticsearch\n",
      "Uploaded entity with ID: classes_Accident to Elasticsearch\n",
      "Uploaded entity with ID: classes_ActionExecutionPlan to Elasticsearch\n",
      "Uploaded entity with ID: classes_Status to Elasticsearch\n",
      "Uploaded entity with ID: classes_Actuating to Elasticsearch\n",
      "Uploaded entity with ID: classes_PhysicalTask to Elasticsearch\n",
      "Uploaded entity with ID: classes_AestheticDesign to Elasticsearch\n",
      "Uploaded entity with ID: classes_AgentRole to Elasticsearch\n",
      "Uploaded entity with ID: classes_CausativeRole to Elasticsearch\n",
      "Uploaded entity with ID: classes_Agonist to Elasticsearch\n",
      "Uploaded entity with ID: classes_Patient to Elasticsearch\n",
      "Uploaded entity with ID: classes_Algorithm to Elasticsearch\n",
      "Uploaded entity with ID: classes_Alteration to Elasticsearch\n",
      "Uploaded entity with ID: classes_AlterativeInteraction to Elasticsearch\n",
      "Uploaded entity with ID: classes_ForceInteraction to Elasticsearch\n",
      "Uploaded entity with ID: classes_PreservativeInteraction to Elasticsearch\n",
      "Uploaded entity with ID: classes_AlteredObject to Elasticsearch\n",
      "Uploaded entity with ID: classes_Amateurish to Elasticsearch\n",
      "Uploaded entity with ID: classes_DexterityDiagnosis to Elasticsearch\n",
      "Uploaded entity with ID: classes_Masterful to Elasticsearch\n",
      "Uploaded entity with ID: classes_AnsweringTask to Elasticsearch\n",
      "Uploaded entity with ID: classes_CommandingTask to Elasticsearch\n",
      "Uploaded entity with ID: classes_IllocutionaryTask to Elasticsearch\n",
      "Uploaded entity with ID: classes_Antagonist to Elasticsearch\n",
      "Uploaded entity with ID: classes_Appliance to Elasticsearch\n",
      "Uploaded entity with ID: classes_DesignedArtifact to Elasticsearch\n",
      "Uploaded entity with ID: classes_Approaching to Elasticsearch\n",
      "Uploaded entity with ID: classes_Locomotion to Elasticsearch\n",
      "Uploaded entity with ID: classes_ArchiveFile to Elasticsearch\n",
      "Uploaded entity with ID: classes_ArchiveText to Elasticsearch\n",
      "Uploaded entity with ID: classes_Digital_File to Elasticsearch\n",
      "Uploaded entity with ID: classes_ArchiveFormat to Elasticsearch\n",
      "Uploaded entity with ID: classes_File_format to Elasticsearch\n",
      "Uploaded entity with ID: classes_FileConfiguration to Elasticsearch\n",
      "Uploaded entity with ID: classes_Structured_Text to Elasticsearch\n",
      "Uploaded entity with ID: classes_AreaSurveying to Elasticsearch\n",
      "Uploaded entity with ID: classes_Perceiving to Elasticsearch\n",
      "Uploaded entity with ID: classes_Arm to Elasticsearch\n",
      "Uploaded entity with ID: classes_Limb to Elasticsearch\n",
      "Uploaded entity with ID: classes_Arranging to Elasticsearch\n",
      "Uploaded entity with ID: classes_Constructing to Elasticsearch\n",
      "Uploaded entity with ID: classes_ArtificialAgent to Elasticsearch\n",
      "Uploaded entity with ID: classes_PhysicalAgent to Elasticsearch\n",
      "Uploaded entity with ID: classes_Assembling to Elasticsearch\n",
      "Uploaded entity with ID: classes_AssertionTask to Elasticsearch\n",
      "Uploaded entity with ID: classes_DeclarativeClause to Elasticsearch\n",
      "Uploaded entity with ID: classes_AssumingArmPose to Elasticsearch\n",
      "Uploaded entity with ID: classes_AssumingPose to Elasticsearch\n",
      "Uploaded entity with ID: classes_AttentionShift to Elasticsearch\n",
      "Uploaded entity with ID: classes_MentalTask to Elasticsearch\n",
      "Uploaded entity with ID: classes_AvoidedObject to Elasticsearch\n",
      "Uploaded entity with ID: classes_Avoiding to Elasticsearch\n",
      "Uploaded entity with ID: classes_Navigating to Elasticsearch\n",
      "Uploaded entity with ID: classes_Barrier to Elasticsearch\n",
      "Uploaded entity with ID: classes_Restrictor to Elasticsearch\n",
      "Uploaded entity with ID: classes_BehavioralDiagnosis to Elasticsearch\n",
      "Uploaded entity with ID: classes_Diagnosis to Elasticsearch\n",
      "Uploaded entity with ID: classes_BeneficiaryRole to Elasticsearch\n",
      "Uploaded entity with ID: classes_GoalRole to Elasticsearch\n",
      "Uploaded entity with ID: classes_CounterfactualBinding to Elasticsearch\n",
      "Uploaded entity with ID: classes_FactualBinding to Elasticsearch\n",
      "Uploaded entity with ID: classes_RoleFillerBinding to Elasticsearch\n",
      "Uploaded entity with ID: classes_RoleRoleBinding to Elasticsearch\n",
      "Uploaded entity with ID: classes_Blockage to Elasticsearch\n",
      "Uploaded entity with ID: classes_BlockedObject to Elasticsearch\n",
      "Uploaded entity with ID: classes_BodyMovement to Elasticsearch\n",
      "Uploaded entity with ID: classes_Motion to Elasticsearch\n",
      "Uploaded entity with ID: classes_Boiling to Elasticsearch\n",
      "Uploaded entity with ID: classes_Vaporizing to Elasticsearch\n",
      "Uploaded entity with ID: classes_BoxShape to Elasticsearch\n",
      "Uploaded entity with ID: classes_CanCut to Elasticsearch\n",
      "Uploaded entity with ID: classes_Variability to Elasticsearch\n",
      "Uploaded entity with ID: classes_Cutter to Elasticsearch\n",
      "Uploaded entity with ID: classes_CutObject to Elasticsearch\n",
      "Uploaded entity with ID: classes_Capability to Elasticsearch\n",
      "Uploaded entity with ID: classes_Capacity to Elasticsearch\n",
      "Uploaded entity with ID: classes_Intrinsic to Elasticsearch\n",
      "Uploaded entity with ID: classes_Catching to Elasticsearch\n",
      "Uploaded entity with ID: classes_PickingUp to Elasticsearch\n",
      "Uploaded entity with ID: classes_CausalEventRole to Elasticsearch\n",
      "Uploaded entity with ID: classes_EventAdjacentRole to Elasticsearch\n",
      "Uploaded entity with ID: classes_CausedMotionTheory to Elasticsearch\n",
      "Uploaded entity with ID: classes_ImageSchemaTheory to Elasticsearch\n",
      "Uploaded entity with ID: classes_PerformerRole to Elasticsearch\n",
      "Uploaded entity with ID: classes_SourcePathGoalTheory to Elasticsearch\n",
      "Uploaded entity with ID: classes_Channel to Elasticsearch\n",
      "Uploaded entity with ID: classes_PathRole to Elasticsearch\n",
      "Uploaded entity with ID: classes_CommunicationTask to Elasticsearch\n",
      "Uploaded entity with ID: classes_CheckingObjectPresence to Elasticsearch\n",
      "Uploaded entity with ID: classes_ChemicalProcess to Elasticsearch\n",
      "Uploaded entity with ID: classes_Choice to Elasticsearch\n",
      "Uploaded entity with ID: classes_ResultRole to Elasticsearch\n",
      "Uploaded entity with ID: classes_CircularCylinder to Elasticsearch\n",
      "Uploaded entity with ID: classes_CylinderShape to Elasticsearch\n",
      "Uploaded entity with ID: classes_Classifier to Elasticsearch\n",
      "Uploaded entity with ID: classes_StatisticalReasoner to Elasticsearch\n",
      "Uploaded entity with ID: classes_ClausalObject to Elasticsearch\n",
      "Uploaded entity with ID: classes_Phrase to Elasticsearch\n",
      "Uploaded entity with ID: classes_Clean to Elasticsearch\n",
      "Uploaded entity with ID: classes_CleanlinessRegion to Elasticsearch\n",
      "Uploaded entity with ID: classes_Cleaning to Elasticsearch\n",
      "Uploaded entity with ID: classes_ModifyingPhysicalObject to Elasticsearch\n",
      "Uploaded entity with ID: classes_Purification to Elasticsearch\n",
      "Uploaded entity with ID: classes_Cleanliness to Elasticsearch\n",
      "Uploaded entity with ID: classes_SocialQuality to Elasticsearch\n",
      "Uploaded entity with ID: classes_Client-Server_Specification to Elasticsearch\n",
      "Uploaded entity with ID: classes_ClientRole to Elasticsearch\n",
      "Uploaded entity with ID: classes_ServerRole to Elasticsearch\n",
      "Uploaded entity with ID: classes_InterfaceComponentRole to Elasticsearch\n",
      "Uploaded entity with ID: classes_Closing to Elasticsearch\n",
      "Uploaded entity with ID: classes_Delivering to Elasticsearch\n",
      "Uploaded entity with ID: classes_Fetching to Elasticsearch\n",
      "Uploaded entity with ID: classes_Lifting to Elasticsearch\n",
      "Uploaded entity with ID: classes_Opening to Elasticsearch\n",
      "Uploaded entity with ID: classes_Pulling to Elasticsearch\n",
      "Uploaded entity with ID: classes_Pushing to Elasticsearch\n",
      "Uploaded entity with ID: classes_Squeezing to Elasticsearch\n",
      "Uploaded entity with ID: classes_Clumsiness to Elasticsearch\n",
      "Uploaded entity with ID: classes_CognitiveAgent to Elasticsearch\n",
      "Uploaded entity with ID: classes_SubCognitiveAgent to Elasticsearch\n",
      "Uploaded entity with ID: classes_Collision to Elasticsearch\n",
      "Uploaded entity with ID: classes_Extrinsic to Elasticsearch\n",
      "Uploaded entity with ID: classes_ImperativeClause to Elasticsearch\n",
      "Uploaded entity with ID: classes_CommitedObject to Elasticsearch\n",
      "Uploaded entity with ID: classes_ConnectedObject to Elasticsearch\n",
      "Uploaded entity with ID: classes_CommunicationAction to Elasticsearch\n",
      "Uploaded entity with ID: classes_LinguisticObject to Elasticsearch\n",
      "Uploaded entity with ID: classes_CommunicationReport to Elasticsearch\n",
      "Uploaded entity with ID: classes_Receiver to Elasticsearch\n",
      "Uploaded entity with ID: classes_Sender to Elasticsearch\n",
      "Uploaded entity with ID: classes_SocialObject to Elasticsearch\n",
      "Uploaded entity with ID: classes_CommunicationTopic to Elasticsearch\n",
      "Uploaded entity with ID: classes_ResourceRole to Elasticsearch\n",
      "Uploaded entity with ID: classes_Composing to Elasticsearch\n",
      "Uploaded entity with ID: classes_Computer_Language to Elasticsearch\n",
      "Uploaded entity with ID: classes_FormalLanguage to Elasticsearch\n",
      "Uploaded entity with ID: classes_Computer_Program to Elasticsearch\n",
      "Uploaded entity with ID: classes_Programming_Language to Elasticsearch\n",
      "Uploaded entity with ID: classes_Conclusion to Elasticsearch\n",
      "Uploaded entity with ID: classes_CreatedObject to Elasticsearch\n",
      "Uploaded entity with ID: classes_Knowledge to Elasticsearch\n",
      "Uploaded entity with ID: classes_ConditionalSuccedence to Elasticsearch\n",
      "Uploaded entity with ID: classes_Configuration to Elasticsearch\n",
      "Uploaded entity with ID: classes_Connectivity to Elasticsearch\n",
      "Uploaded entity with ID: classes_ContactState to Elasticsearch\n",
      "Uploaded entity with ID: classes_Container to Elasticsearch\n",
      "Uploaded entity with ID: classes_Containment to Elasticsearch\n",
      "Uploaded entity with ID: classes_IncludedObject to Elasticsearch\n",
      "Uploaded entity with ID: classes_ContainmentState to Elasticsearch\n",
      "Uploaded entity with ID: classes_FunctionalControl to Elasticsearch\n",
      "Uploaded entity with ID: classes_ContainmentTheory to Elasticsearch\n",
      "Uploaded entity with ID: classes_ControlTheory to Elasticsearch\n",
      "Uploaded entity with ID: classes_ContinuousJoint to Elasticsearch\n",
      "Uploaded entity with ID: classes_HingeJoint to Elasticsearch\n",
      "Uploaded entity with ID: classes_FunctionalSpatialSchemaTheory to Elasticsearch\n",
      "Uploaded entity with ID: classes_Cover to Elasticsearch\n",
      "Uploaded entity with ID: classes_Coverage to Elasticsearch\n",
      "Uploaded entity with ID: classes_CoveredObject to Elasticsearch\n",
      "Uploaded entity with ID: classes_CoverageTheory to Elasticsearch\n",
      "Uploaded entity with ID: classes_CoveringTheory to Elasticsearch\n",
      "Uploaded entity with ID: classes_ExecutableSchematicTheory to Elasticsearch\n",
      "Uploaded entity with ID: classes_CrackingTheory to Elasticsearch\n",
      "Uploaded entity with ID: classes_Creation to Elasticsearch\n",
      "Uploaded entity with ID: classes_Cuttability to Elasticsearch\n",
      "Uploaded entity with ID: classes_Tool to Elasticsearch\n",
      "Uploaded entity with ID: classes_Cutting to Elasticsearch\n",
      "Uploaded entity with ID: classes_Database to Elasticsearch\n",
      "Uploaded entity with ID: classes_SoftwareRole to Elasticsearch\n",
      "Uploaded entity with ID: classes_Deciding to Elasticsearch\n",
      "Uploaded entity with ID: classes_DerivingInformation to Elasticsearch\n",
      "Uploaded entity with ID: classes_DeductiveReasoning to Elasticsearch\n",
      "Uploaded entity with ID: classes_Deformation to Elasticsearch\n",
      "Uploaded entity with ID: classes_ShapedObject to Elasticsearch\n",
      "Uploaded entity with ID: classes_FluidFlow to Elasticsearch\n",
      "Uploaded entity with ID: classes_Shifting to Elasticsearch\n",
      "Uploaded entity with ID: classes_DependentPlace to Elasticsearch\n",
      "Uploaded entity with ID: classes_Deposit to Elasticsearch\n",
      "Uploaded entity with ID: classes_DepositedObject to Elasticsearch\n",
      "Uploaded entity with ID: classes_Deposition to Elasticsearch\n",
      "Uploaded entity with ID: classes_InformationAcquisition to Elasticsearch\n",
      "Uploaded entity with ID: classes_Premise to Elasticsearch\n",
      "Uploaded entity with ID: classes_DesignedComponent to Elasticsearch\n",
      "Uploaded entity with ID: classes_FunctionalPart to Elasticsearch\n",
      "Uploaded entity with ID: classes_DesignedContainer to Elasticsearch\n",
      "Uploaded entity with ID: classes_DesignedFurniture to Elasticsearch\n",
      "Uploaded entity with ID: classes_DesignedTool to Elasticsearch\n",
      "Uploaded entity with ID: classes_Destination to Elasticsearch\n",
      "Uploaded entity with ID: classes_Location to Elasticsearch\n",
      "Uploaded entity with ID: classes_DestroyedObject to Elasticsearch\n",
      "Uploaded entity with ID: classes_Destruction to Elasticsearch\n",
      "Uploaded entity with ID: classes_DetectedObject to Elasticsearch\n",
      "Uploaded entity with ID: classes_DeviceState to Elasticsearch\n",
      "Uploaded entity with ID: classes_DeviceStateRange to Elasticsearch\n",
      "Uploaded entity with ID: classes_DeviceTurnedOff to Elasticsearch\n",
      "Uploaded entity with ID: classes_DeviceTurnedOn to Elasticsearch\n",
      "Uploaded entity with ID: classes_Dicing to Elasticsearch\n",
      "Uploaded entity with ID: classes_DirectedMotion to Elasticsearch\n",
      "Uploaded entity with ID: classes_UndirectedMotion to Elasticsearch\n",
      "Uploaded entity with ID: classes_Dirty to Elasticsearch\n",
      "Uploaded entity with ID: classes_Discourse to Elasticsearch\n",
      "Uploaded entity with ID: classes_Distancing to Elasticsearch\n",
      "Uploaded entity with ID: classes_Dreaming to Elasticsearch\n",
      "Uploaded entity with ID: classes_Driving to Elasticsearch\n",
      "Uploaded entity with ID: classes_Flying to Elasticsearch\n",
      "Uploaded entity with ID: classes_Swimming to Elasticsearch\n",
      "Uploaded entity with ID: classes_Walking to Elasticsearch\n",
      "Uploaded entity with ID: classes_Dropping to Elasticsearch\n",
      "Uploaded entity with ID: classes_Placing to Elasticsearch\n",
      "Uploaded entity with ID: classes_ESTSchemaTheory to Elasticsearch\n",
      "Uploaded entity with ID: classes_ExistingObjectRole to Elasticsearch\n",
      "Uploaded entity with ID: classes_Effort to Elasticsearch\n",
      "Uploaded entity with ID: classes_EnclosedObject to Elasticsearch\n",
      "Uploaded entity with ID: classes_Enclosing to Elasticsearch\n",
      "Uploaded entity with ID: classes_EndEffectorPositioning to Elasticsearch\n",
      "Uploaded entity with ID: classes_Manipulating to Elasticsearch\n",
      "Uploaded entity with ID: classes_Episode to Elasticsearch\n",
      "Uploaded entity with ID: classes_ExcludedObject to Elasticsearch\n",
      "Uploaded entity with ID: classes_ExecutableFile to Elasticsearch\n",
      "Uploaded entity with ID: classes_Executable_Code to Elasticsearch\n",
      "Uploaded entity with ID: classes_ExecutableFormat to Elasticsearch\n",
      "Uploaded entity with ID: classes_SchematicTheory to Elasticsearch\n",
      "Uploaded entity with ID: classes_ExecutableSoftware to Elasticsearch\n",
      "Uploaded entity with ID: classes_Software to Elasticsearch\n",
      "Uploaded entity with ID: classes_RelationAdjacentRole to Elasticsearch\n",
      "Uploaded entity with ID: classes_ExperiencerRole to Elasticsearch\n",
      "Uploaded entity with ID: classes_ExtractedObject to Elasticsearch\n",
      "Uploaded entity with ID: classes_PhysicalQuality to Elasticsearch\n",
      "Uploaded entity with ID: classes_FailedAttempt to Elasticsearch\n",
      "Uploaded entity with ID: classes_Unsuccessfulness to Elasticsearch\n",
      "Uploaded entity with ID: classes_FaultySoftware to Elasticsearch\n",
      "Uploaded entity with ID: classes_SoftwareDiagnosis to Elasticsearch\n",
      "Uploaded entity with ID: classes_PhysicalAcquiring to Elasticsearch\n",
      "Uploaded entity with ID: classes_Configuration to Elasticsearch\n",
      "Uploaded entity with ID: classes_Finger to Elasticsearch\n",
      "Uploaded entity with ID: classes_Hand to Elasticsearch\n",
      "Uploaded entity with ID: classes_FixedJoint to Elasticsearch\n",
      "Uploaded entity with ID: classes_MovableJoint to Elasticsearch\n",
      "Uploaded entity with ID: classes_Flipping to Elasticsearch\n",
      "Uploaded entity with ID: classes_FloatingJoint to Elasticsearch\n",
      "Uploaded entity with ID: classes_Fluid to Elasticsearch\n",
      "Uploaded entity with ID: classes_Substance to Elasticsearch\n",
      "Uploaded entity with ID: classes_MovedObject to Elasticsearch\n",
      "Uploaded entity with ID: classes_Focusing to Elasticsearch\n",
      "Uploaded entity with ID: classes_Foolishness to Elasticsearch\n",
      "Uploaded entity with ID: classes_ForgettingIncorrectInformation to Elasticsearch\n",
      "Uploaded entity with ID: classes_InformationDismissal to Elasticsearch\n",
      "Uploaded entity with ID: classes_ForgettingIrrelevantInformation to Elasticsearch\n",
      "Uploaded entity with ID: classes_Language to Elasticsearch\n",
      "Uploaded entity with ID: classes_Item to Elasticsearch\n",
      "Uploaded entity with ID: classes_FunctionalDesign to Elasticsearch\n",
      "Uploaded entity with ID: classes_FunctionalDiagnosis to Elasticsearch\n",
      "Uploaded entity with ID: classes_PhysicalBody to Elasticsearch\n",
      "Uploaded entity with ID: classes_LocatumRole to Elasticsearch\n",
      "Uploaded entity with ID: classes_RelatumRole to Elasticsearch\n",
      "Uploaded entity with ID: classes_GetTaskParameter to Elasticsearch\n",
      "Uploaded entity with ID: classes_Planning to Elasticsearch\n",
      "Uploaded entity with ID: classes_GraphDatabase to Elasticsearch\n",
      "Uploaded entity with ID: classes_GraphQueryLanguage to Elasticsearch\n",
      "Uploaded entity with ID: classes_QueryLanguage to Elasticsearch\n",
      "Uploaded entity with ID: classes_GraspTransfer to Elasticsearch\n",
      "Uploaded entity with ID: classes_Grasping to Elasticsearch\n",
      "Uploaded entity with ID: classes_Graspability to Elasticsearch\n",
      "Uploaded entity with ID: classes_Releasing to Elasticsearch\n",
      "Uploaded entity with ID: classes_GraspingMotion to Elasticsearch\n",
      "Uploaded entity with ID: classes_IntermediateGrasp to Elasticsearch\n",
      "Uploaded entity with ID: classes_PowerGrasp to Elasticsearch\n",
      "Uploaded entity with ID: classes_PrecisionGrasp to Elasticsearch\n",
      "Uploaded entity with ID: classes_PrehensileMotion to Elasticsearch\n",
      "Uploaded entity with ID: classes_ReleasingMotion to Elasticsearch\n",
      "Uploaded entity with ID: classes_GreenColor to Elasticsearch\n",
      "Uploaded entity with ID: classes_Gripper to Elasticsearch\n",
      "Uploaded entity with ID: classes_PrehensileEffector to Elasticsearch\n",
      "Uploaded entity with ID: classes_HardwareDiagnosis to Elasticsearch\n",
      "Uploaded entity with ID: classes_TechnicalDiagnosis to Elasticsearch\n",
      "Uploaded entity with ID: classes_HasQualityRegion to Elasticsearch\n",
      "Uploaded entity with ID: classes_Head to Elasticsearch\n",
      "Uploaded entity with ID: classes_HeadMovement to Elasticsearch\n",
      "Uploaded entity with ID: classes_HeadTurning to Elasticsearch\n",
      "Uploaded entity with ID: classes_Holding to Elasticsearch\n",
      "Uploaded entity with ID: classes_HostRole to Elasticsearch\n",
      "Uploaded entity with ID: classes_PluginSpecification to Elasticsearch\n",
      "Uploaded entity with ID: classes_Human-readable_Programming_Language to Elasticsearch\n",
      "Uploaded entity with ID: classes_Source_Code to Elasticsearch\n",
      "Uploaded entity with ID: classes_HumanActivityRecording to Elasticsearch\n",
      "Uploaded entity with ID: classes_RecordedEpisode to Elasticsearch\n",
      "Uploaded entity with ID: classes_Imagining to Elasticsearch\n",
      "Uploaded entity with ID: classes_Impediment to Elasticsearch\n",
      "Uploaded entity with ID: classes_Obstacle to Elasticsearch\n",
      "Uploaded entity with ID: classes_RestrictedObject to Elasticsearch\n",
      "Uploaded entity with ID: classes_Inability to Elasticsearch\n",
      "Uploaded entity with ID: classes_IncompatibleSoftware to Elasticsearch\n",
      "Uploaded entity with ID: classes_InductiveReasoning to Elasticsearch\n",
      "Uploaded entity with ID: classes_Infeasibility to Elasticsearch\n",
      "Uploaded entity with ID: classes_InferenceRules to Elasticsearch\n",
      "Uploaded entity with ID: classes_InformationRetrieval to Elasticsearch\n",
      "Uploaded entity with ID: classes_InformationStorage to Elasticsearch\n",
      "Uploaded entity with ID: classes_StoredObject to Elasticsearch\n",
      "Uploaded entity with ID: classes_InsertedObject to Elasticsearch\n",
      "Uploaded entity with ID: classes_Insertion to Elasticsearch\n",
      "Uploaded entity with ID: classes_Instructions to Elasticsearch\n",
      "Uploaded entity with ID: classes_Interpreting to Elasticsearch\n",
      "Uploaded entity with ID: classes_InterrogativeClause to Elasticsearch\n",
      "Uploaded entity with ID: classes_Introspecting to Elasticsearch\n",
      "Uploaded entity with ID: classes_KineticFrictionAttribute to Elasticsearch\n",
      "Uploaded entity with ID: classes_KinoDynamicData to Elasticsearch\n",
      "Uploaded entity with ID: classes_KnowledgeRepresentationLanguage to Elasticsearch\n",
      "Uploaded entity with ID: classes_Labeling to Elasticsearch\n",
      "Uploaded entity with ID: classes_Text to Elasticsearch\n",
      "Uploaded entity with ID: classes_Leaning to Elasticsearch\n",
      "Uploaded entity with ID: classes_PosturalMoving to Elasticsearch\n",
      "Uploaded entity with ID: classes_Learning to Elasticsearch\n",
      "Uploaded entity with ID: classes_Leg to Elasticsearch\n",
      "Uploaded entity with ID: classes_LimbMotion to Elasticsearch\n",
      "Uploaded entity with ID: classes_Linkage to Elasticsearch\n",
      "Uploaded entity with ID: classes_LinkedObject to Elasticsearch\n",
      "Uploaded entity with ID: classes_LinkageState to Elasticsearch\n",
      "Uploaded entity with ID: classes_SpatioTemporalRole to Elasticsearch\n",
      "Uploaded entity with ID: classes_SpatialRelationRole to Elasticsearch\n",
      "Uploaded entity with ID: classes_LocutionaryAction to Elasticsearch\n",
      "Uploaded entity with ID: classes_LookingAt to Elasticsearch\n",
      "Uploaded entity with ID: classes_LookingFor to Elasticsearch\n",
      "Uploaded entity with ID: classes_Lowering to Elasticsearch\n",
      "Uploaded entity with ID: classes_PhysicalAction to Elasticsearch\n",
      "Uploaded entity with ID: classes_Markup_Language to Elasticsearch\n",
      "Uploaded entity with ID: classes_Material to Elasticsearch\n",
      "Uploaded entity with ID: classes_MedicalDiagnosis to Elasticsearch\n",
      "Uploaded entity with ID: classes_Organism to Elasticsearch\n",
      "Uploaded entity with ID: classes_Memorizing to Elasticsearch\n",
      "Uploaded entity with ID: classes_MentalAction to Elasticsearch\n",
      "Uploaded entity with ID: classes_MeshShape to Elasticsearch\n",
      "Uploaded entity with ID: classes_MeshShapeData to Elasticsearch\n",
      "Uploaded entity with ID: classes_MetaCognitionEvaluationTopic to Elasticsearch\n",
      "Uploaded entity with ID: classes_MetaCognitionTopic to Elasticsearch\n",
      "Uploaded entity with ID: classes_MetaCognitionMemoryTopic to Elasticsearch\n",
      "Uploaded entity with ID: classes_MetaCognitionPlanningTopic to Elasticsearch\n",
      "Uploaded entity with ID: classes_ThinkAloudTopic to Elasticsearch\n",
      "Uploaded entity with ID: classes_MetacognitiveControlling to Elasticsearch\n",
      "Uploaded entity with ID: classes_MetacognitiveMonitoring to Elasticsearch\n",
      "Uploaded entity with ID: classes_Mixing to Elasticsearch\n",
      "Uploaded entity with ID: classes_MixingTheory to Elasticsearch\n",
      "Uploaded entity with ID: classes_MonitoringJointState to Elasticsearch\n",
      "Uploaded entity with ID: classes_Proprioceiving to Elasticsearch\n",
      "Uploaded entity with ID: classes_MovingAway to Elasticsearch\n",
      "Uploaded entity with ID: classes_MovingTo to Elasticsearch\n",
      "Uploaded entity with ID: classes_Natural_Language to Elasticsearch\n",
      "Uploaded entity with ID: classes_Natural_Language_Text to Elasticsearch\n",
      "Uploaded entity with ID: classes_Ontology to Elasticsearch\n",
      "Uploaded entity with ID: classes_Ontology_Language to Elasticsearch\n",
      "Uploaded entity with ID: classes_Option to Elasticsearch\n",
      "Uploaded entity with ID: classes_FormalEntity to Elasticsearch\n",
      "Uploaded entity with ID: classes_Singleton to Elasticsearch\n",
      "Uploaded entity with ID: classes_Orienting to Elasticsearch\n",
      "Uploaded entity with ID: classes_Positioning to Elasticsearch\n",
      "Uploaded entity with ID: classes_Origin to Elasticsearch\n",
      "Uploaded entity with ID: classes_ParkingArms to Elasticsearch\n",
      "Uploaded entity with ID: classes_PhaseTransition to Elasticsearch\n",
      "Uploaded entity with ID: classes_PhysicalAccessibility to Elasticsearch\n",
      "Uploaded entity with ID: classes_PhysicalBlockage to Elasticsearch\n",
      "Uploaded entity with ID: classes_PhysicalExistence to Elasticsearch\n",
      "Uploaded entity with ID: classes_PhysicalState to Elasticsearch\n",
      "Uploaded entity with ID: classes_PhysicsProcess to Elasticsearch\n",
      "Uploaded entity with ID: classes_PlacingTheory to Elasticsearch\n",
      "Uploaded entity with ID: classes_PlanarJoint to Elasticsearch\n",
      "Uploaded entity with ID: classes_PluginRole to Elasticsearch\n",
      "Uploaded entity with ID: classes_Pourable to Elasticsearch\n",
      "Uploaded entity with ID: classes_PouredObject to Elasticsearch\n",
      "Uploaded entity with ID: classes_Pouring to Elasticsearch\n",
      "Uploaded entity with ID: classes_PouringInto to Elasticsearch\n",
      "Uploaded entity with ID: classes_PouringOnto to Elasticsearch\n",
      "Uploaded entity with ID: classes_Prediction to Elasticsearch\n",
      "Uploaded entity with ID: classes_Prospecting to Elasticsearch\n",
      "Uploaded entity with ID: classes_Predilection to Elasticsearch\n",
      "Uploaded entity with ID: classes_SocialRelation to Elasticsearch\n",
      "Uploaded entity with ID: classes_PreferenceOrder to Elasticsearch\n",
      "Uploaded entity with ID: classes_PreferenceRegion to Elasticsearch\n",
      "Uploaded entity with ID: classes_SocialObjectAttribute to Elasticsearch\n",
      "Uploaded entity with ID: classes_PrismaticJoint to Elasticsearch\n",
      "Uploaded entity with ID: classes_ProcessFlow to Elasticsearch\n",
      "Uploaded entity with ID: classes_Progression to Elasticsearch\n",
      "Uploaded entity with ID: classes_Protector to Elasticsearch\n",
      "Uploaded entity with ID: classes_ProximalTheory to Elasticsearch\n",
      "Uploaded entity with ID: classes_PushingAway to Elasticsearch\n",
      "Uploaded entity with ID: classes_PushingDown to Elasticsearch\n",
      "Uploaded entity with ID: classes_PuttingDown to Elasticsearch\n",
      "Uploaded entity with ID: classes_QualityTransition to Elasticsearch\n",
      "Uploaded entity with ID: classes_Query to Elasticsearch\n",
      "Uploaded entity with ID: classes_QueryAnsweringTask to Elasticsearch\n",
      "Uploaded entity with ID: classes_QueryEngine to Elasticsearch\n",
      "Uploaded entity with ID: classes_Reaching to Elasticsearch\n",
      "Uploaded entity with ID: classes_Retracting to Elasticsearch\n",
      "Uploaded entity with ID: classes_Reasoner to Elasticsearch\n",
      "Uploaded entity with ID: classes_RecipientRole to Elasticsearch\n",
      "Uploaded entity with ID: classes_RedColor to Elasticsearch\n",
      "Uploaded entity with ID: classes_Reification to Elasticsearch\n",
      "Uploaded entity with ID: classes_RelationalDatabase to Elasticsearch\n",
      "Uploaded entity with ID: classes_RelationalQueryLanguage to Elasticsearch\n",
      "Uploaded entity with ID: classes_RelevantPart to Elasticsearch\n",
      "Uploaded entity with ID: classes_Remembering to Elasticsearch\n",
      "Uploaded entity with ID: classes_Retrospecting to Elasticsearch\n",
      "Uploaded entity with ID: classes_RemovedObject to Elasticsearch\n",
      "Uploaded entity with ID: classes_Replanning to Elasticsearch\n",
      "Uploaded entity with ID: classes_RevoluteJoint to Elasticsearch\n",
      "Uploaded entity with ID: classes_Room to Elasticsearch\n",
      "Uploaded entity with ID: classes_RoomSurface to Elasticsearch\n",
      "Uploaded entity with ID: classes_Surface to Elasticsearch\n",
      "Uploaded entity with ID: classes_Rubbing to Elasticsearch\n",
      "Uploaded entity with ID: classes_Theory to Elasticsearch\n",
      "Uploaded entity with ID: classes_SelectedObject to Elasticsearch\n",
      "Uploaded entity with ID: classes_Selecting to Elasticsearch\n",
      "Uploaded entity with ID: classes_SelectingItem to Elasticsearch\n",
      "Uploaded entity with ID: classes_SelfReflection to Elasticsearch\n",
      "Uploaded entity with ID: classes_Serving to Elasticsearch\n",
      "Uploaded entity with ID: classes_SettingGripper to Elasticsearch\n",
      "Uploaded entity with ID: classes_6DPose to Elasticsearch\n",
      "Uploaded entity with ID: classes_Shaping to Elasticsearch\n",
      "Uploaded entity with ID: classes_Sharpness to Elasticsearch\n",
      "Uploaded entity with ID: classes_Simulating to Elasticsearch\n",
      "Uploaded entity with ID: classes_Simulation_Reasoner to Elasticsearch\n",
      "Uploaded entity with ID: classes_Set to Elasticsearch\n",
      "Uploaded entity with ID: classes_Size to Elasticsearch\n",
      "Uploaded entity with ID: classes_Slicing to Elasticsearch\n",
      "Uploaded entity with ID: classes_Sluggishness to Elasticsearch\n",
      "Uploaded entity with ID: classes_SocialState to Elasticsearch\n",
      "Uploaded entity with ID: classes_Software_Configuration to Elasticsearch\n",
      "Uploaded entity with ID: classes_SocialAgent to Elasticsearch\n",
      "Uploaded entity with ID: classes_SoftwareLibrary to Elasticsearch\n",
      "Uploaded entity with ID: classes_SourceMaterialRole to Elasticsearch\n",
      "Uploaded entity with ID: classes_SphereShape to Elasticsearch\n",
      "Uploaded entity with ID: classes_Standing to Elasticsearch\n",
      "Uploaded entity with ID: classes_StaticFrictionAttribute to Elasticsearch\n",
      "Uploaded entity with ID: classes_StatusFailure to Elasticsearch\n",
      "Uploaded entity with ID: classes_StimulusRole to Elasticsearch\n",
      "Uploaded entity with ID: classes_Stirring to Elasticsearch\n",
      "Uploaded entity with ID: classes_Storage to Elasticsearch\n",
      "Uploaded entity with ID: classes_StructuralDesign to Elasticsearch\n",
      "Uploaded entity with ID: classes_TaskInvocation to Elasticsearch\n",
      "Uploaded entity with ID: classes_SuccessDiagnosis to Elasticsearch\n",
      "Uploaded entity with ID: classes_Successfulness to Elasticsearch\n",
      "Uploaded entity with ID: classes_SupportState to Elasticsearch\n",
      "Uploaded entity with ID: classes_Supporter to Elasticsearch\n",
      "Uploaded entity with ID: classes_SupportTheory to Elasticsearch\n",
      "Uploaded entity with ID: classes_SupportedObject to Elasticsearch\n",
      "Uploaded entity with ID: classes_SymbolicReasoner to Elasticsearch\n",
      "Uploaded entity with ID: classes_Tapping to Elasticsearch\n",
      "Uploaded entity with ID: classes_Taxis to Elasticsearch\n",
      "Uploaded entity with ID: classes_Temperature to Elasticsearch\n",
      "Uploaded entity with ID: classes_TemperatureRegion to Elasticsearch\n",
      "Uploaded entity with ID: classes_Tempering to Elasticsearch\n",
      "Uploaded entity with ID: classes_ThinkAloud to Elasticsearch\n",
      "Uploaded entity with ID: classes_ThinkAloudActionTopic to Elasticsearch\n",
      "Uploaded entity with ID: classes_ThinkAloudGeneralKnowledgeTopic to Elasticsearch\n",
      "Uploaded entity with ID: classes_ThinkAloudKnowledgeTopic to Elasticsearch\n",
      "Uploaded entity with ID: classes_ThinkAloudObstructionTopic to Elasticsearch\n",
      "Uploaded entity with ID: classes_ThinkAloudOpinionTopic to Elasticsearch\n",
      "Uploaded entity with ID: classes_ThinkAloudPerceptionTopic to Elasticsearch\n",
      "Uploaded entity with ID: classes_ThinkAloudPlanTopic to Elasticsearch\n",
      "Uploaded entity with ID: classes_ThinkAloudSceneKnowledgeTopic to Elasticsearch\n",
      "Uploaded entity with ID: classes_Threshold to Elasticsearch\n",
      "Uploaded entity with ID: classes_Throwing to Elasticsearch\n",
      "Uploaded entity with ID: classes_TimeRole to Elasticsearch\n",
      "Uploaded entity with ID: classes_Transporting to Elasticsearch\n",
      "Uploaded entity with ID: classes_Triplestore to Elasticsearch\n",
      "Uploaded entity with ID: classes_Turning to Elasticsearch\n",
      "Uploaded entity with ID: classes_UnavailableSoftware to Elasticsearch\n",
      "Uploaded entity with ID: classes_VideoData to Elasticsearch\n",
      "Uploaded entity with ID: classes_3DPosition to Elasticsearch\n",
      "Uploaded entity with ID: object_properties_affects to Elasticsearch\n",
      "Uploaded entity with ID: object_properties_precedes to Elasticsearch\n",
      "Uploaded entity with ID: object_properties_isAffectedBy to Elasticsearch\n",
      "Uploaded entity with ID: object_properties_affordanceDefines to Elasticsearch\n",
      "Uploaded entity with ID: object_properties_defines to Elasticsearch\n",
      "Uploaded entity with ID: object_properties_isDefinedInAffordance to Elasticsearch\n",
      "Uploaded entity with ID: object_properties_affordanceDefinesTask to Elasticsearch\n",
      "Uploaded entity with ID: object_properties_definesTask to Elasticsearch\n",
      "Uploaded entity with ID: object_properties_isTaskDefinedInAffordance to Elasticsearch\n",
      "Uploaded entity with ID: object_properties_affordsBearer to Elasticsearch\n",
      "Uploaded entity with ID: object_properties_affordsConcept to Elasticsearch\n",
      "Uploaded entity with ID: object_properties_isBearerAffordedBy to Elasticsearch\n",
      "Uploaded entity with ID: object_properties_isDescribedBy to Elasticsearch\n",
      "Uploaded entity with ID: object_properties_definesBearer to Elasticsearch\n",
      "Uploaded entity with ID: object_properties_associatedWith to Elasticsearch\n",
      "Uploaded entity with ID: object_properties_isConceptAffordedBy to Elasticsearch\n",
      "Uploaded entity with ID: object_properties_affordsPerformer to Elasticsearch\n",
      "Uploaded entity with ID: object_properties_isPerformerAffordedBy to Elasticsearch\n",
      "Uploaded entity with ID: object_properties_definesPerformer to Elasticsearch\n",
      "Uploaded entity with ID: object_properties_affordsSetpoint to Elasticsearch\n",
      "Uploaded entity with ID: object_properties_isSetpointAffordedBy to Elasticsearch\n",
      "Uploaded entity with ID: object_properties_definesSetpoint to Elasticsearch\n",
      "Uploaded entity with ID: object_properties_affordsTask to Elasticsearch\n",
      "Uploaded entity with ID: object_properties_isTaskAffordedBy to Elasticsearch\n",
      "Uploaded entity with ID: object_properties_affordsTrigger to Elasticsearch\n",
      "Uploaded entity with ID: object_properties_isTriggerAffordedBy to Elasticsearch\n",
      "Uploaded entity with ID: object_properties_definesTrigger to Elasticsearch\n",
      "Uploaded entity with ID: object_properties_after to Elasticsearch\n",
      "Uploaded entity with ID: object_properties_follows to Elasticsearch\n",
      "Uploaded entity with ID: object_properties_before to Elasticsearch\n",
      "Uploaded entity with ID: object_properties_answers to Elasticsearch\n",
      "Uploaded entity with ID: object_properties_relatesToAnotherRole to Elasticsearch\n",
      "Uploaded entity with ID: object_properties_hasAnswer to Elasticsearch\n",
      "Uploaded entity with ID: object_properties_causes to Elasticsearch\n",
      "Uploaded entity with ID: object_properties_isReactionTo to Elasticsearch\n",
      "Uploaded entity with ID: object_properties_causesTransition to Elasticsearch\n",
      "Uploaded entity with ID: object_properties_isEventIncludedIn to Elasticsearch\n",
      "Uploaded entity with ID: object_properties_isCausedByEvent to Elasticsearch\n",
      "Uploaded entity with ID: object_properties_coOccurs to Elasticsearch\n",
      "Uploaded entity with ID: object_properties_overlaps to Elasticsearch\n",
      "Uploaded entity with ID: object_properties_contains to Elasticsearch\n",
      "Uploaded entity with ID: object_properties_isContainedIn to Elasticsearch\n",
      "Uploaded entity with ID: object_properties_containsEvent to Elasticsearch\n",
      "Uploaded entity with ID: object_properties_during to Elasticsearch\n",
      "Uploaded entity with ID: object_properties_containsObject to Elasticsearch\n",
      "Uploaded entity with ID: object_properties_isLocationOf to Elasticsearch\n",
      "Uploaded entity with ID: object_properties_isInsideOf to Elasticsearch\n",
      "Uploaded entity with ID: object_properties_coversObject to Elasticsearch\n",
      "Uploaded entity with ID: object_properties_interactsWith to Elasticsearch\n",
      "Uploaded entity with ID: object_properties_isCoveredByObject to Elasticsearch\n",
      "Uploaded entity with ID: object_properties_definesRole to Elasticsearch\n",
      "Uploaded entity with ID: object_properties_isBearerDefinedIn to Elasticsearch\n",
      "Uploaded entity with ID: object_properties_definesEventType to Elasticsearch\n",
      "Uploaded entity with ID: object_properties_isEventTypeDefinedIn to Elasticsearch\n",
      "Uploaded entity with ID: object_properties_definesInput to Elasticsearch\n",
      "Uploaded entity with ID: object_properties_definesParticipant to Elasticsearch\n",
      "Uploaded entity with ID: object_properties_definesOutput to Elasticsearch\n",
      "Uploaded entity with ID: object_properties_definesParameter to Elasticsearch\n",
      "Uploaded entity with ID: object_properties_isParameterDefinedIn to Elasticsearch\n",
      "Uploaded entity with ID: object_properties_isPerformerDefinedIn to Elasticsearch\n",
      "Uploaded entity with ID: object_properties_definesProcess to Elasticsearch\n",
      "Uploaded entity with ID: object_properties_isProcessDefinedIn to Elasticsearch\n",
      "Uploaded entity with ID: object_properties_isSetpointDefinedIn to Elasticsearch\n",
      "Uploaded entity with ID: object_properties_isTriggerDefinedIn to Elasticsearch\n",
      "Uploaded entity with ID: object_properties_derivedFrom to Elasticsearch\n",
      "Uploaded entity with ID: object_properties_isSourceFor to Elasticsearch\n",
      "Uploaded entity with ID: object_properties_describesQuality to Elasticsearch\n",
      "Uploaded entity with ID: object_properties_describes to Elasticsearch\n",
      "Uploaded entity with ID: object_properties_isQualityDescribedBy to Elasticsearch\n",
      "Uploaded entity with ID: object_properties_directlyCauses to Elasticsearch\n",
      "Uploaded entity with ID: object_properties_isDirectReactionTo to Elasticsearch\n",
      "Uploaded entity with ID: object_properties_hasTerminalScene to Elasticsearch\n",
      "Uploaded entity with ID: object_properties_includesEvent to Elasticsearch\n",
      "Uploaded entity with ID: object_properties_directlyDerivedFrom to Elasticsearch\n",
      "Uploaded entity with ID: object_properties_isDirectSourceFor to Elasticsearch\n",
      "Uploaded entity with ID: object_properties_encapsulates to Elasticsearch\n",
      "Uploaded entity with ID: object_properties_encodes to Elasticsearch\n",
      "Uploaded entity with ID: object_properties_finishedBy to Elasticsearch\n",
      "Uploaded entity with ID: object_properties_finishes to Elasticsearch\n",
      "Uploaded entity with ID: object_properties_firstMember to Elasticsearch\n",
      "Uploaded entity with ID: object_properties_hasMember to Elasticsearch\n",
      "Uploaded entity with ID: object_properties_givesMeaningTo to Elasticsearch\n",
      "Uploaded entity with ID: object_properties_isGivenMeaningBy to Elasticsearch\n",
      "Uploaded entity with ID: object_properties_hasAction to Elasticsearch\n",
      "Uploaded entity with ID: object_properties_hasConstituent to Elasticsearch\n",
      "Uploaded entity with ID: object_properties_hasAlterationResult to Elasticsearch\n",
      "Uploaded entity with ID: object_properties_hasRegion to Elasticsearch\n",
      "Uploaded entity with ID: object_properties_isAlterationResultOf to Elasticsearch\n",
      "Uploaded entity with ID: object_properties_hasBinding to Elasticsearch\n",
      "Uploaded entity with ID: object_properties_hasPart to Elasticsearch\n",
      "Uploaded entity with ID: object_properties_hasBindingFiller to Elasticsearch\n",
      "Uploaded entity with ID: object_properties_hasBindingRole to Elasticsearch\n",
      "Uploaded entity with ID: object_properties_hasChildLink to Elasticsearch\n",
      "Uploaded entity with ID: object_properties_isChildLinkOf to Elasticsearch\n",
      "Uploaded entity with ID: object_properties_hasColor to Elasticsearch\n",
      "Uploaded entity with ID: object_properties_hasQuality to Elasticsearch\n",
      "Uploaded entity with ID: object_properties_isColorOf to Elasticsearch\n",
      "Uploaded entity with ID: object_properties_hasDisposition to Elasticsearch\n",
      "Uploaded entity with ID: object_properties_isDispositionOf to Elasticsearch\n",
      "Uploaded entity with ID: object_properties_hasEndLink to Elasticsearch\n",
      "Uploaded entity with ID: object_properties_hasLink to Elasticsearch\n",
      "Uploaded entity with ID: object_properties_isEndLinkOf to Elasticsearch\n",
      "Uploaded entity with ID: object_properties_hasExecutionState to Elasticsearch\n",
      "Uploaded entity with ID: object_properties_hasFeature to Elasticsearch\n",
      "Uploaded entity with ID: object_properties_isFeatureOf to Elasticsearch\n",
      "Uploaded entity with ID: object_properties_hasFirstStep to Elasticsearch\n",
      "Uploaded entity with ID: object_properties_hasStep to Elasticsearch\n",
      "Uploaded entity with ID: object_properties_isFirstStepOf to Elasticsearch\n",
      "Uploaded entity with ID: object_properties_hasFrictionAttribute to Elasticsearch\n",
      "Uploaded entity with ID: object_properties_hasGoal to Elasticsearch\n",
      "Uploaded entity with ID: object_properties_hasInitialScene to Elasticsearch\n",
      "Uploaded entity with ID: object_properties_hasInitialState to Elasticsearch\n",
      "Uploaded entity with ID: object_properties_isInitialSceneOf to Elasticsearch\n",
      "Uploaded entity with ID: object_properties_hasInitialSituation to Elasticsearch\n",
      "Uploaded entity with ID: object_properties_isInitialSituationOf to Elasticsearch\n",
      "Uploaded entity with ID: object_properties_includesSituation to Elasticsearch\n",
      "Uploaded entity with ID: object_properties_isInitialStateOf to Elasticsearch\n",
      "Uploaded entity with ID: object_properties_hasInputParameter to Elasticsearch\n",
      "Uploaded entity with ID: object_properties_hasParameter to Elasticsearch\n",
      "Uploaded entity with ID: object_properties_isInputParameterFor to Elasticsearch\n",
      "Uploaded entity with ID: object_properties_hasJointLimit to Elasticsearch\n",
      "Uploaded entity with ID: object_properties_isJointLimitOf to Elasticsearch\n",
      "Uploaded entity with ID: object_properties_hasJointState to Elasticsearch\n",
      "Uploaded entity with ID: object_properties_isJointStateOf to Elasticsearch\n",
      "Uploaded entity with ID: object_properties_hasComponent to Elasticsearch\n",
      "Uploaded entity with ID: object_properties_isLinkOf to Elasticsearch\n",
      "Uploaded entity with ID: object_properties_hasLocalization to Elasticsearch\n",
      "Uploaded entity with ID: object_properties_isLocalizationOf to Elasticsearch\n",
      "Uploaded entity with ID: object_properties_hasMassAttribute to Elasticsearch\n",
      "Uploaded entity with ID: object_properties_isMassAttributeOf to Elasticsearch\n",
      "Uploaded entity with ID: object_properties_hasNetForce to Elasticsearch\n",
      "Uploaded entity with ID: object_properties_isNetForceOf to Elasticsearch\n",
      "Uploaded entity with ID: object_properties_hasNextStep to Elasticsearch\n",
      "Uploaded entity with ID: object_properties_directlyPrecedes to Elasticsearch\n",
      "Uploaded entity with ID: object_properties_hasPreviousStep to Elasticsearch\n",
      "Uploaded entity with ID: object_properties_hasOutputParameter to Elasticsearch\n",
      "Uploaded entity with ID: object_properties_isOutputParameterFor to Elasticsearch\n",
      "Uploaded entity with ID: object_properties_hasParentLink to Elasticsearch\n",
      "Uploaded entity with ID: object_properties_isParentLinkOf to Elasticsearch\n",
      "Uploaded entity with ID: object_properties_hasPhase to Elasticsearch\n",
      "Uploaded entity with ID: object_properties_hasPhysicalComponent to Elasticsearch\n",
      "Uploaded entity with ID: object_properties_hasPredecessor to Elasticsearch\n",
      "Uploaded entity with ID: object_properties_hasPreference to Elasticsearch\n",
      "Uploaded entity with ID: object_properties_isPreferenceOf to Elasticsearch\n",
      "Uploaded entity with ID: object_properties_directlyFollows to Elasticsearch\n",
      "Uploaded entity with ID: object_properties_hasProcessType to Elasticsearch\n",
      "Uploaded entity with ID: object_properties_isRelatedToConcept to Elasticsearch\n",
      "Uploaded entity with ID: object_properties_isProcessTypeOf to Elasticsearch\n",
      "Uploaded entity with ID: object_properties_hasQuale to Elasticsearch\n",
      "Uploaded entity with ID: object_properties_isQualeOf to Elasticsearch\n",
      "Uploaded entity with ID: object_properties_hasRootLink to Elasticsearch\n",
      "Uploaded entity with ID: object_properties_isRootLinkOf to Elasticsearch\n",
      "Uploaded entity with ID: object_properties_hasShape to Elasticsearch\n",
      "Uploaded entity with ID: object_properties_isShapeOf to Elasticsearch\n",
      "Uploaded entity with ID: object_properties_hasShapeRegion to Elasticsearch\n",
      "Uploaded entity with ID: object_properties_isShapeRegionOf to Elasticsearch\n",
      "Uploaded entity with ID: object_properties_hasSoftwareAgent to Elasticsearch\n",
      "Uploaded entity with ID: object_properties_involvesAgent to Elasticsearch\n",
      "Uploaded entity with ID: object_properties_hasSpaceRegion to Elasticsearch\n",
      "Uploaded entity with ID: object_properties_isSpaceRegionFor to Elasticsearch\n",
      "Uploaded entity with ID: object_properties_hasStateType to Elasticsearch\n",
      "Uploaded entity with ID: object_properties_isStateTypeOf to Elasticsearch\n",
      "Uploaded entity with ID: object_properties_hasStatus to Elasticsearch\n",
      "Uploaded entity with ID: object_properties_isStepOf to Elasticsearch\n",
      "Uploaded entity with ID: object_properties_hasSuccedence to Elasticsearch\n",
      "Uploaded entity with ID: object_properties_hasSuccessor to Elasticsearch\n",
      "Uploaded entity with ID: object_properties_hasTask to Elasticsearch\n",
      "Uploaded entity with ID: object_properties_hasTerminalState to Elasticsearch\n",
      "Uploaded entity with ID: object_properties_isTerminalSceneOf to Elasticsearch\n",
      "Uploaded entity with ID: object_properties_hasTerminalSituation to Elasticsearch\n",
      "Uploaded entity with ID: object_properties_isTerminalSituationOf to Elasticsearch\n",
      "Uploaded entity with ID: object_properties_isTerminalStateOf to Elasticsearch\n",
      "Uploaded entity with ID: object_properties_includesConcept to Elasticsearch\n",
      "Uploaded entity with ID: object_properties_includesObject to Elasticsearch\n",
      "Uploaded entity with ID: object_properties_isConceptIncludedIn to Elasticsearch\n",
      "Uploaded entity with ID: object_properties_includesRecord to Elasticsearch\n",
      "Uploaded entity with ID: object_properties_isReferenceOf to Elasticsearch\n",
      "Uploaded entity with ID: object_properties_isRecordIncludedBy to Elasticsearch\n",
      "Uploaded entity with ID: object_properties_isSettingFor to Elasticsearch\n",
      "Uploaded entity with ID: object_properties_isSituationIncludedIn to Elasticsearch\n",
      "Uploaded entity with ID: object_properties_involvesArtifact to Elasticsearch\n",
      "Uploaded entity with ID: object_properties_hasParticipant to Elasticsearch\n",
      "Uploaded entity with ID: object_properties_isArtifactInvolvedIn to Elasticsearch\n",
      "Uploaded entity with ID: object_properties_involvesEffector to Elasticsearch\n",
      "Uploaded entity with ID: object_properties_isEffectorInvolvedIn to Elasticsearch\n",
      "Uploaded entity with ID: object_properties_involvesPlace to Elasticsearch\n",
      "Uploaded entity with ID: object_properties_isPlaceInvolvedIn to Elasticsearch\n",
      "Uploaded entity with ID: object_properties_isRegionFor to Elasticsearch\n",
      "Uploaded entity with ID: object_properties_isAnsweredBy to Elasticsearch\n",
      "Uploaded entity with ID: object_properties_isParticipantIn to Elasticsearch\n",
      "Uploaded entity with ID: object_properties_isAskedBy to Elasticsearch\n",
      "Uploaded entity with ID: object_properties_isRoleDefinedIn to Elasticsearch\n",
      "Uploaded entity with ID: object_properties_isConstituentOf to Elasticsearch\n",
      "Uploaded entity with ID: object_properties_isQualityOf to Elasticsearch\n",
      "Uploaded entity with ID: object_properties_isObjectIncludedIn to Elasticsearch\n",
      "Uploaded entity with ID: object_properties_isCreatedOutputOf to Elasticsearch\n",
      "Uploaded entity with ID: object_properties_isOutputRoleOf to Elasticsearch\n",
      "Uploaded entity with ID: object_properties_isTaskOfCreatedRole to Elasticsearch\n",
      "Uploaded entity with ID: object_properties_isDefinedIn to Elasticsearch\n",
      "Uploaded entity with ID: object_properties_isDepositOf to Elasticsearch\n",
      "Uploaded entity with ID: object_properties_isOntopOf to Elasticsearch\n",
      "Uploaded entity with ID: object_properties_isDesignFor to Elasticsearch\n",
      "Uploaded entity with ID: object_properties_isDesignedBy to Elasticsearch\n",
      "Uploaded entity with ID: object_properties_isRealizedBy to Elasticsearch\n",
      "Uploaded entity with ID: object_properties_hasRole to Elasticsearch\n",
      "Uploaded entity with ID: object_properties_isInputRoleOf to Elasticsearch\n",
      "Uploaded entity with ID: object_properties_isRoleOf to Elasticsearch\n",
      "Uploaded entity with ID: object_properties_realizes to Elasticsearch\n",
      "Uploaded entity with ID: object_properties_isExecutorDefinedIn to Elasticsearch\n",
      "Uploaded entity with ID: object_properties_isParameterFor to Elasticsearch\n",
      "Uploaded entity with ID: object_properties_hasTask to Elasticsearch\n",
      "Uploaded entity with ID: object_properties_isTaskOfInputRole to Elasticsearch\n",
      "Uploaded entity with ID: object_properties_hasLocation to Elasticsearch\n",
      "Uploaded entity with ID: object_properties_isComponentOf to Elasticsearch\n",
      "Uploaded entity with ID: object_properties_isLinkedTo to Elasticsearch\n",
      "Uploaded entity with ID: object_properties_isMovedByAgent to Elasticsearch\n",
      "Uploaded entity with ID: object_properties_movesObject to Elasticsearch\n",
      "Uploaded entity with ID: object_properties_isOccurrenceOf to Elasticsearch\n",
      "Uploaded entity with ID: object_properties_isClassifiedBy to Elasticsearch\n",
      "Uploaded entity with ID: object_properties_isOccurringIn to Elasticsearch\n",
      "Uploaded entity with ID: object_properties_classifies to Elasticsearch\n",
      "Uploaded entity with ID: object_properties_isOrderedBy to Elasticsearch\n",
      "Uploaded entity with ID: object_properties_orders to Elasticsearch\n",
      "Uploaded entity with ID: object_properties_isTaskOfOutputRole to Elasticsearch\n",
      "Uploaded entity with ID: object_properties_isPerformedBy to Elasticsearch\n",
      "Uploaded entity with ID: object_properties_isPhysicallyContainedIn to Elasticsearch\n",
      "Uploaded entity with ID: object_properties_isPlanFor to Elasticsearch\n",
      "Uploaded entity with ID: object_properties_isAbout to Elasticsearch\n",
      "Uploaded entity with ID: object_properties_isReplacedBy to Elasticsearch\n",
      "Uploaded entity with ID: object_properties_replaces to Elasticsearch\n",
      "Uploaded entity with ID: object_properties_hasSetting to Elasticsearch\n",
      "Uploaded entity with ID: object_properties_isTaskDefinedIn to Elasticsearch\n",
      "Uploaded entity with ID: object_properties_isSupportedBy to Elasticsearch\n",
      "Uploaded entity with ID: object_properties_hasCommonBoundary to Elasticsearch\n",
      "Uploaded entity with ID: object_properties_supports to Elasticsearch\n",
      "Uploaded entity with ID: object_properties_isTaskOf to Elasticsearch\n",
      "Uploaded entity with ID: object_properties_isTerminatedBy to Elasticsearch\n",
      "Uploaded entity with ID: object_properties_terminates to Elasticsearch\n",
      "Uploaded entity with ID: object_properties_meets to Elasticsearch\n",
      "Uploaded entity with ID: object_properties_metBy to Elasticsearch\n",
      "Uploaded entity with ID: object_properties_overlappedBy to Elasticsearch\n",
      "Uploaded entity with ID: object_properties_overlappedOn to Elasticsearch\n",
      "Uploaded entity with ID: object_properties_simultaneous to Elasticsearch\n",
      "Uploaded entity with ID: object_properties_startedBy to Elasticsearch\n",
      "Uploaded entity with ID: object_properties_starts to Elasticsearch\n",
      "Uploaded entity with ID: object_properties_transitionsBack to Elasticsearch\n",
      "Uploaded entity with ID: object_properties_transitionsFrom to Elasticsearch\n",
      "Uploaded entity with ID: object_properties_transitionsTo to Elasticsearch\n",
      "Uploaded entity with ID: object_properties_hasExpectedTerminalSituation to Elasticsearch\n",
      "Uploaded entity with ID: object_properties_hasPostcondition to Elasticsearch\n",
      "Uploaded entity with ID: object_properties_hasRequiredInitialSituation to Elasticsearch\n",
      "Uploaded entity with ID: object_properties_hasPrecondition to Elasticsearch\n",
      "Uploaded entity with ID: object_properties_manifestsIn to Elasticsearch\n",
      "Uploaded entity with ID: object_properties_preventedBy to Elasticsearch\n",
      "Uploaded entity with ID: object_properties_prevents to Elasticsearch\n",
      "Uploaded entity with ID: object_properties_actsFor to Elasticsearch\n",
      "Uploaded entity with ID: object_properties_executesTask to Elasticsearch\n",
      "Uploaded entity with ID: object_properties_expresses to Elasticsearch\n",
      "Uploaded entity with ID: object_properties_isExecutedIn to Elasticsearch\n",
      "Uploaded entity with ID: object_properties_isExpressedBy to Elasticsearch\n",
      "Uploaded entity with ID: object_properties_isPartOf to Elasticsearch\n",
      "Uploaded entity with ID: object_properties_satisfies to Elasticsearch\n",
      "Uploaded entity with ID: data_properties_hasColorValue to Elasticsearch\n",
      "Uploaded entity with ID: data_properties_hasRegionDataValue to Elasticsearch\n",
      "Uploaded entity with ID: data_properties_hasDataFormat to Elasticsearch\n",
      "Uploaded entity with ID: data_properties_hasDataValue to Elasticsearch\n",
      "Uploaded entity with ID: data_properties_hasDepth to Elasticsearch\n",
      "Uploaded entity with ID: data_properties_hasShapeParameter to Elasticsearch\n",
      "Uploaded entity with ID: data_properties_hasEventBegin to Elasticsearch\n",
      "Uploaded entity with ID: data_properties_hasEventTime to Elasticsearch\n",
      "Uploaded entity with ID: data_properties_hasEventEnd to Elasticsearch\n",
      "Uploaded entity with ID: data_properties_hasFilePath to Elasticsearch\n",
      "Uploaded entity with ID: data_properties_hasForceValue to Elasticsearch\n",
      "Uploaded entity with ID: data_properties_hasFrictionValue to Elasticsearch\n",
      "Uploaded entity with ID: data_properties_hasHSVValue to Elasticsearch\n",
      "Uploaded entity with ID: data_properties_hasHeight to Elasticsearch\n",
      "Uploaded entity with ID: data_properties_hasIntervalBegin to Elasticsearch\n",
      "Uploaded entity with ID: data_properties_hasIntervalTime to Elasticsearch\n",
      "Uploaded entity with ID: data_properties_hasIntervalEnd to Elasticsearch\n",
      "Uploaded entity with ID: data_properties_hasJointEffort to Elasticsearch\n",
      "Uploaded entity with ID: data_properties_hasJointParameter to Elasticsearch\n",
      "Uploaded entity with ID: data_properties_hasJointEffortLimit to Elasticsearch\n",
      "Uploaded entity with ID: data_properties_hasJointPosition to Elasticsearch\n",
      "Uploaded entity with ID: data_properties_hasJointPositionMax to Elasticsearch\n",
      "Uploaded entity with ID: data_properties_hasJointPositionMin to Elasticsearch\n",
      "Uploaded entity with ID: data_properties_hasJointVelocity to Elasticsearch\n",
      "Uploaded entity with ID: data_properties_hasJointVelocityLimit to Elasticsearch\n",
      "Uploaded entity with ID: data_properties_hasLength to Elasticsearch\n",
      "Uploaded entity with ID: data_properties_hasMassValue to Elasticsearch\n",
      "Uploaded entity with ID: data_properties_hasNameString to Elasticsearch\n",
      "Uploaded entity with ID: data_properties_hasPersistentIdentifier to Elasticsearch\n",
      "Uploaded entity with ID: data_properties_hasPositionData to Elasticsearch\n",
      "Uploaded entity with ID: data_properties_hasSpaceParameter to Elasticsearch\n",
      "Uploaded entity with ID: data_properties_hasPriority to Elasticsearch\n",
      "Uploaded entity with ID: data_properties_hasRGBValue to Elasticsearch\n",
      "Uploaded entity with ID: data_properties_hasRadius to Elasticsearch\n",
      "Uploaded entity with ID: data_properties_hasReferenceFrame to Elasticsearch\n",
      "Uploaded entity with ID: data_properties_hasShapeScale to Elasticsearch\n",
      "Uploaded entity with ID: data_properties_hasWidth to Elasticsearch\n",
      "Uploaded entity with ID: data_properties_isReificationOf to Elasticsearch\n",
      "Uploaded entity with ID: annotation_properties_UsageGuideline to Elasticsearch\n",
      "Uploaded entity with ID: annotation_properties_nickname to Elasticsearch\n",
      "Uploaded entity with ID: annotation_properties_symbol to Elasticsearch\n"
     ]
    }
   ],
   "execution_count": 63
  },
  {
   "metadata": {
    "ExecuteTime": {
     "end_time": "2025-01-15T12:30:28.479835Z",
     "start_time": "2025-01-15T12:30:28.476502Z"
    }
   },
   "cell_type": "code",
   "source": [
    "from elasticsearch import Elasticsearch\n",
    "\n",
    "# Initialize Elasticsearch client\n",
    "es = Elasticsearch([\"http://localhost:9200\"])\n",
    "\n",
    "# Query Elasticsearch\n",
    "def query_elasticsearch(index_name, field, regex):\n",
    "    query = {\n",
    "        \"regexp\": {\n",
    "            field: {\n",
    "                \"value\": regex  # Regular expression for the field value\n",
    "            }\n",
    "        }\n",
    "    }\n",
    "    response = es.search(index=index_name, body={\"query\": query})\n",
    "    hits = response['hits']['hits']\n",
    "    print(f\"Query results for '{field}: {regex}' in index '{index_name}':\")\n",
    "    for hit in hits:\n",
    "        print(f\"ID: {hit['_id']}, Source: {hit['_source']}\")"
   ],
   "id": "42e07cb73ac7e131",
   "outputs": [],
   "execution_count": 68
  },
  {
   "metadata": {
    "ExecuteTime": {
     "end_time": "2025-01-15T12:30:48.588073Z",
     "start_time": "2025-01-15T12:30:48.571774Z"
    }
   },
   "cell_type": "code",
   "source": [
    "# Example query: Find all entities with \"Person\" in the name field\n",
    "query_elasticsearch(\"ontology_index\", \"name\", \"app.*\")"
   ],
   "id": "8d6112d95977b4e4",
   "outputs": [
    {
     "name": "stdout",
     "output_type": "stream",
     "text": [
      "Query results for 'name: app.*' in index 'ontology_index':\n",
      "ID: classes_Appliance, Source: {'category': 'classes', 'name': 'Appliance', 'comment': ['A device designed to perform a specific task, and that can be operated in some way.'], 'iri': 'http://www.ease-crc.org/ont/SOMA.owl#Appliance'}\n",
      "ID: classes_Approaching, Source: {'category': 'classes', 'name': 'Approaching', 'comment': ['A process type to classify motions by which a body approaches some object or location.'], 'iri': 'http://www.ease-crc.org/ont/SOMA.owl#Approaching'}\n"
     ]
    },
    {
     "name": "stderr",
     "output_type": "stream",
     "text": [
      "/tmp/ipykernel_129827/2009657177.py:15: ElasticsearchWarning: Elasticsearch built-in security features are not enabled. Without authentication, your cluster could be accessible to anyone. See https://www.elastic.co/guide/en/elasticsearch/reference/7.17/security-minimal-setup.html to enable security.\n",
      "  response = es.search(index=index_name, body={\"query\": query})\n"
     ]
    }
   ],
   "execution_count": 71
  },
  {
   "metadata": {},
   "cell_type": "code",
   "outputs": [],
   "execution_count": null,
   "source": "",
   "id": "8e02efbdb6f87ebe"
  }
 ],
 "metadata": {
  "kernelspec": {
   "display_name": "llama",
   "language": "python",
   "name": "llama"
  },
  "language_info": {
   "codemirror_mode": {
    "name": "ipython",
    "version": 2
   },
   "file_extension": ".py",
   "mimetype": "text/x-python",
   "name": "python",
   "nbconvert_exporter": "python",
   "pygments_lexer": "ipython2",
   "version": "2.7.6"
  }
 },
 "nbformat": 4,
 "nbformat_minor": 5
}
