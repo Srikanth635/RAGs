{
 "cells": [
  {
   "metadata": {
    "ExecuteTime": {
     "end_time": "2025-02-13T09:29:42.744306Z",
     "start_time": "2025-02-13T09:29:42.687467Z"
    }
   },
   "cell_type": "code",
   "source": [
    "from rdflib import Graph, URIRef, Literal, RDFS, OWL, RDF\n",
    "from fuzzywuzzy import process\n",
    "from owlready2 import *"
   ],
   "id": "3d7c8af706ccd7f1",
   "outputs": [],
   "execution_count": 1
  },
  {
   "metadata": {
    "ExecuteTime": {
     "end_time": "2025-02-13T09:29:44.166191Z",
     "start_time": "2025-02-13T09:29:44.159935Z"
    }
   },
   "cell_type": "code",
   "source": [
    "def load_ontology(ontology_file):\n",
    "    \"\"\"\n",
    "    Load the ontology from the given file.\n",
    "    \"\"\"\n",
    "    graph = Graph()\n",
    "    graph.parse(ontology_file, format='xml')  # Assuming OWL/XML format\n",
    "    return graph\n",
    "\n",
    "def extract_classes(ontology):\n",
    "    \"\"\"\n",
    "    Extract all classes in the ontology as a list of dictionaries, including subclasses.\n",
    "    \"\"\"\n",
    "    classes = []\n",
    "    for cls in ontology.classes():\n",
    "        class_info = {'name': cls.name}\n",
    "        class_info.update(extract_metadata(cls))\n",
    "        # Add subclasses\n",
    "        class_info['subclasses'] = [sub.name for sub in cls.subclasses()]\n",
    "        classes.append(class_info)\n",
    "    return classes\n",
    "\n",
    "def extract_metadata(entity):\n",
    "    \"\"\"\n",
    "    Extract metadata for a given OWL entity (e.g., comment, label, defined_by).\n",
    "    \"\"\"\n",
    "    metadata = {}\n",
    "    if hasattr(entity, 'comment'):\n",
    "        metadata['comment'] = entity.comment\n",
    "    if hasattr(entity, 'label'):\n",
    "        metadata['label'] = entity.label\n",
    "    if hasattr(entity, 'isDefinedBy'):\n",
    "        metadata['defined_by'] = [str(x) for x in entity.isDefinedBy]\n",
    "    if hasattr(entity, 'iri'):\n",
    "        metadata['iri'] = entity.iri\n",
    "    return metadata\n",
    "\n",
    "def extract_concepts(graph):\n",
    "    \"\"\"\n",
    "    Extract all entities (classes/concepts) from the ontology.\n",
    "    Returns a dictionary where keys are concept names and values are their parent concepts.\n",
    "    \"\"\"\n",
    "    concepts = {}\n",
    "\n",
    "    # Iterate over all OWL classes in the ontology\n",
    "    for class_uri in graph.subjects(predicate=RDF.type, object=OWL.Class):\n",
    "        # Get the label (name) of the class\n",
    "        class_label = graph.value(subject=class_uri, predicate=RDFS.label)\n",
    "        if class_label and isinstance(class_label, Literal):\n",
    "            class_name = str(class_label)\n",
    "        else:\n",
    "            # If no label is found, use the local name of the URI\n",
    "            class_name = str(class_uri.split(\"#\")[-1])\n",
    "\n",
    "        # Find parent classes (superclasses)\n",
    "        parents = set()\n",
    "        for parent_uri in graph.objects(subject=class_uri, predicate=RDFS.subClassOf):\n",
    "            if isinstance(parent_uri, URIRef):\n",
    "                parent_label = graph.value(subject=parent_uri, predicate=RDFS.label)\n",
    "                if parent_label and isinstance(parent_label, Literal):\n",
    "                    parents.add(str(parent_label))\n",
    "                else:\n",
    "                    parents.add(str(parent_uri.split(\"#\")[-1]))\n",
    "\n",
    "        concepts[class_name] = parents\n",
    "\n",
    "    return concepts\n",
    "\n",
    "def find_closest_matches(attribute, concepts, threshold=80):\n",
    "    \"\"\"\n",
    "    Find all matches for the attribute in the list of concepts that exceed the threshold.\n",
    "    Returns a list of matched concept dictionaries along with their scores.\n",
    "    \"\"\"\n",
    "    # Extract concept names for fuzzy matching\n",
    "    concept_names = [concept[\"name\"] for concept in concepts]\n",
    "\n",
    "    # Find all matches that exceed the threshold\n",
    "    matches = process.extract(attribute, concept_names, limit=None)\n",
    "\n",
    "    # Filter matches based on the threshold and return the full concept dictionaries with scores\n",
    "    matched_concepts = []\n",
    "    for match, score in matches:\n",
    "        if score >= threshold:\n",
    "            # Find the corresponding concept dictionary\n",
    "            matched_concept = next((concept for concept in concepts if concept[\"name\"] == match), None)\n",
    "            if matched_concept:\n",
    "                matched_concepts.append({\"concept\": matched_concept, \"score\": score})\n",
    "\n",
    "    return matched_concepts\n",
    "\n",
    "def select_parent_concept(matched_concepts):\n",
    "    \"\"\"\n",
    "    Select the most specific concept (the one with the fewest subclasses) from the matches.\n",
    "    \"\"\"\n",
    "    if not matched_concepts:\n",
    "        return None\n",
    "\n",
    "    # Sort matches by specificity (number of subclasses)\n",
    "    sorted_matches = sorted(matched_concepts, key=lambda x: len(x.get(\"subclasses\", [])))\n",
    "\n",
    "    # Return the most specific concept (the one with the fewest subclasses)\n",
    "    return sorted_matches[0]\n",
    "\n",
    "def map_attributes_to_ontology(cram_action, ontology_file, threshold=80):\n",
    "    \"\"\"\n",
    "    Map the attributes of the CRAM action designator to the ontology concepts.\n",
    "    Returns a dictionary where each attribute is mapped to:\n",
    "    - The closest match (most specific concept).\n",
    "    - A list of all matches that exceed the threshold.\n",
    "    \"\"\"\n",
    "    # Load the ontology\n",
    "    # graph = load_ontology(ontology_file)\n",
    "    onto = get_ontology(ontology_file).load()\n",
    "\n",
    "    # Extract all entities (classes/concepts) and their hierarchy\n",
    "    # concepts = extract_concepts(graph)\n",
    "    concepts = extract_classes(onto)\n",
    "\n",
    "    # Iterate over the CRAM action designator attributes\n",
    "    mapped_action = {}\n",
    "    for attr, value in cram_action.items():\n",
    "        # Find all matches that exceed the threshold\n",
    "        matched_concepts = find_closest_matches(attr, concepts, threshold)\n",
    "\n",
    "        if matched_concepts:\n",
    "            # Select the most specific concept (parent concept)\n",
    "            closest_match = select_parent_concept([mc[\"concept\"] for mc in matched_concepts])\n",
    "            if closest_match:\n",
    "                mapped_action[attr] = {\n",
    "                    \"closest_match\": closest_match[\"name\"],\n",
    "                    \"all_matches\": matched_concepts,\n",
    "                    \"value\": value\n",
    "                }\n",
    "            else:\n",
    "                mapped_action[attr] = {\n",
    "                    \"closest_match\": None,\n",
    "                    \"all_matches\": matched_concepts,\n",
    "                    \"value\": value\n",
    "                }\n",
    "        else:\n",
    "            mapped_action[attr] = {\n",
    "                \"closest_match\": None,\n",
    "                \"all_matches\": [],\n",
    "                \"value\": value\n",
    "            }\n",
    "\n",
    "    return mapped_action"
   ],
   "id": "5efec41e36ea021d",
   "outputs": [],
   "execution_count": 2
  },
  {
   "metadata": {
    "ExecuteTime": {
     "end_time": "2025-02-13T09:29:47.006082Z",
     "start_time": "2025-02-13T09:29:47.003964Z"
    }
   },
   "cell_type": "code",
   "source": "ontology_file = \"OWLs/SOMA.owl\"",
   "id": "ceb8e7209b3873c8",
   "outputs": [],
   "execution_count": 3
  },
  {
   "metadata": {
    "ExecuteTime": {
     "end_time": "2025-02-13T09:29:48.404763Z",
     "start_time": "2025-02-13T09:29:48.402753Z"
    }
   },
   "cell_type": "code",
   "source": [
    "cram_action = {\n",
    "        \"grasp-object\": \"cup\",\n",
    "        \"move-to-location\": \"table\",\n",
    "        \"rotate-arm\": \"90 degrees\",\n",
    "        \"unknown-attribute\": \"some value\"\n",
    "    }"
   ],
   "id": "aadde0741edd71ca",
   "outputs": [],
   "execution_count": 4
  },
  {
   "metadata": {
    "ExecuteTime": {
     "end_time": "2025-02-13T09:29:49.461006Z",
     "start_time": "2025-02-13T09:29:49.108065Z"
    }
   },
   "cell_type": "code",
   "source": "mapped_action = map_attributes_to_ontology(cram_action, ontology_file, threshold=60)",
   "id": "90f83f15b23ebe41",
   "outputs": [],
   "execution_count": 5
  },
  {
   "metadata": {
    "ExecuteTime": {
     "end_time": "2025-02-13T09:29:50.536481Z",
     "start_time": "2025-02-13T09:29:50.533619Z"
    }
   },
   "cell_type": "code",
   "source": [
    "print(\"Original CRAM Action:\", cram_action)\n",
    "print(\"Mapped CRAM Action with All Matches:\")\n",
    "for attr, details in mapped_action.items():\n",
    "    print(f\"Attribute: {attr}\")\n",
    "    print(f\"  Closest Match: {details['closest_match']}\")\n",
    "    print(f\"  All Matches:\")\n",
    "    for match in details[\"all_matches\"]:\n",
    "        print(f\"    - Concept: {match['concept']['name']}, Score: {match['score']}\")\n",
    "    print(f\"  Value: {details['value']}\")\n",
    "    print()"
   ],
   "id": "7648811a7885bd7a",
   "outputs": [
    {
     "name": "stdout",
     "output_type": "stream",
     "text": [
      "Original CRAM Action: {'grasp-object': 'cup', 'move-to-location': 'table', 'rotate-arm': '90 degrees', 'unknown-attribute': 'some value'}\n",
      "Mapped CRAM Action with All Matches:\n",
      "Attribute: grasp-object\n",
      "  Closest Match: ShapedObject\n",
      "  All Matches:\n",
      "    - Concept: Object, Score: 90\n",
      "    - Concept: ShapedObject, Score: 67\n",
      "    - Concept: ClausalObject, Score: 64\n",
      "    - Concept: CreatedObject, Score: 64\n",
      "    - Concept: Set, Score: 60\n",
      "  Value: cup\n",
      "\n",
      "Attribute: move-to-location\n",
      "  Closest Match: Creation\n",
      "  All Matches:\n",
      "    - Concept: Location, Score: 90\n",
      "    - Concept: Action, Score: 75\n",
      "    - Concept: Relation, Score: 68\n",
      "    - Concept: Creation, Score: 68\n",
      "    - Concept: Tool, Score: 68\n",
      "    - Concept: MentalAction, Score: 64\n",
      "    - Concept: Collection, Score: 63\n",
      "    - Concept: Locomotion, Score: 63\n",
      "    - Concept: Motion, Score: 60\n",
      "    - Concept: Catching, Score: 60\n",
      "    - Concept: Option, Score: 60\n",
      "    - Concept: Set, Score: 60\n",
      "  Value: table\n",
      "\n",
      "Attribute: rotate-arm\n",
      "  Closest Match: Arm\n",
      "  All Matches:\n",
      "    - Concept: Arm, Score: 90\n",
      "    - Concept: State, Score: 72\n",
      "  Value: 90 degrees\n",
      "\n",
      "Attribute: unknown-attribute\n",
      "  Closest Match: KineticFrictionAttribute\n",
      "  All Matches:\n",
      "    - Concept: FrictionAttribute, Score: 65\n",
      "    - Concept: ForceAttribute, Score: 65\n",
      "    - Concept: KineticFrictionAttribute, Score: 63\n",
      "    - Concept: MassAttribute, Score: 60\n",
      "  Value: some value\n",
      "\n"
     ]
    }
   ],
   "execution_count": 6
  },
  {
   "metadata": {
    "ExecuteTime": {
     "end_time": "2025-02-13T09:30:14.500591Z",
     "start_time": "2025-02-13T09:30:14.493819Z"
    }
   },
   "cell_type": "code",
   "source": [
    "onto = get_ontology(ontology_file).load()\n",
    "classes = extract_classes(onto)"
   ],
   "id": "80f1a4ea14646557",
   "outputs": [],
   "execution_count": 7
  },
  {
   "metadata": {
    "ExecuteTime": {
     "end_time": "2025-02-13T09:30:15.104293Z",
     "start_time": "2025-02-13T09:30:15.101365Z"
    }
   },
   "cell_type": "code",
   "source": "len(classes)",
   "id": "7eca31436ecc7b97",
   "outputs": [
    {
     "data": {
      "text/plain": [
       "537"
      ]
     },
     "execution_count": 8,
     "metadata": {},
     "output_type": "execute_result"
    }
   ],
   "execution_count": 8
  },
  {
   "metadata": {
    "ExecuteTime": {
     "end_time": "2025-02-13T09:30:17.149539Z",
     "start_time": "2025-02-13T09:30:17.145779Z"
    }
   },
   "cell_type": "code",
   "source": [
    "di = {\n",
    "    'k1' : 12,\n",
    "    'k2' : 12,\n",
    "    'k3' : 12,\n",
    "    'k4' : 12,\n",
    "}\n",
    "di.keys()"
   ],
   "id": "f8a2dbb87ce4aee9",
   "outputs": [
    {
     "data": {
      "text/plain": [
       "dict_keys(['k1', 'k2', 'k3', 'k4'])"
      ]
     },
     "execution_count": 9,
     "metadata": {},
     "output_type": "execute_result"
    }
   ],
   "execution_count": 9
  },
  {
   "metadata": {
    "ExecuteTime": {
     "end_time": "2025-02-13T09:30:23.520549Z",
     "start_time": "2025-02-13T09:30:23.518108Z"
    }
   },
   "cell_type": "code",
   "source": "classes[0:2]",
   "id": "be107f92d295e427",
   "outputs": [
    {
     "data": {
      "text/plain": [
       "[{'name': 'Affordance',\n",
       "  'comment': ['A relation between an object (the bearer) and others (the triggers) that describes the disposition of the bearer to be involved in an action execution that also involves some trigger object.'],\n",
       "  'label': [],\n",
       "  'defined_by': ['http://www.ease-crc.org/ont/SOMA-OBJ.owl'],\n",
       "  'iri': 'http://www.ease-crc.org/ont/SOMA.owl#Affordance',\n",
       "  'subclasses': []},\n",
       " {'name': 'Concept',\n",
       "  'comment': ['A Concept is a SocialObject, and isDefinedIn some Description; once defined, a Concept can be used in other Description(s). If a Concept isDefinedIn exactly one Description, see the LocalConcept class.\\nThe classifies relation relates Concept(s) to Entity(s) at some TimeInterval'],\n",
       "  'label': [locstr('Concept', 'en')],\n",
       "  'defined_by': ['http://www.ease-crc.org/ont/SOMA-WF.owl',\n",
       "   'ont.DUL.owl',\n",
       "   'http://www.ontologydesignpatterns.org/ont/dul/DUL.owl'],\n",
       "  'iri': 'http://www.ontologydesignpatterns.org/ont/dul/DUL.owl#Concept',\n",
       "  'subclasses': ['Role', 'EventType', 'Parameter', 'LocalConcept']}]"
      ]
     },
     "execution_count": 10,
     "metadata": {},
     "output_type": "execute_result"
    }
   ],
   "execution_count": 10
  },
  {
   "metadata": {},
   "cell_type": "markdown",
   "source": "## Using Semantic Similarity (Spacy)",
   "id": "d09040cff55a943f"
  },
  {
   "metadata": {
    "ExecuteTime": {
     "end_time": "2025-02-13T09:30:38.222425Z",
     "start_time": "2025-02-13T09:30:35.000885Z"
    }
   },
   "cell_type": "code",
   "source": [
    "import spacy\n",
    "from sklearn.metrics.pairwise import cosine_similarity\n",
    "import numpy as np\n",
    "\n",
    "# Load the spaCy model with word embeddings\n",
    "nlp = spacy.load(\"en_core_web_md\")\n",
    "\n",
    "def compute_semantic_similarity(attribute, concept_name):\n",
    "    \"\"\"\n",
    "    Compute the semantic similarity between an attribute and a concept name using spaCy word embeddings.\n",
    "    \"\"\"\n",
    "    attribute_doc = nlp(attribute)\n",
    "    concept_doc = nlp(concept_name)\n",
    "    return attribute_doc.similarity(concept_doc)\n",
    "\n",
    "def find_closest_matches(attribute, concepts, threshold=0.7):\n",
    "    \"\"\"\n",
    "    Find all matches for the attribute in the list of concepts that exceed the semantic similarity threshold.\n",
    "    Returns a list of matched concept dictionaries along with their similarity scores.\n",
    "    \"\"\"\n",
    "    matched_concepts = []\n",
    "    for concept in concepts:\n",
    "        similarity_score = compute_semantic_similarity(attribute, concept[\"name\"])\n",
    "        if similarity_score >= threshold:\n",
    "            matched_concepts.append({\"concept\": concept, \"score\": similarity_score})\n",
    "\n",
    "    # Sort matches by similarity score (highest first)\n",
    "    matched_concepts.sort(key=lambda x: x[\"score\"], reverse=True)\n",
    "    return matched_concepts\n",
    "\n",
    "def map_attributes_to_ontology(cram_action, ontology_file, threshold=0.7):\n",
    "    \"\"\"\n",
    "    Map the attributes of the CRAM action designator to the ontology concepts using semantic similarity.\n",
    "    Returns a dictionary where each attribute is mapped to:\n",
    "    - The closest match (most specific concept).\n",
    "    - A list of all matches that exceed the similarity threshold.\n",
    "    \"\"\"\n",
    "    # Load the ontology\n",
    "    # graph = load_ontology(ontology_file)\n",
    "    onto = get_ontology(ontology_file).load()\n",
    "\n",
    "    # Extract all entities (classes/concepts) and their hierarchy\n",
    "    # concepts = extract_concepts(graph)\n",
    "    concepts = extract_classes(onto)\n",
    "\n",
    "    # Iterate over the CRAM action designator attributes\n",
    "    mapped_action = {}\n",
    "    for attr, value in cram_action.items():\n",
    "        # Find all matches that exceed the similarity threshold\n",
    "        matched_concepts = find_closest_matches(attr, concepts, threshold)\n",
    "\n",
    "        if matched_concepts:\n",
    "            # Select the most specific concept (parent concept)\n",
    "            closest_match = select_parent_concept([mc[\"concept\"] for mc in matched_concepts])\n",
    "            if closest_match:\n",
    "                mapped_action[attr] = {\n",
    "                    \"closest_match\": closest_match[\"name\"],\n",
    "                    \"all_matches\": matched_concepts,\n",
    "                    \"value\": value\n",
    "                }\n",
    "            else:\n",
    "                mapped_action[attr] = {\n",
    "                    \"closest_match\": None,\n",
    "                    \"all_matches\": matched_concepts,\n",
    "                    \"value\": value\n",
    "                }\n",
    "        else:\n",
    "            mapped_action[attr] = {\n",
    "                \"closest_match\": None,\n",
    "                \"all_matches\": [],\n",
    "                \"value\": value\n",
    "            }\n",
    "\n",
    "    return mapped_action"
   ],
   "id": "4e5ec7157d8a44d3",
   "outputs": [],
   "execution_count": 11
  },
  {
   "metadata": {
    "ExecuteTime": {
     "end_time": "2025-02-13T09:30:40.520993Z",
     "start_time": "2025-02-13T09:30:40.518963Z"
    }
   },
   "cell_type": "code",
   "source": [
    "cram_action = {\n",
    "        \"grasp-object\": \"cup\",\n",
    "        \"move-to-location\": \"table\",\n",
    "        \"rotate-arm\": \"90 degrees\",\n",
    "        \"unknown-attribute\": \"some value\"\n",
    "    }"
   ],
   "id": "6932b1b97973439f",
   "outputs": [],
   "execution_count": 12
  },
  {
   "metadata": {
    "ExecuteTime": {
     "end_time": "2025-02-13T09:30:42.834935Z",
     "start_time": "2025-02-13T09:30:42.832884Z"
    }
   },
   "cell_type": "code",
   "source": "ontology_file = \"OWLs/SOMA.owl\"",
   "id": "94f45eb112e2a326",
   "outputs": [],
   "execution_count": 13
  },
  {
   "metadata": {
    "ExecuteTime": {
     "end_time": "2025-02-13T09:30:54.013216Z",
     "start_time": "2025-02-13T09:30:45.858762Z"
    }
   },
   "cell_type": "code",
   "source": "mapped_action = map_attributes_to_ontology(cram_action, ontology_file, threshold=0.7)",
   "id": "f4377d02712bd416",
   "outputs": [
    {
     "name": "stderr",
     "output_type": "stream",
     "text": [
      "/tmp/ipykernel_24935/4178497598.py:14: UserWarning: [W008] Evaluating Doc.similarity based on empty vectors.\n",
      "  return attribute_doc.similarity(concept_doc)\n"
     ]
    }
   ],
   "execution_count": 14
  },
  {
   "metadata": {
    "ExecuteTime": {
     "end_time": "2025-02-13T09:32:14.491568Z",
     "start_time": "2025-02-13T09:32:14.488109Z"
    }
   },
   "cell_type": "code",
   "source": [
    "# Print the mapped action\n",
    "print(\"Original CRAM Action:\", cram_action)\n",
    "print(\"Mapped CRAM Action with All Matches:\")\n",
    "for attr, details in mapped_action.items():\n",
    "    print(f\"Attribute: {attr}\")\n",
    "    print(f\"  Closest Match: {details['closest_match']}\")\n",
    "    print(f\"  All Matches:\")\n",
    "    for match in details[\"all_matches\"]:\n",
    "        print(f\"    - Concept: {match['concept']['name']}, Similarity: {match['score']:.2f}\")\n",
    "    print(f\"  Value: {details['value']}\")\n",
    "    print()"
   ],
   "id": "917ef1abfd622a35",
   "outputs": [
    {
     "name": "stdout",
     "output_type": "stream",
     "text": [
      "Original CRAM Action: {'grasp-object': 'cup', 'move-to-location': 'table', 'rotate-arm': '90 degrees', 'unknown-attribute': 'some value'}\n",
      "Mapped CRAM Action with All Matches:\n",
      "Attribute: grasp-object\n",
      "  Closest Match: Object\n",
      "  All Matches:\n",
      "    - Concept: Object, Similarity: 0.70\n",
      "  Value: cup\n",
      "\n",
      "Attribute: move-to-location\n",
      "  Closest Match: None\n",
      "  All Matches:\n",
      "  Value: table\n",
      "\n",
      "Attribute: rotate-arm\n",
      "  Closest Match: Arm\n",
      "  All Matches:\n",
      "    - Concept: Arm, Similarity: 0.71\n",
      "    - Concept: Leg, Similarity: 0.71\n",
      "  Value: 90 degrees\n",
      "\n",
      "Attribute: unknown-attribute\n",
      "  Closest Match: None\n",
      "  All Matches:\n",
      "  Value: some value\n",
      "\n"
     ]
    }
   ],
   "execution_count": 16
  },
  {
   "metadata": {
    "ExecuteTime": {
     "end_time": "2025-02-13T09:34:25.272150Z",
     "start_time": "2025-02-13T09:34:25.269466Z"
    }
   },
   "cell_type": "code",
   "source": "classes[0:2]",
   "id": "c5d762a8a27a02ed",
   "outputs": [
    {
     "data": {
      "text/plain": [
       "[{'name': 'Affordance',\n",
       "  'comment': ['A relation between an object (the bearer) and others (the triggers) that describes the disposition of the bearer to be involved in an action execution that also involves some trigger object.'],\n",
       "  'label': [],\n",
       "  'defined_by': ['http://www.ease-crc.org/ont/SOMA-OBJ.owl'],\n",
       "  'iri': 'http://www.ease-crc.org/ont/SOMA.owl#Affordance',\n",
       "  'subclasses': []},\n",
       " {'name': 'Concept',\n",
       "  'comment': ['A Concept is a SocialObject, and isDefinedIn some Description; once defined, a Concept can be used in other Description(s). If a Concept isDefinedIn exactly one Description, see the LocalConcept class.\\nThe classifies relation relates Concept(s) to Entity(s) at some TimeInterval'],\n",
       "  'label': [locstr('Concept', 'en')],\n",
       "  'defined_by': ['http://www.ease-crc.org/ont/SOMA-WF.owl',\n",
       "   'ont.DUL.owl',\n",
       "   'http://www.ontologydesignpatterns.org/ont/dul/DUL.owl'],\n",
       "  'iri': 'http://www.ontologydesignpatterns.org/ont/dul/DUL.owl#Concept',\n",
       "  'subclasses': ['Role', 'EventType', 'Parameter', 'LocalConcept']}]"
      ]
     },
     "execution_count": 18,
     "metadata": {},
     "output_type": "execute_result"
    }
   ],
   "execution_count": 18
  },
  {
   "metadata": {},
   "cell_type": "markdown",
   "source": "## Using LLM for semantic match (Attribute & Class)",
   "id": "fefefb3c44231b93"
  },
  {
   "metadata": {
    "ExecuteTime": {
     "end_time": "2025-02-13T09:41:49.141609Z",
     "start_time": "2025-02-13T09:41:49.076643Z"
    }
   },
   "cell_type": "code",
   "source": [
    "import dotenv\n",
    "dotenv.load_dotenv()\n",
    "from openai import OpenAI\n",
    "OPENAI_API_KEY = os.environ[\"OPENAI_API_KEY\"]\n",
    "client = OpenAI(api_key=OPENAI_API_KEY)\n",
    "import ollama"
   ],
   "id": "27afed00952c6a1e",
   "outputs": [],
   "execution_count": 40
  },
  {
   "metadata": {
    "ExecuteTime": {
     "end_time": "2025-02-13T09:45:23.048580Z",
     "start_time": "2025-02-13T09:45:23.045742Z"
    }
   },
   "cell_type": "code",
   "source": [
    "def get_semantic_match(attribute, classes):\n",
    "    \"\"\"\n",
    "    Use the OpenAI ChatGPT API to find the most semantically similar class for the attribute.\n",
    "    \"\"\"\n",
    "    # Prepare the prompt\n",
    "    prompt = f\"\"\"\n",
    "    You are an ontology matching assistant. Your task is to find the most semantically similar class for the attribute: \"{attribute}\".\n",
    "\n",
    "    Here is a list of ontology classes with their names and descriptions:\n",
    "    {classes}\n",
    "\n",
    "    Return the name of the most semantically similar class for the attribute \"{attribute}\". If no suitable match is found, return \"None\".\n",
    "    \"\"\"\n",
    "\n",
    "    # Call the OpenAI API\n",
    "    response = ollama.chat(\n",
    "        model=\"llama3.2\",\n",
    "        messages=[\n",
    "            {\"role\": \"system\", \"content\": \"You are an ontology matching assistant.\"},\n",
    "            {\"role\": \"user\", \"content\": prompt}\n",
    "        ],\n",
    "        # max_tokens=100,\n",
    "        # temperature=0.2  # Lower temperature for more deterministic responses\n",
    "    )\n",
    "    print(f\"Ollama Called and the response is {response}\")\n",
    "    # Extract the matched class from the response\n",
    "    matched_class = response[\"choices\"][0][\"message\"][\"content\"].strip()\n",
    "    return matched_class"
   ],
   "id": "df83e071d2691151",
   "outputs": [],
   "execution_count": 51
  },
  {
   "metadata": {
    "ExecuteTime": {
     "end_time": "2025-02-13T09:42:29.949344Z",
     "start_time": "2025-02-13T09:42:29.945101Z"
    }
   },
   "cell_type": "code",
   "source": [
    "def map_attributes_to_ontology(cram_action, ontology_file, threshold=0.7):\n",
    "    \"\"\"\n",
    "    Map the attributes of the CRAM action designator to the ontology concepts using an LLM.\n",
    "    Returns a dictionary where each attribute is mapped to:\n",
    "    - The closest match (most semantically similar class).\n",
    "    - A list of all matches that exceed the similarity threshold.\n",
    "    \"\"\"\n",
    "    # Load the ontology\n",
    "    # graph = load_ontology(ontology_file)\n",
    "    onto = get_ontology(ontology_file).load()\n",
    "\n",
    "    # Extract all entities (classes/concepts) and their hierarchy\n",
    "    # concepts = extract_concepts(graph)\n",
    "    concepts = extract_classes(onto)\n",
    "\n",
    "    # Iterate over the CRAM action designator attributes\n",
    "    mapped_action = {}\n",
    "    for attr, value in cram_action.items():\n",
    "        # Prepare the list of classes for the LLM\n",
    "        classes_for_llm = \"\\n\".join(\n",
    "            [f\"- Name: {concept['name']}, Description: {concept['comment'][0] if concept['comment'] else 'No description'}\"\n",
    "             for concept in concepts]\n",
    "        )\n",
    "\n",
    "        # Get the most semantically similar class using the LLM\n",
    "        matched_class = get_semantic_match(attr, classes_for_llm)\n",
    "\n",
    "        if matched_class and matched_class.lower() != \"none\":\n",
    "            # Find the matched concept dictionary\n",
    "            matched_concept = next((concept for concept in concepts if concept[\"name\"] == matched_class), None)\n",
    "            if matched_concept:\n",
    "                mapped_action[attr] = {\n",
    "                    \"closest_match\": matched_concept[\"name\"],\n",
    "                    \"value\": value\n",
    "                }\n",
    "            else:\n",
    "                mapped_action[attr] = {\n",
    "                    \"closest_match\": None,\n",
    "                    \"value\": value\n",
    "                }\n",
    "        else:\n",
    "            mapped_action[attr] = {\n",
    "                \"closest_match\": None,\n",
    "                \"value\": value\n",
    "            }\n",
    "\n",
    "    return mapped_action"
   ],
   "id": "6b7d71d195de68ba",
   "outputs": [],
   "execution_count": 47
  },
  {
   "metadata": {
    "ExecuteTime": {
     "end_time": "2025-02-13T09:42:30.504112Z",
     "start_time": "2025-02-13T09:42:30.502096Z"
    }
   },
   "cell_type": "code",
   "source": [
    "cram_action = {\n",
    "        \"grasp-object\": \"cup\",\n",
    "        \"move-to-location\": \"table\",\n",
    "        \"rotate-arm\": \"90 degrees\",\n",
    "        \"unknown-attribute\": \"some value\"\n",
    "    }"
   ],
   "id": "6422700390b2c507",
   "outputs": [],
   "execution_count": 48
  },
  {
   "metadata": {
    "ExecuteTime": {
     "end_time": "2025-02-13T09:42:31.148709Z",
     "start_time": "2025-02-13T09:42:31.146937Z"
    }
   },
   "cell_type": "code",
   "source": "ontology_file = \"OWLs/SOMA.owl\"",
   "id": "61e0674bc3859c07",
   "outputs": [],
   "execution_count": 49
  },
  {
   "metadata": {
    "ExecuteTime": {
     "end_time": "2025-02-13T09:42:31.739279Z",
     "start_time": "2025-02-13T09:42:31.699745Z"
    }
   },
   "cell_type": "code",
   "source": "mapped_action = map_attributes_to_ontology(cram_action, ontology_file)",
   "id": "8e3284f499174469",
   "outputs": [
    {
     "ename": "ValidationError",
     "evalue": "1 validation error for ChatRequest\nmodel\n  String should have at least 1 character [type=string_too_short, input_value='', input_type=str]\n    For further information visit https://errors.pydantic.dev/2.9/v/string_too_short",
     "output_type": "error",
     "traceback": [
      "\u001B[0;31m---------------------------------------------------------------------------\u001B[0m",
      "\u001B[0;31mValidationError\u001B[0m                           Traceback (most recent call last)",
      "Cell \u001B[0;32mIn[50], line 1\u001B[0m\n\u001B[0;32m----> 1\u001B[0m mapped_action \u001B[38;5;241m=\u001B[39m \u001B[43mmap_attributes_to_ontology\u001B[49m\u001B[43m(\u001B[49m\u001B[43mcram_action\u001B[49m\u001B[43m,\u001B[49m\u001B[43m \u001B[49m\u001B[43montology_file\u001B[49m\u001B[43m)\u001B[49m\n",
      "Cell \u001B[0;32mIn[47], line 26\u001B[0m, in \u001B[0;36mmap_attributes_to_ontology\u001B[0;34m(cram_action, ontology_file, threshold)\u001B[0m\n\u001B[1;32m     20\u001B[0m classes_for_llm \u001B[38;5;241m=\u001B[39m \u001B[38;5;124m\"\u001B[39m\u001B[38;5;130;01m\\n\u001B[39;00m\u001B[38;5;124m\"\u001B[39m\u001B[38;5;241m.\u001B[39mjoin(\n\u001B[1;32m     21\u001B[0m     [\u001B[38;5;124mf\u001B[39m\u001B[38;5;124m\"\u001B[39m\u001B[38;5;124m- Name: \u001B[39m\u001B[38;5;132;01m{\u001B[39;00mconcept[\u001B[38;5;124m'\u001B[39m\u001B[38;5;124mname\u001B[39m\u001B[38;5;124m'\u001B[39m]\u001B[38;5;132;01m}\u001B[39;00m\u001B[38;5;124m, Description: \u001B[39m\u001B[38;5;132;01m{\u001B[39;00mconcept[\u001B[38;5;124m'\u001B[39m\u001B[38;5;124mcomment\u001B[39m\u001B[38;5;124m'\u001B[39m][\u001B[38;5;241m0\u001B[39m]\u001B[38;5;250m \u001B[39m\u001B[38;5;28;01mif\u001B[39;00m\u001B[38;5;250m \u001B[39mconcept[\u001B[38;5;124m'\u001B[39m\u001B[38;5;124mcomment\u001B[39m\u001B[38;5;124m'\u001B[39m]\u001B[38;5;250m \u001B[39m\u001B[38;5;28;01melse\u001B[39;00m\u001B[38;5;250m \u001B[39m\u001B[38;5;124m'\u001B[39m\u001B[38;5;124mNo description\u001B[39m\u001B[38;5;124m'\u001B[39m\u001B[38;5;132;01m}\u001B[39;00m\u001B[38;5;124m\"\u001B[39m\n\u001B[1;32m     22\u001B[0m      \u001B[38;5;28;01mfor\u001B[39;00m concept \u001B[38;5;129;01min\u001B[39;00m concepts]\n\u001B[1;32m     23\u001B[0m )\n\u001B[1;32m     25\u001B[0m \u001B[38;5;66;03m# Get the most semantically similar class using the LLM\u001B[39;00m\n\u001B[0;32m---> 26\u001B[0m matched_class \u001B[38;5;241m=\u001B[39m \u001B[43mget_semantic_match\u001B[49m\u001B[43m(\u001B[49m\u001B[43mattr\u001B[49m\u001B[43m,\u001B[49m\u001B[43m \u001B[49m\u001B[43mclasses_for_llm\u001B[49m\u001B[43m)\u001B[49m\n\u001B[1;32m     28\u001B[0m \u001B[38;5;28;01mif\u001B[39;00m matched_class \u001B[38;5;129;01mand\u001B[39;00m matched_class\u001B[38;5;241m.\u001B[39mlower() \u001B[38;5;241m!=\u001B[39m \u001B[38;5;124m\"\u001B[39m\u001B[38;5;124mnone\u001B[39m\u001B[38;5;124m\"\u001B[39m:\n\u001B[1;32m     29\u001B[0m     \u001B[38;5;66;03m# Find the matched concept dictionary\u001B[39;00m\n\u001B[1;32m     30\u001B[0m     matched_concept \u001B[38;5;241m=\u001B[39m \u001B[38;5;28mnext\u001B[39m((concept \u001B[38;5;28;01mfor\u001B[39;00m concept \u001B[38;5;129;01min\u001B[39;00m concepts \u001B[38;5;28;01mif\u001B[39;00m concept[\u001B[38;5;124m\"\u001B[39m\u001B[38;5;124mname\u001B[39m\u001B[38;5;124m\"\u001B[39m] \u001B[38;5;241m==\u001B[39m matched_class), \u001B[38;5;28;01mNone\u001B[39;00m)\n",
      "Cell \u001B[0;32mIn[46], line 16\u001B[0m, in \u001B[0;36mget_semantic_match\u001B[0;34m(attribute, classes)\u001B[0m\n\u001B[1;32m      6\u001B[0m prompt \u001B[38;5;241m=\u001B[39m \u001B[38;5;124mf\u001B[39m\u001B[38;5;124m\"\"\"\u001B[39m\n\u001B[1;32m      7\u001B[0m \u001B[38;5;124mYou are an ontology matching assistant. Your task is to find the most semantically similar class for the attribute: \u001B[39m\u001B[38;5;124m\"\u001B[39m\u001B[38;5;132;01m{\u001B[39;00mattribute\u001B[38;5;132;01m}\u001B[39;00m\u001B[38;5;124m\"\u001B[39m\u001B[38;5;124m.\u001B[39m\n\u001B[1;32m      8\u001B[0m \n\u001B[0;32m   (...)\u001B[0m\n\u001B[1;32m     12\u001B[0m \u001B[38;5;124mReturn the name of the most semantically similar class for the attribute \u001B[39m\u001B[38;5;124m\"\u001B[39m\u001B[38;5;132;01m{\u001B[39;00mattribute\u001B[38;5;132;01m}\u001B[39;00m\u001B[38;5;124m\"\u001B[39m\u001B[38;5;124m. If no suitable match is found, return \u001B[39m\u001B[38;5;124m\"\u001B[39m\u001B[38;5;124mNone\u001B[39m\u001B[38;5;124m\"\u001B[39m\u001B[38;5;124m.\u001B[39m\n\u001B[1;32m     13\u001B[0m \u001B[38;5;124m\u001B[39m\u001B[38;5;124m\"\"\"\u001B[39m\n\u001B[1;32m     15\u001B[0m \u001B[38;5;66;03m# Call the OpenAI API\u001B[39;00m\n\u001B[0;32m---> 16\u001B[0m response \u001B[38;5;241m=\u001B[39m \u001B[43mollama\u001B[49m\u001B[38;5;241;43m.\u001B[39;49m\u001B[43mchat\u001B[49m\u001B[43m(\u001B[49m\n\u001B[1;32m     17\u001B[0m \u001B[43m    \u001B[49m\u001B[43mmessages\u001B[49m\u001B[38;5;241;43m=\u001B[39;49m\u001B[43m[\u001B[49m\n\u001B[1;32m     18\u001B[0m \u001B[43m        \u001B[49m\u001B[43m{\u001B[49m\u001B[38;5;124;43m\"\u001B[39;49m\u001B[38;5;124;43mrole\u001B[39;49m\u001B[38;5;124;43m\"\u001B[39;49m\u001B[43m:\u001B[49m\u001B[43m \u001B[49m\u001B[38;5;124;43m\"\u001B[39;49m\u001B[38;5;124;43msystem\u001B[39;49m\u001B[38;5;124;43m\"\u001B[39;49m\u001B[43m,\u001B[49m\u001B[43m \u001B[49m\u001B[38;5;124;43m\"\u001B[39;49m\u001B[38;5;124;43mcontent\u001B[39;49m\u001B[38;5;124;43m\"\u001B[39;49m\u001B[43m:\u001B[49m\u001B[43m \u001B[49m\u001B[38;5;124;43m\"\u001B[39;49m\u001B[38;5;124;43mYou are an ontology matching assistant.\u001B[39;49m\u001B[38;5;124;43m\"\u001B[39;49m\u001B[43m}\u001B[49m\u001B[43m,\u001B[49m\n\u001B[1;32m     19\u001B[0m \u001B[43m        \u001B[49m\u001B[43m{\u001B[49m\u001B[38;5;124;43m\"\u001B[39;49m\u001B[38;5;124;43mrole\u001B[39;49m\u001B[38;5;124;43m\"\u001B[39;49m\u001B[43m:\u001B[49m\u001B[43m \u001B[49m\u001B[38;5;124;43m\"\u001B[39;49m\u001B[38;5;124;43muser\u001B[39;49m\u001B[38;5;124;43m\"\u001B[39;49m\u001B[43m,\u001B[49m\u001B[43m \u001B[49m\u001B[38;5;124;43m\"\u001B[39;49m\u001B[38;5;124;43mcontent\u001B[39;49m\u001B[38;5;124;43m\"\u001B[39;49m\u001B[43m:\u001B[49m\u001B[43m \u001B[49m\u001B[43mprompt\u001B[49m\u001B[43m}\u001B[49m\n\u001B[1;32m     20\u001B[0m \u001B[43m    \u001B[49m\u001B[43m]\u001B[49m\u001B[43m,\u001B[49m\n\u001B[1;32m     21\u001B[0m \u001B[43m    \u001B[49m\u001B[38;5;66;43;03m# max_tokens=100,\u001B[39;49;00m\n\u001B[1;32m     22\u001B[0m \u001B[43m    \u001B[49m\u001B[38;5;66;43;03m# temperature=0.2  # Lower temperature for more deterministic responses\u001B[39;49;00m\n\u001B[1;32m     23\u001B[0m \u001B[43m\u001B[49m\u001B[43m)\u001B[49m\n\u001B[1;32m     24\u001B[0m \u001B[38;5;28mprint\u001B[39m(\u001B[38;5;124mf\u001B[39m\u001B[38;5;124m\"\u001B[39m\u001B[38;5;124mOllama Called and the response is \u001B[39m\u001B[38;5;132;01m{\u001B[39;00mresponse\u001B[38;5;132;01m}\u001B[39;00m\u001B[38;5;124m\"\u001B[39m)\n\u001B[1;32m     25\u001B[0m \u001B[38;5;66;03m# Extract the matched class from the response\u001B[39;00m\n",
      "File \u001B[0;32m~/envs/llama/lib/python3.10/site-packages/ollama/_client.py:336\u001B[0m, in \u001B[0;36mClient.chat\u001B[0;34m(self, model, messages, tools, stream, format, options, keep_alive)\u001B[0m\n\u001B[1;32m    288\u001B[0m \u001B[38;5;28;01mdef\u001B[39;00m \u001B[38;5;21mchat\u001B[39m(\n\u001B[1;32m    289\u001B[0m   \u001B[38;5;28mself\u001B[39m,\n\u001B[1;32m    290\u001B[0m   model: \u001B[38;5;28mstr\u001B[39m \u001B[38;5;241m=\u001B[39m \u001B[38;5;124m'\u001B[39m\u001B[38;5;124m'\u001B[39m,\n\u001B[0;32m   (...)\u001B[0m\n\u001B[1;32m    297\u001B[0m   keep_alive: Optional[Union[\u001B[38;5;28mfloat\u001B[39m, \u001B[38;5;28mstr\u001B[39m]] \u001B[38;5;241m=\u001B[39m \u001B[38;5;28;01mNone\u001B[39;00m,\n\u001B[1;32m    298\u001B[0m ) \u001B[38;5;241m-\u001B[39m\u001B[38;5;241m>\u001B[39m Union[ChatResponse, Iterator[ChatResponse]]:\n\u001B[1;32m    299\u001B[0m \u001B[38;5;250m  \u001B[39m\u001B[38;5;124;03m\"\"\"\u001B[39;00m\n\u001B[1;32m    300\u001B[0m \u001B[38;5;124;03m  Create a chat response using the requested model.\u001B[39;00m\n\u001B[1;32m    301\u001B[0m \n\u001B[0;32m   (...)\u001B[0m\n\u001B[1;32m    330\u001B[0m \u001B[38;5;124;03m  Returns `ChatResponse` if `stream` is `False`, otherwise returns a `ChatResponse` generator.\u001B[39;00m\n\u001B[1;32m    331\u001B[0m \u001B[38;5;124;03m  \"\"\"\u001B[39;00m\n\u001B[1;32m    332\u001B[0m   \u001B[38;5;28;01mreturn\u001B[39;00m \u001B[38;5;28mself\u001B[39m\u001B[38;5;241m.\u001B[39m_request(\n\u001B[1;32m    333\u001B[0m     ChatResponse,\n\u001B[1;32m    334\u001B[0m     \u001B[38;5;124m'\u001B[39m\u001B[38;5;124mPOST\u001B[39m\u001B[38;5;124m'\u001B[39m,\n\u001B[1;32m    335\u001B[0m     \u001B[38;5;124m'\u001B[39m\u001B[38;5;124m/api/chat\u001B[39m\u001B[38;5;124m'\u001B[39m,\n\u001B[0;32m--> 336\u001B[0m     json\u001B[38;5;241m=\u001B[39m\u001B[43mChatRequest\u001B[49m\u001B[43m(\u001B[49m\n\u001B[1;32m    337\u001B[0m \u001B[43m      \u001B[49m\u001B[43mmodel\u001B[49m\u001B[38;5;241;43m=\u001B[39;49m\u001B[43mmodel\u001B[49m\u001B[43m,\u001B[49m\n\u001B[1;32m    338\u001B[0m \u001B[43m      \u001B[49m\u001B[43mmessages\u001B[49m\u001B[38;5;241;43m=\u001B[39;49m\u001B[43m[\u001B[49m\u001B[43mmessage\u001B[49m\u001B[43m \u001B[49m\u001B[38;5;28;43;01mfor\u001B[39;49;00m\u001B[43m \u001B[49m\u001B[43mmessage\u001B[49m\u001B[43m \u001B[49m\u001B[38;5;129;43;01min\u001B[39;49;00m\u001B[43m \u001B[49m\u001B[43m_copy_messages\u001B[49m\u001B[43m(\u001B[49m\u001B[43mmessages\u001B[49m\u001B[43m)\u001B[49m\u001B[43m]\u001B[49m\u001B[43m,\u001B[49m\n\u001B[1;32m    339\u001B[0m \u001B[43m      \u001B[49m\u001B[43mtools\u001B[49m\u001B[38;5;241;43m=\u001B[39;49m\u001B[43m[\u001B[49m\u001B[43mtool\u001B[49m\u001B[43m \u001B[49m\u001B[38;5;28;43;01mfor\u001B[39;49;00m\u001B[43m \u001B[49m\u001B[43mtool\u001B[49m\u001B[43m \u001B[49m\u001B[38;5;129;43;01min\u001B[39;49;00m\u001B[43m \u001B[49m\u001B[43m_copy_tools\u001B[49m\u001B[43m(\u001B[49m\u001B[43mtools\u001B[49m\u001B[43m)\u001B[49m\u001B[43m]\u001B[49m\u001B[43m,\u001B[49m\n\u001B[1;32m    340\u001B[0m \u001B[43m      \u001B[49m\u001B[43mstream\u001B[49m\u001B[38;5;241;43m=\u001B[39;49m\u001B[43mstream\u001B[49m\u001B[43m,\u001B[49m\n\u001B[1;32m    341\u001B[0m \u001B[43m      \u001B[49m\u001B[38;5;28;43mformat\u001B[39;49m\u001B[38;5;241;43m=\u001B[39;49m\u001B[38;5;28;43mformat\u001B[39;49m\u001B[43m,\u001B[49m\n\u001B[1;32m    342\u001B[0m \u001B[43m      \u001B[49m\u001B[43moptions\u001B[49m\u001B[38;5;241;43m=\u001B[39;49m\u001B[43moptions\u001B[49m\u001B[43m,\u001B[49m\n\u001B[1;32m    343\u001B[0m \u001B[43m      \u001B[49m\u001B[43mkeep_alive\u001B[49m\u001B[38;5;241;43m=\u001B[39;49m\u001B[43mkeep_alive\u001B[49m\u001B[43m,\u001B[49m\n\u001B[1;32m    344\u001B[0m \u001B[43m    \u001B[49m\u001B[43m)\u001B[49m\u001B[38;5;241m.\u001B[39mmodel_dump(exclude_none\u001B[38;5;241m=\u001B[39m\u001B[38;5;28;01mTrue\u001B[39;00m),\n\u001B[1;32m    345\u001B[0m     stream\u001B[38;5;241m=\u001B[39mstream,\n\u001B[1;32m    346\u001B[0m   )\n",
      "File \u001B[0;32m~/envs/llama/lib/python3.10/site-packages/pydantic/main.py:212\u001B[0m, in \u001B[0;36mBaseModel.__init__\u001B[0;34m(self, **data)\u001B[0m\n\u001B[1;32m    210\u001B[0m \u001B[38;5;66;03m# `__tracebackhide__` tells pytest and some other tools to omit this function from tracebacks\u001B[39;00m\n\u001B[1;32m    211\u001B[0m __tracebackhide__ \u001B[38;5;241m=\u001B[39m \u001B[38;5;28;01mTrue\u001B[39;00m\n\u001B[0;32m--> 212\u001B[0m validated_self \u001B[38;5;241m=\u001B[39m \u001B[38;5;28;43mself\u001B[39;49m\u001B[38;5;241;43m.\u001B[39;49m\u001B[43m__pydantic_validator__\u001B[49m\u001B[38;5;241;43m.\u001B[39;49m\u001B[43mvalidate_python\u001B[49m\u001B[43m(\u001B[49m\u001B[43mdata\u001B[49m\u001B[43m,\u001B[49m\u001B[43m \u001B[49m\u001B[43mself_instance\u001B[49m\u001B[38;5;241;43m=\u001B[39;49m\u001B[38;5;28;43mself\u001B[39;49m\u001B[43m)\u001B[49m\n\u001B[1;32m    213\u001B[0m \u001B[38;5;28;01mif\u001B[39;00m \u001B[38;5;28mself\u001B[39m \u001B[38;5;129;01mis\u001B[39;00m \u001B[38;5;129;01mnot\u001B[39;00m validated_self:\n\u001B[1;32m    214\u001B[0m     warnings\u001B[38;5;241m.\u001B[39mwarn(\n\u001B[1;32m    215\u001B[0m         \u001B[38;5;124m'\u001B[39m\u001B[38;5;124mA custom validator is returning a value other than `self`.\u001B[39m\u001B[38;5;130;01m\\n\u001B[39;00m\u001B[38;5;124m'\u001B[39m\n\u001B[1;32m    216\u001B[0m         \u001B[38;5;124m\"\u001B[39m\u001B[38;5;124mReturning anything other than `self` from a top level model validator isn\u001B[39m\u001B[38;5;124m'\u001B[39m\u001B[38;5;124mt supported when validating via `__init__`.\u001B[39m\u001B[38;5;130;01m\\n\u001B[39;00m\u001B[38;5;124m\"\u001B[39m\n\u001B[1;32m    217\u001B[0m         \u001B[38;5;124m'\u001B[39m\u001B[38;5;124mSee the `model_validator` docs (https://docs.pydantic.dev/latest/concepts/validators/#model-validators) for more details.\u001B[39m\u001B[38;5;124m'\u001B[39m,\n\u001B[1;32m    218\u001B[0m         category\u001B[38;5;241m=\u001B[39m\u001B[38;5;28;01mNone\u001B[39;00m,\n\u001B[1;32m    219\u001B[0m     )\n",
      "\u001B[0;31mValidationError\u001B[0m: 1 validation error for ChatRequest\nmodel\n  String should have at least 1 character [type=string_too_short, input_value='', input_type=str]\n    For further information visit https://errors.pydantic.dev/2.9/v/string_too_short"
     ]
    }
   ],
   "execution_count": 50
  },
  {
   "metadata": {},
   "cell_type": "code",
   "outputs": [],
   "execution_count": null,
   "source": [
    "print(\"Original CRAM Action:\", cram_action)\n",
    "print(\"Mapped CRAM Action with LLM Semantic Matching:\")\n",
    "for attr, details in mapped_action.items():\n",
    "    print(f\"Attribute: {attr}\")\n",
    "    print(f\"  Closest Match: {details['closest_match']}\")\n",
    "    print(f\"  Value: {details['value']}\")\n",
    "    print()"
   ],
   "id": "933346fd85696cd"
  }
 ],
 "metadata": {
  "kernelspec": {
   "display_name": "llama",
   "language": "python",
   "name": "llama"
  },
  "language_info": {
   "codemirror_mode": {
    "name": "ipython",
    "version": 2
   },
   "file_extension": ".py",
   "mimetype": "text/x-python",
   "name": "python",
   "nbconvert_exporter": "python",
   "pygments_lexer": "ipython2",
   "version": "2.7.6"
  }
 },
 "nbformat": 4,
 "nbformat_minor": 5
}
