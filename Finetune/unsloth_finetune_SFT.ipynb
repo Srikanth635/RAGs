{
 "cells": [
  {
   "cell_type": "code",
   "id": "initial_id",
   "metadata": {
    "collapsed": true,
    "ExecuteTime": {
     "end_time": "2025-03-11T10:04:55.328410Z",
     "start_time": "2025-03-11T10:04:50.916652Z"
    }
   },
   "source": [
    "from unsloth import FastLanguageModel\n",
    "import torch\n",
    "max_seq_length = 2048 # Choose any! We auto support RoPE Scaling internally!\n",
    "dtype = None # None for auto detection. Float16 for Tesla T4, V100, Bfloat16 for Ampere+\n",
    "load_in_4bit = True # Use 4bit quantization to reduce memory usage. Can be False."
   ],
   "outputs": [
    {
     "name": "stdout",
     "output_type": "stream",
     "text": [
      "🦥 Unsloth: Will patch your computer to enable 2x faster free finetuning.\n",
      "🦥 Unsloth Zoo will now patch everything to make training faster!\n"
     ]
    }
   ],
   "execution_count": 1
  },
  {
   "metadata": {
    "ExecuteTime": {
     "end_time": "2025-03-11T10:04:59.359292Z",
     "start_time": "2025-03-11T10:04:59.356364Z"
    }
   },
   "cell_type": "code",
   "source": [
    "# 4bit pre quantized models we support for 4x faster downloading + no OOMs.\n",
    "fourbit_models = [\n",
    "    \"unsloth/Meta-Llama-3.1-8B-bnb-4bit\",      # Llama-3.1 2x faster\n",
    "    \"unsloth/Meta-Llama-3.1-8B-Instruct-bnb-4bit\",\n",
    "    \"unsloth/Meta-Llama-3.1-70B-bnb-4bit\",\n",
    "    \"unsloth/Meta-Llama-3.1-405B-bnb-4bit\",    # 4bit for 405b!\n",
    "    \"unsloth/Mistral-Small-Instruct-2409\",     # Mistral 22b 2x faster!\n",
    "    \"unsloth/mistral-7b-instruct-v0.3-bnb-4bit\",\n",
    "    \"unsloth/Phi-3.5-mini-instruct\",           # Phi-3.5 2x faster!\n",
    "    \"unsloth/Phi-3-medium-4k-instruct\",\n",
    "    \"unsloth/gemma-2-9b-bnb-4bit\",\n",
    "    \"unsloth/gemma-2-27b-bnb-4bit\",            # Gemma 2x faster!\n",
    "\n",
    "    \"unsloth/Llama-3.2-1B-bnb-4bit\",           # NEW! Llama 3.2 models\n",
    "    \"unsloth/Llama-3.2-1B-Instruct-bnb-4bit\",\n",
    "    \"unsloth/Llama-3.2-3B-bnb-4bit\",\n",
    "    \"unsloth/Llama-3.2-3B-Instruct-bnb-4bit\",\n",
    "\n",
    "    \"unsloth/Llama-3.3-70B-Instruct-bnb-4bit\" # NEW! Llama 3.3 70B!\n",
    "] # More models at https://huggingface.co/unsloth"
   ],
   "id": "2a84de7e17cf1a80",
   "outputs": [],
   "execution_count": 2
  },
  {
   "metadata": {
    "ExecuteTime": {
     "end_time": "2025-03-11T10:05:11.821053Z",
     "start_time": "2025-03-11T10:05:05.192179Z"
    }
   },
   "cell_type": "code",
   "source": [
    "model, tokenizer = FastLanguageModel.from_pretrained(\n",
    "    model_name= \"unsloth/Llama-3.2-3B-Instruct\",\n",
    "    max_seq_length = max_seq_length,\n",
    "    dtype = dtype,\n",
    "    load_in_4bit = load_in_4bit,\n",
    ")"
   ],
   "id": "92bb34ddfabe2fd5",
   "outputs": [
    {
     "name": "stdout",
     "output_type": "stream",
     "text": [
      "==((====))==  Unsloth 2025.3.6: Fast Llama patching. Transformers: 4.48.3.\n",
      "   \\\\   /|    NVIDIA GeForce RTX 4070. Num GPUs = 1. Max memory: 11.719 GB. Platform: Linux.\n",
      "O^O/ \\_/ \\    Torch: 2.5.1+cu124. CUDA: 8.9. CUDA Toolkit: 12.4. Triton: 3.1.0\n",
      "\\        /    Bfloat16 = TRUE. FA [Xformers = 0.0.29. FA2 = False]\n",
      " \"-____-\"     Free license: http://github.com/unslothai/unsloth\n",
      "Unsloth: Fast downloading is enabled - ignore downloading bars which are red colored!\n"
     ]
    }
   ],
   "execution_count": 3
  },
  {
   "metadata": {
    "ExecuteTime": {
     "end_time": "2025-03-11T10:05:15.136001Z",
     "start_time": "2025-03-11T10:05:13.762932Z"
    }
   },
   "cell_type": "code",
   "source": [
    "model = FastLanguageModel.get_peft_model(\n",
    "    model,\n",
    "    r = 16, # Choose any number > 0 ! Suggested 8, 16, 32, 64, 128\n",
    "    target_modules = [\"q_proj\", \"k_proj\", \"v_proj\", \"o_proj\",\n",
    "                      \"gate_proj\", \"up_proj\", \"down_proj\",],\n",
    "    lora_alpha = 16,\n",
    "    lora_dropout = 0, # Supports any, but = 0 is optimized\n",
    "    bias = \"none\",    # Supports any, but = \"none\" is optimized\n",
    "    # [NEW] \"unsloth\" uses 30% less VRAM, fits 2x larger batch sizes!\n",
    "    use_gradient_checkpointing = \"unsloth\", # True or \"unsloth\" for very long context\n",
    "    random_state = 3407,\n",
    "    use_rslora = False,  # We support rank stabilized LoRA\n",
    "    loftq_config = None, # And LoftQ\n",
    ")"
   ],
   "id": "204d867992bbf6fd",
   "outputs": [
    {
     "name": "stderr",
     "output_type": "stream",
     "text": [
      "Unsloth 2025.3.6 patched 28 layers with 28 QKV layers, 28 O layers and 28 MLP layers.\n"
     ]
    }
   ],
   "execution_count": 4
  },
  {
   "metadata": {
    "ExecuteTime": {
     "end_time": "2025-03-11T10:09:58.713663Z",
     "start_time": "2025-03-11T10:09:58.706572Z"
    }
   },
   "cell_type": "code",
   "source": [
    "from unsloth.chat_templates import get_chat_template\n",
    "from unsloth.chat_templates import standardize_sharegpt\n",
    "\n",
    "tokenizer = get_chat_template(\n",
    "    tokenizer,\n",
    "    chat_template = \"llama-3.1\",\n",
    ")\n",
    "\n",
    "def formatting_prompts_func(examples):\n",
    "    convos = examples[\"conversations\"]\n",
    "    texts = [tokenizer.apply_chat_template(convo, tokenize = False, add_generation_prompt = False) for convo in convos]\n",
    "    return { \"text\" : texts, }\n",
    "pass"
   ],
   "id": "586eef0c787d3ea0",
   "outputs": [],
   "execution_count": 30
  },
  {
   "metadata": {
    "ExecuteTime": {
     "end_time": "2025-03-11T10:10:00.639588Z",
     "start_time": "2025-03-11T10:10:00.636250Z"
    }
   },
   "cell_type": "code",
   "source": [
    "import os\n",
    "with open(os.path.join(os.curdir, \"Resources/Data/flanagan_basics.txt\")) as f:\n",
    "    dataset = eval(f.read())"
   ],
   "id": "a4eff8d1ea06c021",
   "outputs": [],
   "execution_count": 31
  },
  {
   "metadata": {
    "ExecuteTime": {
     "end_time": "2025-03-11T10:10:09.972Z",
     "start_time": "2025-03-11T10:10:09.969632Z"
    }
   },
   "cell_type": "code",
   "source": [
    "with open(os.path.join(os.curdir, \"Resources/Data/flanagan_motion_phases.txt\")) as f:\n",
    "    dataset1 = eval(f.read())"
   ],
   "id": "24dfb7889c7f1f55",
   "outputs": [],
   "execution_count": 33
  },
  {
   "metadata": {
    "ExecuteTime": {
     "end_time": "2025-03-11T10:10:12.263645Z",
     "start_time": "2025-03-11T10:10:12.260487Z"
    }
   },
   "cell_type": "code",
   "source": "ds = dataset + dataset1",
   "id": "9fb6e43425502fb9",
   "outputs": [],
   "execution_count": 34
  },
  {
   "metadata": {
    "ExecuteTime": {
     "end_time": "2025-03-11T10:10:17.537723Z",
     "start_time": "2025-03-11T10:10:17.535005Z"
    }
   },
   "cell_type": "code",
   "source": "len(ds)",
   "id": "712b0027e654619b",
   "outputs": [
    {
     "data": {
      "text/plain": [
       "15"
      ]
     },
     "execution_count": 36,
     "metadata": {},
     "output_type": "execute_result"
    }
   ],
   "execution_count": 36
  },
  {
   "metadata": {
    "ExecuteTime": {
     "end_time": "2025-03-11T10:10:34.422874Z",
     "start_time": "2025-03-11T10:10:34.419011Z"
    }
   },
   "cell_type": "code",
   "source": [
    "format_dataset = [{\"conversations\": conv} for conv in ds]\n",
    "format_dataset[14]"
   ],
   "id": "6503376e542f0496",
   "outputs": [
    {
     "data": {
      "text/plain": [
       "{'conversations': [{'from': 'human', 'value': 'Return the object properties.'},\n",
       "  {'from': 'gpt',\n",
       "   'value': '(properties (size \"medium\") (texture \"smooth\") (color \"red\"))'},\n",
       "  {'from': 'human', 'value': 'Return the tool properties.'},\n",
       "  {'from': 'gpt',\n",
       "   'value': '(properties (sharpness \"high\") (size \"medium\") (material \"steel\") (weight \"light\") (color \"black\") (edge \"smooth\"))'},\n",
       "  {'from': 'human', 'value': 'Return the location properties.'},\n",
       "  {'from': 'gpt',\n",
       "   'value': '(properties (material \"wood\") (height 0.9) (accessibility \"high\") (surface-type \"stable\"))'},\n",
       "  {'from': 'human', 'value': 'Return the goal details.'},\n",
       "  {'from': 'gpt',\n",
       "   'value': '(details (type \"slice\") (size \"uniform\") (quantity \"multiple\"))'},\n",
       "  {'from': 'human', 'value': 'Return the task constraints.'},\n",
       "  {'from': 'gpt',\n",
       "   'value': '(task-constraints (cut-type \"slices\") (cut-uniformly \"true\") (remove-core \"none\") (remove-seeds \"none\") (maintain-shape-integrity \"true\"))'},\n",
       "  {'from': 'human', 'value': 'Return the kinematic constraints.'},\n",
       "  {'from': 'gpt',\n",
       "   'value': '(kinematic-constraints (degrees-of-freedom 6) (workspace (boundaries (x-min 0) (x-max 1000) (y-min 0) (y-max 1000) (z-min 0) (z-max 500)) (singularity-tolerance 0.01)) (path-constraints (trajectory-smoothness 0.95) (collision-avoidance (enabled true) (proximity-threshold 20))))'},\n",
       "  {'from': 'human', 'value': 'Return the dynamic constraints.'},\n",
       "  {'from': 'gpt',\n",
       "   'value': '(dynamic-constraints (force-control (normal-force 10) (shearing-force 5)) (vibration-control (damping-coefficient 0.8)) (torque-limits (joint-1 (max-torque 10)) (joint-2 (max-torque 15))) (inertia-compensation (object-inertia (x 0.003) (y 0.003) (z 0.002))))'},\n",
       "  {'from': 'human', 'value': 'Return the control constraints.'},\n",
       "  {'from': 'gpt',\n",
       "   'value': '(control-constraints (motion-control (control-mode \"hybrid_force_position\") (gain-tuning (proportional-gain 1.0) (derivative-gain 0.6))) (trajectory-execution (sampling-rate 1000) (jerk-limit 30)))'},\n",
       "  {'from': 'human', 'value': 'Return the environmental constraints.'},\n",
       "  {'from': 'gpt',\n",
       "   'value': '(environmental-constraints (surface (material \"wood\") (friction-coefficient 0.6) (flatness-tolerance 0.02)) (obstacle-avoidance (obstacles (type \"bottle\") (position (x 300) (y 300) (z 0)) (dimensions (radius 50)) (avoidance-radius 20))))'},\n",
       "  {'from': 'human', 'value': 'Return the feedback constraints.'},\n",
       "  {'from': 'gpt',\n",
       "   'value': '(feedback-constraints (sensors (force-sensor (sensitivity 0.1) (range 30)) (camera (resolution (width 1920) (height 1080)) (field-of-view 90) (frame-rate 30)) (tactile-sensor (resolution 0.01) (sensitivity 0.05))) (latency (control-loop 5) (sensor-update-rate 20)))'},\n",
       "  {'from': 'human', 'value': 'Return the safety constraints.'},\n",
       "  {'from': 'gpt',\n",
       "   'value': '(safety-constraints (force-limits (max-interaction-force 15) (human-contact-force-threshold 3)) (tool-safety (tool-storage-position (x 0) (y 0) (z 50)) (disable-tool-when-idle true)) (collision-safety (emergency-stop (trigger-force 10) (response-time 0.1))))'},\n",
       "  {'from': 'human', 'value': 'Return the pre-motion phase.'},\n",
       "  {'from': 'gpt',\n",
       "   'value': '(pre-motion-phase (predictive-model (expected-trajectory \"smooth downward cut\") (force-model (initial-force 1.0) (resistance-range)) (tool-model (sharpness \"high\") (length 15))) (motion-planning (trajectory \"linear cut downward\") (obstacle-avoidance \"none\") (energy-efficiency \"optimized\")))'},\n",
       "  {'from': 'human', 'value': 'Return the initiation phase.'},\n",
       "  {'from': 'gpt',\n",
       "   'value': '(initiation-phase (initial-state (robot-position) (object-position \\'(0.5 0 0.1)) (tool-position \\'(0.4 -0.2 0.3))) (motion-initialization (joint-activation (joint1 40) (joint2 25)) (velocity-profile \"linear ramp-up\")))'},\n",
       "  {'from': 'human', 'value': 'Return the execution phase.'},\n",
       "  {'from': 'gpt',\n",
       "   'value': \"(execution-phase (feedforward-control (predicted-forces (initial-force 1.0) (cutting-force-range)) (predicted-positions (start '(0.4 -0.2 0.3)) (end '(0.4 -0.2 0.1))) (error-tolerance (position-error 0.01) (force-error 0.05))) (feedback-control (corrective-actions (adjust-trajectory true) (increase-force true)) (sensor-feedback (force 1.2) (position-error 0.01) (slip-detected false))) (sensory-integration (tactile (gripper-force 3.0) (cutting-force 1.2)) (visual (object-center) (knife-position '(0.4 -0.2 0.18))) (proprioceptive (joint-positions) (joint-velocities))))\"},\n",
       "  {'from': 'human', 'value': 'Return the interaction phase.'},\n",
       "  {'from': 'gpt',\n",
       "   'value': '(interaction-phase (force-adaptation (grip-force (initial-grip 3.0) (adjusted-grip 3.5)) (cutting-force (initial-cut 1.0) (adaptive-cut 1.2))) (object-modeling (deformation-model (elasticity 0.3) (strain-limit 0.5) (current-deformation 0.2)) (material-properties (hardness 0.6) (friction-coefficient 0.4))))'},\n",
       "  {'from': 'human', 'value': 'Return the termination phase.'},\n",
       "  {'from': 'gpt',\n",
       "   'value': '(termination-phase (end-effector-stabilization (final-position (knife-position \\'(0.4 -0.2 0.0))) (reset-trajectory \"linear reset to neutral position\")) (success-verification (outcome-check (object-cut true) (pieces-separated true)) (error-analysis (cut-quality \"smooth\") (deviation-from-center 0.01))))'},\n",
       "  {'from': 'human', 'value': 'Return the post-motion phase.'},\n",
       "  {'from': 'gpt',\n",
       "   'value': '(post-motion-phase (learning-update (model-refinement (force-model-update (cutting-force 1.5)) (trajectory-model-update (deviation-correction 0.01))) (reinforcement (successful-cut true) (reinforce-parameters (grip-force 3.5)))) (error-correction (deviation-analysis (position-error 0.01) (force-error 0.05) (slip-event false)) (parameter-update (cutting-force-range) (grip-force-range))))'}]}"
      ]
     },
     "execution_count": 39,
     "metadata": {},
     "output_type": "execute_result"
    }
   ],
   "execution_count": 39
  },
  {
   "metadata": {
    "ExecuteTime": {
     "end_time": "2025-03-11T10:10:38.949672Z",
     "start_time": "2025-03-11T10:10:38.945304Z"
    }
   },
   "cell_type": "code",
   "source": "len(ds)",
   "id": "1ad400f56ffbf32b",
   "outputs": [
    {
     "data": {
      "text/plain": [
       "15"
      ]
     },
     "execution_count": 40,
     "metadata": {},
     "output_type": "execute_result"
    }
   ],
   "execution_count": 40
  },
  {
   "metadata": {
    "ExecuteTime": {
     "end_time": "2025-03-11T10:10:41.130590Z",
     "start_time": "2025-03-11T10:10:41.124519Z"
    }
   },
   "cell_type": "code",
   "source": [
    "from datasets import Dataset\n",
    "hugging_dataset = Dataset.from_list(format_dataset)\n",
    "print(type(hugging_dataset))\n",
    "print(hugging_dataset[0])"
   ],
   "id": "51a6efa377328bcd",
   "outputs": [
    {
     "name": "stdout",
     "output_type": "stream",
     "text": [
      "<class 'datasets.arrow_dataset.Dataset'>\n",
      "{'conversations': [{'from': 'human', 'value': 'Can you explain Flanagan motion phases?'}, {'from': 'gpt', 'value': 'Sure! Flanagan motion phases describe the stages of movement in biomechanical analysis.'}, {'from': 'human', 'value': 'How many phases are there?'}, {'from': 'gpt', 'value': 'There are typically three main phases: preparation, execution, and follow-through.'}]}\n"
     ]
    }
   ],
   "execution_count": 41
  },
  {
   "metadata": {
    "ExecuteTime": {
     "end_time": "2025-03-11T10:10:49.534332Z",
     "start_time": "2025-03-11T10:10:49.430747Z"
    }
   },
   "cell_type": "code",
   "source": [
    "std_dataset = standardize_sharegpt(hugging_dataset)\n",
    "data = std_dataset.map(formatting_prompts_func, batched=True)"
   ],
   "id": "5b26954ed89eefc4",
   "outputs": [
    {
     "data": {
      "text/plain": [
       "Standardizing format:   0%|          | 0/15 [00:00<?, ? examples/s]"
      ],
      "application/vnd.jupyter.widget-view+json": {
       "version_major": 2,
       "version_minor": 0,
       "model_id": "ab3225db167d4ef8afbc031f2a64a0c2"
      }
     },
     "metadata": {},
     "output_type": "display_data"
    },
    {
     "data": {
      "text/plain": [
       "Map:   0%|          | 0/15 [00:00<?, ? examples/s]"
      ],
      "application/vnd.jupyter.widget-view+json": {
       "version_major": 2,
       "version_minor": 0,
       "model_id": "a60039ba11b0465391182faa44d24fdc"
      }
     },
     "metadata": {},
     "output_type": "display_data"
    }
   ],
   "execution_count": 42
  },
  {
   "metadata": {
    "ExecuteTime": {
     "end_time": "2025-03-11T10:11:09.641407Z",
     "start_time": "2025-03-11T10:11:08.866391Z"
    }
   },
   "cell_type": "code",
   "source": [
    "from trl import SFTTrainer\n",
    "from transformers import TrainingArguments, DataCollatorForSeq2Seq\n",
    "from unsloth import is_bfloat16_supported\n",
    "\n",
    "trainer = SFTTrainer(\n",
    "    model = model,\n",
    "    tokenizer = tokenizer,\n",
    "    train_dataset = data,\n",
    "    dataset_text_field = \"text\",\n",
    "    max_seq_length = max_seq_length,\n",
    "    data_collator = DataCollatorForSeq2Seq(tokenizer = tokenizer),\n",
    "    dataset_num_proc = 2,\n",
    "    packing = False, # Can make training 5x faster for short sequences.\n",
    "    args = TrainingArguments(\n",
    "        per_device_train_batch_size = 2,\n",
    "        gradient_accumulation_steps = 4,\n",
    "        warmup_steps = 5,\n",
    "        # num_train_epochs = 1, # Set this for 1 full training run.\n",
    "        max_steps = 60,\n",
    "        learning_rate = 2e-4,\n",
    "        fp16 = not is_bfloat16_supported(),\n",
    "        bf16 = is_bfloat16_supported(),\n",
    "        logging_steps = 1,\n",
    "        optim = \"adamw_8bit\",\n",
    "        weight_decay = 0.01,\n",
    "        lr_scheduler_type = \"linear\",\n",
    "        seed = 3407,\n",
    "        output_dir = \"outputs\",\n",
    "        report_to = \"none\", # Use this for WandB etc\n",
    "    ),\n",
    ")"
   ],
   "id": "4b85e5da1a4bdc4e",
   "outputs": [
    {
     "name": "stdout",
     "output_type": "stream",
     "text": [
      "Unsloth: We found double BOS tokens - we shall remove one automatically.\n"
     ]
    },
    {
     "data": {
      "text/plain": [
       "Tokenizing to [\"text\"] (num_proc=2):   0%|          | 0/15 [00:00<?, ? examples/s]"
      ],
      "application/vnd.jupyter.widget-view+json": {
       "version_major": 2,
       "version_minor": 0,
       "model_id": "fb58d416ed304e2697ee60bbf2fca8b2"
      }
     },
     "metadata": {},
     "output_type": "display_data"
    }
   ],
   "execution_count": 43
  },
  {
   "metadata": {
    "ExecuteTime": {
     "end_time": "2025-03-11T10:11:14.703381Z",
     "start_time": "2025-03-11T10:11:14.390651Z"
    }
   },
   "cell_type": "code",
   "source": [
    "from unsloth.chat_templates import train_on_responses_only\n",
    "\n",
    "trainer = train_on_responses_only(\n",
    "    trainer,\n",
    "    instruction_part = \"<|start_header_id|>user<|end_header_id|>\\n\\n\",\n",
    "    response_part = \"<|start_header_id|>assistant<|end_header_id|>\\n\\n\",\n",
    ")"
   ],
   "id": "d1f7bd8216665049",
   "outputs": [
    {
     "name": "stderr",
     "output_type": "stream",
     "text": [
      "num_proc must be <= 15. Reducing num_proc to 15 for dataset of size 15.\n"
     ]
    },
    {
     "data": {
      "text/plain": [
       "Map (num_proc=15):   0%|          | 0/15 [00:00<?, ? examples/s]"
      ],
      "application/vnd.jupyter.widget-view+json": {
       "version_major": 2,
       "version_minor": 0,
       "model_id": "da62fc384c38437194ede7b0cd3c5b6f"
      }
     },
     "metadata": {},
     "output_type": "display_data"
    }
   ],
   "execution_count": 44
  },
  {
   "metadata": {
    "ExecuteTime": {
     "end_time": "2025-03-11T10:11:19.744135Z",
     "start_time": "2025-03-11T10:11:19.737413Z"
    }
   },
   "cell_type": "code",
   "source": "tokenizer.decode(trainer.train_dataset[5][\"input_ids\"])",
   "id": "b9ed190716deb6",
   "outputs": [
    {
     "data": {
      "text/plain": [
       "'<|begin_of_text|><|start_header_id|>system<|end_header_id|>\\n\\nCutting Knowledge Date: December 2023\\nToday Date: 26 July 2024\\n\\n<|eot_id|><|start_header_id|>user<|end_header_id|>\\n\\nWhat about the initiation phase?<|eot_id|><|start_header_id|>assistant<|end_header_id|>\\n\\nIn this phase, the knife, food, and hand positions are set. The initial grip force and joint movements begin, gradually ramping up velocity to start the motion.<|eot_id|><|start_header_id|>user<|end_header_id|>\\n\\nSo it’s like positioning the knife and getting ready to cut?<|eot_id|><|start_header_id|>assistant<|end_header_id|>\\n\\nYes! Your brain and muscles prepare for controlled movement, just like a robot would.<|eot_id|>'"
      ]
     },
     "execution_count": 45,
     "metadata": {},
     "output_type": "execute_result"
    }
   ],
   "execution_count": 45
  },
  {
   "metadata": {
    "ExecuteTime": {
     "end_time": "2025-03-11T10:11:23.197178Z",
     "start_time": "2025-03-11T10:11:23.191719Z"
    }
   },
   "cell_type": "code",
   "source": [
    "space = tokenizer(\" \", add_special_tokens = False).input_ids[0]\n",
    "tokenizer.decode([space if x == -100 else x for x in trainer.train_dataset[5][\"labels\"]])"
   ],
   "id": "d30dbda769ec4ddc",
   "outputs": [
    {
     "data": {
      "text/plain": [
       "'                                        \\n\\nIn this phase, the knife, food, and hand positions are set. The initial grip force and joint movements begin, gradually ramping up velocity to start the motion.<|eot_id|>                     \\n\\nYes! Your brain and muscles prepare for controlled movement, just like a robot would.<|eot_id|>'"
      ]
     },
     "execution_count": 46,
     "metadata": {},
     "output_type": "execute_result"
    }
   ],
   "execution_count": 46
  },
  {
   "metadata": {
    "ExecuteTime": {
     "end_time": "2025-03-11T10:14:16.483191Z",
     "start_time": "2025-03-11T10:11:31.329274Z"
    }
   },
   "cell_type": "code",
   "source": "trainer_stats = trainer.train()",
   "id": "808807466e95220",
   "outputs": [
    {
     "name": "stderr",
     "output_type": "stream",
     "text": [
      "==((====))==  Unsloth - 2x faster free finetuning | Num GPUs used = 1\n",
      "   \\\\   /|    Num examples = 15 | Num Epochs = 30 | Total steps = 60\n",
      "O^O/ \\_/ \\    Batch size per device = 2 | Gradient accumulation steps = 4\n",
      "\\        /    Data Parallel GPUs = 1 | Total batch size (2 x 4 x 1) = 8\n",
      " \"-____-\"     Trainable parameters = 24,313,856/1,865,526,272 (1.30% trained)\n"
     ]
    },
    {
     "name": "stdout",
     "output_type": "stream",
     "text": [
      "Unsloth: Will smartly offload gradients to save VRAM!\n"
     ]
    },
    {
     "data": {
      "text/plain": [
       "<IPython.core.display.HTML object>"
      ],
      "text/html": [
       "\n",
       "    <div>\n",
       "      \n",
       "      <progress value='60' max='60' style='width:300px; height:20px; vertical-align: middle;'></progress>\n",
       "      [60/60 02:37, Epoch 30/30]\n",
       "    </div>\n",
       "    <table border=\"1\" class=\"dataframe\">\n",
       "  <thead>\n",
       " <tr style=\"text-align: left;\">\n",
       "      <th>Step</th>\n",
       "      <th>Training Loss</th>\n",
       "    </tr>\n",
       "  </thead>\n",
       "  <tbody>\n",
       "    <tr>\n",
       "      <td>1</td>\n",
       "      <td>1.999500</td>\n",
       "    </tr>\n",
       "    <tr>\n",
       "      <td>2</td>\n",
       "      <td>1.649500</td>\n",
       "    </tr>\n",
       "    <tr>\n",
       "      <td>3</td>\n",
       "      <td>1.713500</td>\n",
       "    </tr>\n",
       "    <tr>\n",
       "      <td>4</td>\n",
       "      <td>1.806700</td>\n",
       "    </tr>\n",
       "    <tr>\n",
       "      <td>5</td>\n",
       "      <td>2.197100</td>\n",
       "    </tr>\n",
       "    <tr>\n",
       "      <td>6</td>\n",
       "      <td>1.531800</td>\n",
       "    </tr>\n",
       "    <tr>\n",
       "      <td>7</td>\n",
       "      <td>1.903900</td>\n",
       "    </tr>\n",
       "    <tr>\n",
       "      <td>8</td>\n",
       "      <td>1.435700</td>\n",
       "    </tr>\n",
       "    <tr>\n",
       "      <td>9</td>\n",
       "      <td>1.682900</td>\n",
       "    </tr>\n",
       "    <tr>\n",
       "      <td>10</td>\n",
       "      <td>1.355500</td>\n",
       "    </tr>\n",
       "    <tr>\n",
       "      <td>11</td>\n",
       "      <td>1.353400</td>\n",
       "    </tr>\n",
       "    <tr>\n",
       "      <td>12</td>\n",
       "      <td>1.270600</td>\n",
       "    </tr>\n",
       "    <tr>\n",
       "      <td>13</td>\n",
       "      <td>1.239900</td>\n",
       "    </tr>\n",
       "    <tr>\n",
       "      <td>14</td>\n",
       "      <td>1.128700</td>\n",
       "    </tr>\n",
       "    <tr>\n",
       "      <td>15</td>\n",
       "      <td>1.043000</td>\n",
       "    </tr>\n",
       "    <tr>\n",
       "      <td>16</td>\n",
       "      <td>1.131300</td>\n",
       "    </tr>\n",
       "    <tr>\n",
       "      <td>17</td>\n",
       "      <td>0.912700</td>\n",
       "    </tr>\n",
       "    <tr>\n",
       "      <td>18</td>\n",
       "      <td>1.130600</td>\n",
       "    </tr>\n",
       "    <tr>\n",
       "      <td>19</td>\n",
       "      <td>0.819000</td>\n",
       "    </tr>\n",
       "    <tr>\n",
       "      <td>20</td>\n",
       "      <td>0.862000</td>\n",
       "    </tr>\n",
       "    <tr>\n",
       "      <td>21</td>\n",
       "      <td>0.664700</td>\n",
       "    </tr>\n",
       "    <tr>\n",
       "      <td>22</td>\n",
       "      <td>0.828800</td>\n",
       "    </tr>\n",
       "    <tr>\n",
       "      <td>23</td>\n",
       "      <td>0.614600</td>\n",
       "    </tr>\n",
       "    <tr>\n",
       "      <td>24</td>\n",
       "      <td>0.599200</td>\n",
       "    </tr>\n",
       "    <tr>\n",
       "      <td>25</td>\n",
       "      <td>0.462400</td>\n",
       "    </tr>\n",
       "    <tr>\n",
       "      <td>26</td>\n",
       "      <td>0.549300</td>\n",
       "    </tr>\n",
       "    <tr>\n",
       "      <td>27</td>\n",
       "      <td>0.565400</td>\n",
       "    </tr>\n",
       "    <tr>\n",
       "      <td>28</td>\n",
       "      <td>0.364000</td>\n",
       "    </tr>\n",
       "    <tr>\n",
       "      <td>29</td>\n",
       "      <td>0.379700</td>\n",
       "    </tr>\n",
       "    <tr>\n",
       "      <td>30</td>\n",
       "      <td>0.295400</td>\n",
       "    </tr>\n",
       "    <tr>\n",
       "      <td>31</td>\n",
       "      <td>0.287100</td>\n",
       "    </tr>\n",
       "    <tr>\n",
       "      <td>32</td>\n",
       "      <td>0.227000</td>\n",
       "    </tr>\n",
       "    <tr>\n",
       "      <td>33</td>\n",
       "      <td>0.254000</td>\n",
       "    </tr>\n",
       "    <tr>\n",
       "      <td>34</td>\n",
       "      <td>0.183000</td>\n",
       "    </tr>\n",
       "    <tr>\n",
       "      <td>35</td>\n",
       "      <td>0.114700</td>\n",
       "    </tr>\n",
       "    <tr>\n",
       "      <td>36</td>\n",
       "      <td>0.179400</td>\n",
       "    </tr>\n",
       "    <tr>\n",
       "      <td>37</td>\n",
       "      <td>0.141300</td>\n",
       "    </tr>\n",
       "    <tr>\n",
       "      <td>38</td>\n",
       "      <td>0.079800</td>\n",
       "    </tr>\n",
       "    <tr>\n",
       "      <td>39</td>\n",
       "      <td>0.071200</td>\n",
       "    </tr>\n",
       "    <tr>\n",
       "      <td>40</td>\n",
       "      <td>0.096700</td>\n",
       "    </tr>\n",
       "    <tr>\n",
       "      <td>41</td>\n",
       "      <td>0.094400</td>\n",
       "    </tr>\n",
       "    <tr>\n",
       "      <td>42</td>\n",
       "      <td>0.036000</td>\n",
       "    </tr>\n",
       "    <tr>\n",
       "      <td>43</td>\n",
       "      <td>0.030400</td>\n",
       "    </tr>\n",
       "    <tr>\n",
       "      <td>44</td>\n",
       "      <td>0.064700</td>\n",
       "    </tr>\n",
       "    <tr>\n",
       "      <td>45</td>\n",
       "      <td>0.057000</td>\n",
       "    </tr>\n",
       "    <tr>\n",
       "      <td>46</td>\n",
       "      <td>0.017800</td>\n",
       "    </tr>\n",
       "    <tr>\n",
       "      <td>47</td>\n",
       "      <td>0.025300</td>\n",
       "    </tr>\n",
       "    <tr>\n",
       "      <td>48</td>\n",
       "      <td>0.040700</td>\n",
       "    </tr>\n",
       "    <tr>\n",
       "      <td>49</td>\n",
       "      <td>0.031600</td>\n",
       "    </tr>\n",
       "    <tr>\n",
       "      <td>50</td>\n",
       "      <td>0.013800</td>\n",
       "    </tr>\n",
       "    <tr>\n",
       "      <td>51</td>\n",
       "      <td>0.015500</td>\n",
       "    </tr>\n",
       "    <tr>\n",
       "      <td>52</td>\n",
       "      <td>0.034400</td>\n",
       "    </tr>\n",
       "    <tr>\n",
       "      <td>53</td>\n",
       "      <td>0.019200</td>\n",
       "    </tr>\n",
       "    <tr>\n",
       "      <td>54</td>\n",
       "      <td>0.018300</td>\n",
       "    </tr>\n",
       "    <tr>\n",
       "      <td>55</td>\n",
       "      <td>0.018100</td>\n",
       "    </tr>\n",
       "    <tr>\n",
       "      <td>56</td>\n",
       "      <td>0.012300</td>\n",
       "    </tr>\n",
       "    <tr>\n",
       "      <td>57</td>\n",
       "      <td>0.010100</td>\n",
       "    </tr>\n",
       "    <tr>\n",
       "      <td>58</td>\n",
       "      <td>0.017600</td>\n",
       "    </tr>\n",
       "    <tr>\n",
       "      <td>59</td>\n",
       "      <td>0.017600</td>\n",
       "    </tr>\n",
       "    <tr>\n",
       "      <td>60</td>\n",
       "      <td>0.008300</td>\n",
       "    </tr>\n",
       "  </tbody>\n",
       "</table><p>"
      ]
     },
     "metadata": {},
     "output_type": "display_data"
    }
   ],
   "execution_count": 47
  },
  {
   "metadata": {
    "ExecuteTime": {
     "end_time": "2025-03-11T10:14:51.201290Z",
     "start_time": "2025-03-11T10:14:51.199221Z"
    }
   },
   "cell_type": "code",
   "source": "",
   "id": "da0ffeec0f16e572",
   "outputs": [],
   "execution_count": null
  },
  {
   "metadata": {},
   "cell_type": "markdown",
   "source": "## Inference",
   "id": "11fb2a13e89393fb"
  },
  {
   "metadata": {
    "ExecuteTime": {
     "end_time": "2025-03-11T10:17:49.082295Z",
     "start_time": "2025-03-11T10:17:49.057020Z"
    }
   },
   "cell_type": "code",
   "source": [
    "from unsloth.chat_templates import get_chat_template\n",
    "\n",
    "tokenizer = get_chat_template(\n",
    "    tokenizer,\n",
    "    chat_template = \"llama-3.1\",\n",
    ")\n",
    "\n",
    "FastLanguageModel.for_inference(model)\n",
    "\n",
    "messages = [\n",
    "    {\"role\" : \"user\", \"content\" : \"what is framenet for the task - cut the apple with knife, return it in lisp format\"}\n",
    "]\n",
    "\n",
    "inputs = tokenizer.apply_chat_template(\n",
    "    messages,\n",
    "    tokenize = True,\n",
    "    add_generation_prompt = True,\n",
    "    return_tensors = \"pt\",\n",
    ").to(\"cuda\")"
   ],
   "id": "c6363dd2f97d7d86",
   "outputs": [],
   "execution_count": 56
  },
  {
   "metadata": {
    "ExecuteTime": {
     "end_time": "2025-03-11T10:17:50.120441Z",
     "start_time": "2025-03-11T10:17:49.439896Z"
    }
   },
   "cell_type": "code",
   "source": "outputs = model.generate(input_ids = inputs, max_new_tokens = 64, use_cache = True, temperature = 1.5, min_p = 0.1)",
   "id": "812ac926d0b8479b",
   "outputs": [],
   "execution_count": 57
  },
  {
   "metadata": {
    "ExecuteTime": {
     "end_time": "2025-03-11T10:17:52.086882Z",
     "start_time": "2025-03-11T10:17:52.081999Z"
    }
   },
   "cell_type": "code",
   "source": "text = tokenizer.batch_decode(outputs, skip_special_tokens = True)",
   "id": "8cce12c1cdbee81f",
   "outputs": [],
   "execution_count": 58
  },
  {
   "metadata": {
    "ExecuteTime": {
     "end_time": "2025-03-11T10:17:52.984302Z",
     "start_time": "2025-03-11T10:17:52.982483Z"
    }
   },
   "cell_type": "code",
   "source": "print(text)",
   "id": "f1a750b78e9f4a2c",
   "outputs": [
    {
     "name": "stdout",
     "output_type": "stream",
     "text": [
      "['system\\n\\nCutting Knowledge Date: December 2023\\nToday Date: 26 July 2024\\n\\nuser\\n\\nwhat is framenet for the task - cut the apple with knife, return it in lisp formatassistant\\n\\n(fixed-action-model)\\n(action (cut-apple (knife) (apple)) (result (pieces) (size) (quantity)) (outcome (successful-cut true) (error-type none) (error-description none)))']\n"
     ]
    }
   ],
   "execution_count": 59
  },
  {
   "metadata": {},
   "cell_type": "code",
   "outputs": [],
   "execution_count": null,
   "source": "",
   "id": "f146cab7554250b2"
  }
 ],
 "metadata": {
  "kernelspec": {
   "display_name": "unsloth_finetune",
   "language": "python",
   "name": "finetune"
  },
  "language_info": {
   "codemirror_mode": {
    "name": "ipython",
    "version": 2
   },
   "file_extension": ".py",
   "mimetype": "text/x-python",
   "name": "python",
   "nbconvert_exporter": "python",
   "pygments_lexer": "ipython2",
   "version": "2.7.6"
  }
 },
 "nbformat": 4,
 "nbformat_minor": 5
}
