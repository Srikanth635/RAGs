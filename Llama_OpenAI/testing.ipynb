{
 "cells": [
  {
   "cell_type": "code",
   "id": "initial_id",
   "metadata": {
    "collapsed": true,
    "ExecuteTime": {
     "end_time": "2024-10-30T11:27:23.464473Z",
     "start_time": "2024-10-30T11:27:23.462552Z"
    }
   },
   "source": [
    "import threading\n",
    "import time\n",
    "import socket"
   ],
   "outputs": [],
   "execution_count": 2
  },
  {
   "metadata": {
    "ExecuteTime": {
     "end_time": "2024-10-30T11:35:13.190327Z",
     "start_time": "2024-10-30T11:35:13.188120Z"
    }
   },
   "cell_type": "code",
   "source": [
    "# FOR RECEIVING/LISTENING\n",
    "HOST = 'localhost'  # Standard loopback interface address (localhost)\n",
    "PORT = 65432        # Port to listen on (non-privileged ports are > 1023)\n",
    "received = []\n",
    "current_rcv = \"\"\n",
    "condition = True\n",
    "\n",
    "def receiving():\n",
    "    with socket.socket(socket.AF_INET, socket.SOCK_STREAM) as s:\n",
    "        s.bind((HOST, PORT))\n",
    "        s.listen()\n",
    "        conn, addr = s.accept()\n",
    "        with conn:\n",
    "            print('Connected by', addr)\n",
    "            while True:\n",
    "                data = conn.recv(1024)\n",
    "                if not data:\n",
    "                    break\n",
    "                # print(new_logs.decode())\n",
    "                current_rcv = data.decode()\n",
    "                received.append(data.decode())"
   ],
   "id": "c4c3536a7b9a7c12",
   "outputs": [],
   "execution_count": 9
  },
  {
   "metadata": {
    "ExecuteTime": {
     "end_time": "2024-10-30T11:35:27.929207Z",
     "start_time": "2024-10-30T11:35:27.927066Z"
    }
   },
   "cell_type": "code",
   "source": [
    "rcv = threading.Thread(target=receiving)\n",
    "rcv.start()"
   ],
   "id": "d9f8c4fdd106e3de",
   "outputs": [],
   "execution_count": 10
  },
  {
   "metadata": {
    "ExecuteTime": {
     "end_time": "2024-10-30T11:36:46.290814Z",
     "start_time": "2024-10-30T11:36:46.288086Z"
    }
   },
   "cell_type": "code",
   "source": "print(len(received))",
   "id": "ee6eead8c6d5f958",
   "outputs": [
    {
     "name": "stdout",
     "output_type": "stream",
     "text": [
      "7\n"
     ]
    }
   ],
   "execution_count": 59
  },
  {
   "metadata": {
    "ExecuteTime": {
     "end_time": "2024-10-30T11:36:41.335566Z",
     "start_time": "2024-10-30T11:36:41.333563Z"
    }
   },
   "cell_type": "code",
   "source": "rcv.join()",
   "id": "b2eea231efe8bed6",
   "outputs": [],
   "execution_count": 57
  },
  {
   "metadata": {
    "ExecuteTime": {
     "end_time": "2024-10-30T11:36:41.791Z",
     "start_time": "2024-10-30T11:36:41.788117Z"
    }
   },
   "cell_type": "code",
   "source": "rcv.is_alive()",
   "id": "27a20fba0b158eda",
   "outputs": [
    {
     "data": {
      "text/plain": [
       "False"
      ]
     },
     "execution_count": 58,
     "metadata": {},
     "output_type": "execute_result"
    }
   ],
   "execution_count": 58
  },
  {
   "metadata": {
    "ExecuteTime": {
     "end_time": "2024-10-30T11:36:52.031994Z",
     "start_time": "2024-10-30T11:36:52.029779Z"
    }
   },
   "cell_type": "code",
   "source": "print(received)",
   "id": "1586b008deb08e16",
   "outputs": [
    {
     "name": "stdout",
     "output_type": "stream",
     "text": [
      "['{\\'floor\\': ObjectState(pose=header: \\n  seq: 0\\n  stamp: \\n    secs: 1730288148\\n    nsecs: 489877700\\n  frame_id: \"map\"\\npose: \\n  position: \\n    x: 0.0\\n    y: 0.0\\n    z: 0.0\\n  orientation: \\n    x: 0.0\\n    y: 0.0\\n    z: 0.0\\n    w: 1.0, attachments={}, link_states={-1: LinkState(constraint_ids={})}, joint_states={}, acceptable_pose_error=(0.01, 0.17453292519943295)), \\'milk\\': ObjectState(pose=header: \\n  seq: 0\\n  stamp: \\n    secs: 1730288148\\n    nsecs: 489975214\\n  frame_id: \"map\"\\npose: \\n  position: \\n    x: 0.0\\n    y: 0.0\\n    z: 1.0\\n  orientation: \\n    x: 0.0\\n    y: 0.0\\n    z: 0.0\\n    w: 1.0, attachments={}, link_states={-1: LinkState(constraint_ids={})}, joint_states={}, acceptable_pose_error=(0.01, 0.17453292519943295))}', '{\\'floor\\': ObjectState(pose=header: \\n  seq: 0\\n  stamp: \\n    secs: 1730288153\\n    nsecs: 495000600\\n  frame_id: \"map\"\\npose: \\n  position: \\n    x: 0.0\\n    y: 0.0\\n    z: 0.0\\n  orientation: \\n    x: 0.0\\n    y: 0.0\\n    z: 0.0\\n    w: 1.0, attachments={}, link_states={-1: LinkState(constraint_ids={})}, joint_states={}, acceptable_pose_error=(0.01, 0.17453292519943295)), \\'milk\\': ObjectState(pose=header: \\n  seq: 0\\n  stamp: \\n    secs: 1730288153\\n    nsecs: 495112419\\n  frame_id: \"map\"\\npose: \\n  position: \\n    x: 0.0\\n    y: 0.0\\n    z: 1.0\\n  orientation: \\n    x: 0.0\\n    y: 0.0\\n    z: 0.0\\n    w: 1.0, attachments={}, link_states={-1: LinkState(constraint_ids={})}, joint_states={}, acceptable_pose_error=(0.01, 0.17453292519943295))}', '{\\'floor\\': ObjectState(pose=header: \\n  seq: 0\\n  stamp: \\n    secs: 1730288158\\n    nsecs: 498987674\\n  frame_id: \"map\"\\npose: \\n  position: \\n    x: 0.0\\n    y: 0.0\\n    z: 0.0\\n  orientation: \\n    x: 0.0\\n    y: 0.0\\n    z: 0.0\\n    w: 1.0, attachments={}, link_states={-1: LinkState(constraint_ids={})}, joint_states={}, acceptable_pose_error=(0.01, 0.17453292519943295)), \\'milk\\': ObjectState(pose=header: \\n  seq: 0\\n  stamp: \\n    secs: 1730288158\\n    nsecs: 499091386\\n  frame_id: \"map\"\\npose: \\n  position: \\n    x: 0.0\\n    y: 0.0\\n    z: 1.0\\n  orientation: \\n    x: 0.0\\n    y: 0.0\\n    z: 0.0\\n    w: 1.0, attachments={}, link_states={-1: LinkState(constraint_ids={})}, joint_states={}, acceptable_pose_error=(0.01, 0.17453292519943295))}', '{\\'floor\\': ObjectState(pose=header: \\n  seq: 0\\n  stamp: \\n    secs: 1730288163\\n    nsecs: 502973556\\n  frame_id: \"map\"\\npose: \\n  position: \\n    x: 0.0\\n    y: 0.0\\n    z: 0.0\\n  orientation: \\n    x: 0.0\\n    y: 0.0\\n    z: 0.0\\n    w: 1.0, attachments={}, link_states={-1: LinkState(constraint_ids={})}, joint_states={}, acceptable_pose_error=(0.01, 0.17453292519943295)), \\'milk\\': ObjectState(pose=header: \\n  seq: 0\\n  stamp: \\n    secs: 1730288163\\n    nsecs: 503079891\\n  frame_id: \"map\"\\npose: \\n  position: \\n    x: 0.0\\n    y: 0.0\\n    z: 1.0\\n  orientation: \\n    x: 0.0\\n    y: 0.0\\n    z: 0.0\\n    w: 1.0, attachments={}, link_states={-1: LinkState(constraint_ids={})}, joint_states={}, acceptable_pose_error=(0.01, 0.17453292519943295))}', '{\\'floor\\': ObjectState(pose=header: \\n  seq: 0\\n  stamp: \\n    secs: 1730288168\\n    nsecs: 508465051\\n  frame_id: \"map\"\\npose: \\n  position: \\n    x: 0.0\\n    y: 0.0\\n    z: 0.0\\n  orientation: \\n    x: 0.0\\n    y: 0.0\\n    z: 0.0\\n    w: 1.0, attachments={}, link_states={-1: LinkState(constraint_ids={})}, joint_states={}, acceptable_pose_error=(0.01, 0.17453292519943295)), \\'milk\\': ObjectState(pose=header: \\n  seq: 0\\n  stamp: \\n    secs: 1730288168\\n    nsecs: 508554458\\n  frame_id: \"map\"\\npose: \\n  position: \\n    x: 0.0\\n    y: 0.0\\n    z: 1.0\\n  orientation: \\n    x: 0.0\\n    y: 0.0\\n    z: 0.0\\n    w: 1.0, attachments={}, link_states={-1: LinkState(constraint_ids={})}, joint_states={}, acceptable_pose_error=(0.01, 0.17453292519943295))}', '{\\'floor\\': ObjectState(pose=header: \\n  seq: 0\\n  stamp: \\n    secs: 1730288173\\n    nsecs: 513913631\\n  frame_id: \"map\"\\npose: \\n  position: \\n    x: 0.0\\n    y: 0.0\\n    z: 0.0\\n  orientation: \\n    x: 0.0\\n    y: 0.0\\n    z: 0.0\\n    w: 1.0, attachments={}, link_states={-1: LinkState(constraint_ids={})}, joint_states={}, acceptable_pose_error=(0.01, 0.17453292519943295)), \\'milk\\': ObjectState(pose=header: \\n  seq: 0\\n  stamp: \\n    secs: 1730288173\\n    nsecs: 514021873\\n  frame_id: \"map\"\\npose: \\n  position: \\n    x: 0.0\\n    y: 0.0\\n    z: 1.0\\n  orientation: \\n    x: 0.0\\n    y: 0.0\\n    z: 0.0\\n    w: 1.0, attachments={}, link_states={-1: LinkState(constraint_ids={})}, joint_states={}, acceptable_pose_error=(0.01, 0.17453292519943295))}', '{\\'floor\\': ObjectState(pose=header: \\n  seq: 0\\n  stamp: \\n    secs: 1730288178\\n    nsecs: 518979787\\n  frame_id: \"map\"\\npose: \\n  position: \\n    x: 0.0\\n    y: 0.0\\n    z: 0.0\\n  orientation: \\n    x: 0.0\\n    y: 0.0\\n    z: 0.0\\n    w: 1.0, attachments={}, link_states={-1: LinkState(constraint_ids={})}, joint_states={}, acceptable_pose_error=(0.01, 0.17453292519943295)), \\'milk\\': ObjectState(pose=header: \\n  seq: 0\\n  stamp: \\n    secs: 1730288178\\n    nsecs: 519083499\\n  frame_id: \"map\"\\npose: \\n  position: \\n    x: 0.0\\n    y: 0.0\\n    z: 1.0\\n  orientation: \\n    x: 0.0\\n    y: 0.0\\n    z: 0.0\\n    w: 1.0, attachments={}, link_states={-1: LinkState(constraint_ids={})}, joint_states={}, acceptable_pose_error=(0.01, 0.17453292519943295))}']\n"
     ]
    }
   ],
   "execution_count": 60
  }
 ],
 "metadata": {
  "kernelspec": {
   "display_name": "Python 3",
   "language": "python",
   "name": "python3"
  },
  "language_info": {
   "codemirror_mode": {
    "name": "ipython",
    "version": 2
   },
   "file_extension": ".py",
   "mimetype": "text/x-python",
   "name": "python",
   "nbconvert_exporter": "python",
   "pygments_lexer": "ipython2",
   "version": "2.7.6"
  }
 },
 "nbformat": 4,
 "nbformat_minor": 5
}
